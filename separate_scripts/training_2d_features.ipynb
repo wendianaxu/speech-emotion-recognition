{
  "cells": [
    {
      "cell_type": "markdown",
      "metadata": {
        "id": "view-in-github",
        "colab_type": "text"
      },
      "source": [
        "<a href=\"https://colab.research.google.com/github/wendianaxu/speech-emotion-recognition/blob/main/training_2d_features.ipynb\" target=\"_parent\"><img src=\"https://colab.research.google.com/assets/colab-badge.svg\" alt=\"Open In Colab\"/></a>"
      ]
    },
    {
      "cell_type": "code",
      "execution_count": null,
      "metadata": {
        "id": "EwhgQXLPc-S1"
      },
      "outputs": [],
      "source": [
        "import librosa\n",
        "import os\n",
        "import numpy as np\n",
        "import matplotlib.pyplot as plt"
      ]
    },
    {
      "cell_type": "code",
      "execution_count": null,
      "metadata": {
        "id": "7gLHkEMSf-za",
        "colab": {
          "base_uri": "https://localhost:8080/"
        },
        "outputId": "53359f4e-b477-47bc-e237-0f3238d699d4"
      },
      "outputs": [
        {
          "output_type": "stream",
          "name": "stdout",
          "text": [
            "Mounted at /content/drive\n"
          ]
        }
      ],
      "source": [
        "from google.colab import drive\n",
        "drive.mount('/content/drive')"
      ]
    },
    {
      "cell_type": "code",
      "execution_count": null,
      "metadata": {
        "colab": {
          "base_uri": "https://localhost:8080/"
        },
        "id": "zJ3NhGjceXB4",
        "outputId": "cdda8c12-844f-4930-d202-d2d39c34c636"
      },
      "outputs": [
        {
          "output_type": "stream",
          "name": "stdout",
          "text": [
            "Cloning into 'speech-emotion-recognition'...\n",
            "remote: Enumerating objects: 1525, done.\u001b[K\n",
            "remote: Counting objects: 100% (56/56), done.\u001b[K\n",
            "remote: Compressing objects: 100% (41/41), done.\u001b[K\n",
            "remote: Total 1525 (delta 22), reused 31 (delta 9), pack-reused 1469\u001b[K\n",
            "Receiving objects: 100% (1525/1525), 213.92 MiB | 16.28 MiB/s, done.\n",
            "Resolving deltas: 100% (261/261), done.\n",
            "Updating files: 100% (1445/1445), done.\n"
          ]
        }
      ],
      "source": [
        "!git clone https://github.com/wendianaxu/speech-emotion-recognition.git"
      ]
    },
    {
      "cell_type": "code",
      "source": [
        "# copy directory to drive\n",
        "!cp -r \"/content/speech-emotion-recognition\" \"/content/drive/MyDrive\""
      ],
      "metadata": {
        "id": "XWYcc00n2QMb"
      },
      "execution_count": null,
      "outputs": []
    },
    {
      "cell_type": "code",
      "execution_count": 16,
      "metadata": {
        "id": "GNAcBeb1eV-U"
      },
      "outputs": [],
      "source": [
        "# test: load an audio file, extract mfccs, and visualize\n",
        "\n",
        "test_file = \"/content/drive/MyDrive/speech-emotion-recognition/RAVDESS_data/Actor_01/03-01-01-01-01-02-01.wav\"\n",
        "n_mfcc = 30\n",
        "sr = 22050 # sampling rate\n"
      ]
    },
    {
      "cell_type": "code",
      "source": [
        "# visualize mfccs\n",
        "audio, sampling_rate = librosa.load(test_file, sr=sr, duration=None)\n",
        "test_mfccs = librosa.feature.mfcc(y=audio, sr=sr, n_mfcc=n_mfcc)\n",
        "\n",
        "plt.figure(figsize=(10, 5))\n",
        "librosa.display.specshow(test_mfccs, \n",
        "                         x_axis=\"time\", \n",
        "                         sr=sr)\n",
        "plt.colorbar(format=\"%+2.f\")\n",
        "plt.show()"
      ],
      "metadata": {
        "id": "swMzgoDxqFIk",
        "colab": {
          "base_uri": "https://localhost:8080/",
          "height": 465
        },
        "outputId": "bd907679-8946-435f-9277-c510d3ad1d2c"
      },
      "execution_count": 17,
      "outputs": [
        {
          "output_type": "display_data",
          "data": {
            "text/plain": [
              "<Figure size 1000x500 with 2 Axes>"
            ],
            "image/png": "[encoded data removed]"
          },
          "metadata": {}
        }
      ]
    },
    {
      "cell_type": "code",
      "execution_count": 25,
      "metadata": {
        "id": "aRo0EShAwUTP",
        "colab": {
          "base_uri": "https://localhost:8080/"
        },
        "outputId": "1e0fc205-5cf5-498a-8228-906fe26f5aa6"
      },
      "outputs": [
        {
          "output_type": "execute_result",
          "data": {
            "text/plain": [
              "(30, 53)"
            ]
          },
          "metadata": {},
          "execution_count": 25
        }
      ],
      "source": [
        "# function for loading an audio file\n",
        "data_path = \"/content/drive/MyDrive/speech-emotion-recognition/RAVDESS_data/\"\n",
        "def load_file(path):\n",
        "  '''\n",
        "  Load one audio file and return a 1D array containing its mfccs averaged across time\n",
        "  '''\n",
        "  audio, sampling_rate = librosa.load(path, sr=sr, duration=None)\n",
        "  # trim out silent moments from the audio\n",
        "  audio, index = librosa.effects.trim(audio, top_db=20, frame_length=512, hop_length=512)\n",
        "  mfccs = librosa.feature.mfcc(y=audio, sr=sr, n_mfcc=n_mfcc) # extract MFCC matrix (cols = coefficients, rows = time)\n",
        "\n",
        "  # unify sizes\n",
        "\n",
        "  return mfccs\n",
        "\n",
        "load_file(test_file).shape"
      ]
    },
    {
      "cell_type": "code",
      "execution_count": 22,
      "metadata": {
        "id": "12Sp_TsXp52s"
      },
      "outputs": [],
      "source": [
        "# find out the max time length of trimmed audio files\n",
        "def find_max_len(path):\n",
        "  max_len = 0 # max duration of trimmed data\n",
        "  for folder in os.listdir(path): # each folder = one actor\n",
        "      for file in os.listdir(os.path.join(path, folder)):\n",
        "          if file.endswith('.wav'):\n",
        "              file_path = os.path.join(path, folder, file)\n",
        "              features = load_file(file_path)\n",
        "              features_len = features.shape[1]\n",
        "              if max_len < features_len:\n",
        "                max_len = features_len\n",
        "  return max_len"
      ]
    },
    {
      "cell_type": "code",
      "source": [
        "max_len = find_max_len(data_path)\n",
        "max_len"
      ],
      "metadata": {
        "colab": {
          "base_uri": "https://localhost:8080/"
        },
        "id": "aEwQeZc5Pynq",
        "outputId": "14a92610-8198-40c7-b2b1-68e38ba6ad99"
      },
      "execution_count": 21,
      "outputs": [
        {
          "output_type": "execute_result",
          "data": {
            "text/plain": [
              "144"
            ]
          },
          "metadata": {},
          "execution_count": 21
        }
      ]
    },
    {
      "cell_type": "code",
      "source": [
        "# redefine load_file() so that all feature matrices have the size (n_mfccs, max_len)\n",
        "def load_file(path):\n",
        "  '''\n",
        "  Load one audio file and return a 1D array containing its mfccs averaged across time\n",
        "  '''\n",
        "  audio, sampling_rate = librosa.load(path, sr=sr, duration=None)\n",
        "  # trim out silent moments from the audio\n",
        "  audio, index = librosa.effects.trim(audio, top_db=20, frame_length=512, hop_length=512)\n",
        "  mfccs = librosa.feature.mfcc(y=audio, sr=sr, n_mfcc=n_mfcc) # extract MFCC matrix (cols = coefficients, rows = time)\n",
        "\n",
        "  # unify sizes\n",
        "  if max_len > mfccs.shape[1]: # pad matrices that are shorter than max_len\n",
        "    pad_width = max_len - mfccs.shape[1]\n",
        "    mfccs = np.pad(mfccs, pad_width=((0, 0), (0, pad_width)), mode='constant')\n",
        "\n",
        "  return mfccs"
      ],
      "metadata": {
        "id": "AClYuCbWSh7a"
      },
      "execution_count": 31,
      "outputs": []
    },
    {
      "cell_type": "code",
      "source": [
        "def preprocess_data(path):\n",
        "  '''\n",
        "  Preprocess data in all folders within the dataset. \n",
        "  '''\n",
        "  X = []\n",
        "  y = []\n",
        "  for folder in os.listdir(path): # each folder = one actor\n",
        "      for file in os.listdir(os.path.join(path, folder)):\n",
        "          if file.endswith('.wav'):\n",
        "              emotion = file.split('-')[2] # get emotion label\n",
        "              if int(emotion) == 1:\n",
        "                  label = 'Neutral'\n",
        "              elif int(emotion) == 2:\n",
        "                  label = 'Calm'\n",
        "              elif int(emotion) == 3:\n",
        "                  label = 'Happy'\n",
        "              elif int(emotion) == 4:\n",
        "                  label = 'Sad'\n",
        "              elif int(emotion) == 5:\n",
        "                  label = 'Angry'\n",
        "              elif int(emotion) == 6:\n",
        "                  label = 'Fearful'\n",
        "              elif int(emotion) == 7:\n",
        "                  label = 'Disgust'\n",
        "              elif int(emotion) == 8:\n",
        "                  label = 'Surprised'\n",
        "              else:\n",
        "                  label = 'UNK'\n",
        "                  \n",
        "              file_path = os.path.join(path, folder, file)\n",
        "              features = load_file(file_path)\n",
        "              X.append(features)\n",
        "              y.append(label)\n",
        "  return np.array(X), np.array(y)"
      ],
      "metadata": {
        "id": "iWSrVZ_cRiju"
      },
      "execution_count": 33,
      "outputs": []
    },
    {
      "cell_type": "code",
      "execution_count": 34,
      "metadata": {
        "id": "FU1ANDxI0dvC",
        "colab": {
          "base_uri": "https://localhost:8080/"
        },
        "outputId": "42229d0f-693e-410c-af1b-9f2695f3cb45"
      },
      "outputs": [
        {
          "output_type": "stream",
          "name": "stdout",
          "text": [
            "Shape of X: (1440, 30, 144)\n",
            "Shape of y: (1440,)\n"
          ]
        }
      ],
      "source": [
        "X, y = preprocess_data(data_path)\n",
        "print(\"Shape of X:\", X.shape)\n",
        "print(\"Shape of y:\", y.shape)"
      ]
    },
    {
      "cell_type": "code",
      "source": [
        "# one-hot encode labels\n",
        "from sklearn.preprocessing import OneHotEncoder\n",
        "OHE = OneHotEncoder()\n",
        "\n",
        "y = np.array(y).reshape(-1,1)\n",
        "y = OHE.fit_transform(y).toarray()"
      ],
      "metadata": {
        "id": "IV2uPPlZ8GCK"
      },
      "execution_count": 35,
      "outputs": []
    },
    {
      "cell_type": "code",
      "source": [
        "# save X, y\n",
        "np.save('/content/drive/MyDrive/speech-emotion-recognition/X_2d.npy', X)\n",
        "np.save('/content/drive/MyDrive/speech-emotion-recognition/y.npy', y)"
      ],
      "metadata": {
        "id": "yOt4ie_7u1ZZ"
      },
      "execution_count": 36,
      "outputs": []
    },
    {
      "cell_type": "code",
      "source": [
        "# load X, y\n",
        "X = np.load('/content/drive/MyDrive/speech-emotion-recognition/X_2d.npy')\n",
        "y = np.load('/content/drive/MyDrive/speech-emotion-recognition/y.npy')\n",
        "print(X.shape, y.shape)"
      ],
      "metadata": {
        "id": "bTFdRKqmvRBk",
        "colab": {
          "base_uri": "https://localhost:8080/"
        },
        "outputId": "52d088cf-6288-4f16-901e-d6ac7e3cedf5"
      },
      "execution_count": 88,
      "outputs": [
        {
          "output_type": "stream",
          "name": "stdout",
          "text": [
            "(1440, 30, 144) (1440, 8)\n"
          ]
        }
      ]
    },
    {
      "cell_type": "code",
      "source": [
        "# train-test split\n",
        "from sklearn.model_selection import train_test_split\n",
        "X_train, X_test, y_train, y_test = train_test_split(\n",
        "    X, y, test_size=0.2, random_state=0)"
      ],
      "metadata": {
        "id": "qoEI7uQMZu-6"
      },
      "execution_count": 89,
      "outputs": []
    },
    {
      "cell_type": "code",
      "source": [
        "# CNN with torch\n",
        "import torch.nn as nn\n",
        "import torch.nn.functional as F\n",
        "import torchaudio\n",
        "from torchsummary import summary\n",
        "import torch\n",
        "\n",
        "device = torch.device('cuda:0' if torch.cuda.is_available() else 'cpu')"
      ],
      "metadata": {
        "id": "AqbfO9HWA0Z7"
      },
      "execution_count": 39,
      "outputs": []
    },
    {
      "cell_type": "code",
      "source": [
        "# transform preprocessed data to Dataset class\n",
        "from torch.utils.data import TensorDataset, DataLoader\n",
        "from torch import Tensor\n",
        "\n",
        "# transform arrays to torch tensors\n",
        "X_train = Tensor(X_train).unsqueeze(1) # add channel = 1\n",
        "y_train = Tensor(y_train)\n",
        "X_test = Tensor(X_test).unsqueeze(1) # add channel = 1\n",
        "y_test = Tensor(y_test)\n",
        "\n",
        "train_set = TensorDataset(X_train, y_train) \n",
        "test_set = TensorDataset(X_test, y_test) \n"
      ],
      "metadata": {
        "id": "-hBDtuYDz0Ta"
      },
      "execution_count": 90,
      "outputs": []
    },
    {
      "cell_type": "code",
      "source": [
        "X_train.shape"
      ],
      "metadata": {
        "colab": {
          "base_uri": "https://localhost:8080/"
        },
        "id": "GonHPEnPfedB",
        "outputId": "dd8eb44f-b95a-44cd-ac58-830e9cc033de"
      },
      "execution_count": 91,
      "outputs": [
        {
          "output_type": "execute_result",
          "data": {
            "text/plain": [
              "torch.Size([1152, 1, 30, 144])"
            ]
          },
          "metadata": {},
          "execution_count": 91
        }
      ]
    },
    {
      "cell_type": "code",
      "source": [
        "# create DataLoaders\n",
        "batch_size = 16\n",
        "\n",
        "train_loader = DataLoader(train_set, batch_size = batch_size, \n",
        "                          shuffle = True, num_workers = 2)\n",
        "test_loader = DataLoader(test_set, batch_size = batch_size, \n",
        "                          shuffle = True, num_workers = 2)"
      ],
      "metadata": {
        "id": "6YK4WevZAy08"
      },
      "execution_count": 93,
      "outputs": []
    },
    {
      "cell_type": "code",
      "source": [
        "X, y = next(iter(train_loader))\n",
        "print(X.shape, y.shape) "
      ],
      "metadata": {
        "colab": {
          "base_uri": "https://localhost:8080/"
        },
        "id": "PaoodRZGUEUg",
        "outputId": "1a6a5770-18fd-4c7d-97c4-e97ab18d3e79"
      },
      "execution_count": 94,
      "outputs": [
        {
          "output_type": "stream",
          "name": "stdout",
          "text": [
            "torch.Size([16, 1, 30, 144]) torch.Size([16, 8])\n"
          ]
        }
      ]
    },
    {
      "cell_type": "code",
      "source": [
        "# training loop\n",
        "import torch.optim as optim\n",
        "\n",
        "def train(model, k_epochs = 1, print_every = 20):\n",
        "\n",
        "    loss_fn = nn.CrossEntropyLoss() \n",
        "    optimizer = optim.Adam(model.parameters(), lr=0.001)\n",
        "\n",
        "    correct, total = 0, 0\n",
        "\n",
        "    for epoch in range(k_epochs): \n",
        "\n",
        "        running_loss = 0.0\n",
        "        for i, data in enumerate(train_loader, 0):\n",
        "\n",
        "            # extract a batch of training data from the data loader\n",
        "            X, y = data\n",
        "            X = X.to(device)\n",
        "            y = y.to(device)\n",
        "\n",
        "            # zero out gradients: we're going to recompute them in a moment\n",
        "            optimizer.zero_grad()\n",
        "\n",
        "            # compute the loss (forward pass)\n",
        "            y_hat = model(X)\n",
        "            loss = loss_fn(y_hat, y)\n",
        "\n",
        "            # compute the gradient (backward pass)\n",
        "            loss.backward()\n",
        "\n",
        "            # Adam uses the gradient to update the parameters\n",
        "            optimizer.step()\n",
        "\n",
        "            # print statistics\n",
        "            running_loss += loss.item()\n",
        "\n",
        "            # for printing accuracy\n",
        "            total += y.size(0)\n",
        "            correct += (torch.argmax(y_hat, dim=1) == torch.argmax(y, dim=1)).sum().item()\n",
        "\n",
        "            # print the epoch, number of batches processed, and running loss \n",
        "            # in regular intervals\n",
        "            if i % print_every == print_every - 1:    \n",
        "              print(f'[epoch: {epoch + 1}, batches: {i + 1:5d}], loss: {running_loss / print_every:.3f}, accuracy:{correct/total:.3f}')\n",
        "              running_loss = 0.0\n",
        "\n",
        "    print('Finished Training')\n",
        "\n"
      ],
      "metadata": {
        "id": "9fiaCcRzom_K"
      },
      "execution_count": 50,
      "outputs": []
    },
    {
      "cell_type": "code",
      "source": [
        "# testing loop\n",
        "def test(model, data_loader):\n",
        "    correct = 0\n",
        "    total = 0\n",
        "    # torch.no_grad creates an environment in which we do NOT store the \n",
        "    # computational graph. We don't need to do this because we don't care about \n",
        "    # gradients unless we're training\n",
        "    with torch.no_grad():\n",
        "        for data in data_loader:\n",
        "            X, y = data\n",
        "            X = X.to(device)\n",
        "            y = y.to(device)\n",
        "            \n",
        "            # run all the images through the model\n",
        "            y_hat = model(X)\n",
        "\n",
        "            # the class with the largest model output is the prediction\n",
        "            predicted = torch.argmax(y_hat, dim=1)\n",
        "\n",
        "            # compute the accuracy\n",
        "            total += y.size(0)\n",
        "            correct += (predicted == torch.argmax(y, dim=1)).sum().item()\n",
        "\n",
        "    print(f'Test accuracy: {100 * correct // total} %')\n"
      ],
      "metadata": {
        "id": "dk-tVRp4kpYj"
      },
      "execution_count": 51,
      "outputs": []
    },
    {
      "cell_type": "code",
      "source": [
        "# model1\n",
        "class ConvNet(nn.Module):\n",
        "  def __init__(self):\n",
        "    super().__init__()\n",
        "\n",
        "    self.conv1 = nn.Conv2d(1, 128, kernel_size=3)\n",
        "    self.bn1 = nn.BatchNorm2d(128)\n",
        "    self.conv2 = nn.Conv2d(128, 64, kernel_size=3)\n",
        "    self.bn2 = nn.BatchNorm2d(64)\n",
        "    self.pool = nn.MaxPool2d(2, 2)\n",
        "    self.fc1 = nn.Linear(64 * 204, 32)\n",
        "    self.fc2 = nn.Linear(32, 8)\n",
        "  \n",
        "  def forward(self, x):\n",
        "    x = self.pool(F.relu(self.bn1(self.conv1(x))))\n",
        "    x = self.pool(F.relu(self.bn2(self.conv2(x))))\n",
        "    x = x.view(x.size(0), -1)\n",
        "    x = F.relu(self.fc1(x))\n",
        "    x = self.fc2(x)\n",
        "    return x\n",
        "\n",
        "model1 = ConvNet().to(device)"
      ],
      "metadata": {
        "id": "8IJkyGBWPpFP"
      },
      "execution_count": 105,
      "outputs": []
    },
    {
      "cell_type": "code",
      "source": [
        "# train model1\n",
        "train(model1, k_epochs = 50)"
      ],
      "metadata": {
        "colab": {
          "base_uri": "https://localhost:8080/"
        },
        "id": "YqDUrRPKvPvl",
        "outputId": "7cd4e91e-7382-4312-a7d1-a42d0a0d41d7"
      },
      "execution_count": 106,
      "outputs": [
        {
          "output_type": "stream",
          "name": "stdout",
          "text": [
            "[epoch: 1, batches:    20], loss: 2.376, accuracy:0.122\n",
            "[epoch: 1, batches:    40], loss: 2.060, accuracy:0.127\n",
            "[epoch: 1, batches:    60], loss: 2.063, accuracy:0.133\n",
            "[epoch: 2, batches:    20], loss: 2.041, accuracy:0.150\n",
            "[epoch: 2, batches:    40], loss: 2.035, accuracy:0.150\n",
            "[epoch: 2, batches:    60], loss: 2.025, accuracy:0.148\n",
            "[epoch: 3, batches:    20], loss: 1.922, accuracy:0.144\n",
            "[epoch: 3, batches:    40], loss: 1.899, accuracy:0.148\n",
            "[epoch: 3, batches:    60], loss: 1.877, accuracy:0.153\n",
            "[epoch: 4, batches:    20], loss: 1.775, accuracy:0.164\n",
            "[epoch: 4, batches:    40], loss: 1.854, accuracy:0.167\n",
            "[epoch: 4, batches:    60], loss: 1.800, accuracy:0.173\n",
            "[epoch: 5, batches:    20], loss: 1.683, accuracy:0.184\n",
            "[epoch: 5, batches:    40], loss: 1.676, accuracy:0.192\n",
            "[epoch: 5, batches:    60], loss: 1.686, accuracy:0.201\n",
            "[epoch: 6, batches:    20], loss: 1.541, accuracy:0.218\n",
            "[epoch: 6, batches:    40], loss: 1.530, accuracy:0.226\n",
            "[epoch: 6, batches:    60], loss: 1.530, accuracy:0.235\n",
            "[epoch: 7, batches:    20], loss: 1.398, accuracy:0.249\n",
            "[epoch: 7, batches:    40], loss: 1.424, accuracy:0.258\n",
            "[epoch: 7, batches:    60], loss: 1.410, accuracy:0.263\n",
            "[epoch: 8, batches:    20], loss: 1.287, accuracy:0.279\n",
            "[epoch: 8, batches:    40], loss: 1.289, accuracy:0.286\n",
            "[epoch: 8, batches:    60], loss: 1.249, accuracy:0.294\n",
            "[epoch: 9, batches:    20], loss: 1.234, accuracy:0.306\n",
            "[epoch: 9, batches:    40], loss: 1.090, accuracy:0.315\n",
            "[epoch: 9, batches:    60], loss: 1.190, accuracy:0.322\n",
            "[epoch: 10, batches:    20], loss: 0.990, accuracy:0.335\n",
            "[epoch: 10, batches:    40], loss: 1.049, accuracy:0.342\n",
            "[epoch: 10, batches:    60], loss: 1.038, accuracy:0.349\n",
            "[epoch: 11, batches:    20], loss: 0.938, accuracy:0.362\n",
            "[epoch: 11, batches:    40], loss: 0.957, accuracy:0.370\n",
            "[epoch: 11, batches:    60], loss: 0.869, accuracy:0.377\n",
            "[epoch: 12, batches:    20], loss: 0.833, accuracy:0.389\n",
            "[epoch: 12, batches:    40], loss: 0.775, accuracy:0.397\n",
            "[epoch: 12, batches:    60], loss: 0.890, accuracy:0.403\n",
            "[epoch: 13, batches:    20], loss: 0.693, accuracy:0.414\n",
            "[epoch: 13, batches:    40], loss: 0.722, accuracy:0.422\n",
            "[epoch: 13, batches:    60], loss: 0.781, accuracy:0.428\n",
            "[epoch: 14, batches:    20], loss: 0.717, accuracy:0.439\n",
            "[epoch: 14, batches:    40], loss: 0.745, accuracy:0.444\n",
            "[epoch: 14, batches:    60], loss: 0.653, accuracy:0.451\n",
            "[epoch: 15, batches:    20], loss: 0.535, accuracy:0.460\n",
            "[epoch: 15, batches:    40], loss: 0.648, accuracy:0.466\n",
            "[epoch: 15, batches:    60], loss: 0.646, accuracy:0.472\n",
            "[epoch: 16, batches:    20], loss: 0.643, accuracy:0.480\n",
            "[epoch: 16, batches:    40], loss: 0.585, accuracy:0.485\n",
            "[epoch: 16, batches:    60], loss: 0.554, accuracy:0.491\n",
            "[epoch: 17, batches:    20], loss: 0.560, accuracy:0.499\n",
            "[epoch: 17, batches:    40], loss: 0.612, accuracy:0.503\n",
            "[epoch: 17, batches:    60], loss: 0.499, accuracy:0.508\n",
            "[epoch: 18, batches:    20], loss: 0.445, accuracy:0.517\n",
            "[epoch: 18, batches:    40], loss: 0.397, accuracy:0.522\n",
            "[epoch: 18, batches:    60], loss: 0.531, accuracy:0.527\n",
            "[epoch: 19, batches:    20], loss: 0.409, accuracy:0.534\n",
            "[epoch: 19, batches:    40], loss: 0.430, accuracy:0.539\n",
            "[epoch: 19, batches:    60], loss: 0.409, accuracy:0.544\n",
            "[epoch: 20, batches:    20], loss: 0.317, accuracy:0.551\n",
            "[epoch: 20, batches:    40], loss: 0.305, accuracy:0.557\n",
            "[epoch: 20, batches:    60], loss: 0.368, accuracy:0.561\n",
            "[epoch: 21, batches:    20], loss: 0.258, accuracy:0.568\n",
            "[epoch: 21, batches:    40], loss: 0.284, accuracy:0.573\n",
            "[epoch: 21, batches:    60], loss: 0.394, accuracy:0.576\n",
            "[epoch: 22, batches:    20], loss: 0.304, accuracy:0.583\n",
            "[epoch: 22, batches:    40], loss: 0.320, accuracy:0.587\n",
            "[epoch: 22, batches:    60], loss: 0.341, accuracy:0.590\n",
            "[epoch: 23, batches:    20], loss: 0.254, accuracy:0.597\n",
            "[epoch: 23, batches:    40], loss: 0.261, accuracy:0.601\n",
            "[epoch: 23, batches:    60], loss: 0.244, accuracy:0.604\n",
            "[epoch: 24, batches:    20], loss: 0.239, accuracy:0.610\n",
            "[epoch: 24, batches:    40], loss: 0.277, accuracy:0.613\n",
            "[epoch: 24, batches:    60], loss: 0.222, accuracy:0.617\n",
            "[epoch: 25, batches:    20], loss: 0.135, accuracy:0.623\n",
            "[epoch: 25, batches:    40], loss: 0.195, accuracy:0.627\n",
            "[epoch: 25, batches:    60], loss: 0.233, accuracy:0.630\n",
            "[epoch: 26, batches:    20], loss: 0.169, accuracy:0.635\n",
            "[epoch: 26, batches:    40], loss: 0.187, accuracy:0.638\n",
            "[epoch: 26, batches:    60], loss: 0.167, accuracy:0.642\n",
            "[epoch: 27, batches:    20], loss: 0.171, accuracy:0.647\n",
            "[epoch: 27, batches:    40], loss: 0.133, accuracy:0.650\n",
            "[epoch: 27, batches:    60], loss: 0.143, accuracy:0.653\n",
            "[epoch: 28, batches:    20], loss: 0.165, accuracy:0.657\n",
            "[epoch: 28, batches:    40], loss: 0.167, accuracy:0.660\n",
            "[epoch: 28, batches:    60], loss: 0.174, accuracy:0.663\n",
            "[epoch: 29, batches:    20], loss: 0.144, accuracy:0.668\n",
            "[epoch: 29, batches:    40], loss: 0.157, accuracy:0.670\n",
            "[epoch: 29, batches:    60], loss: 0.127, accuracy:0.673\n",
            "[epoch: 30, batches:    20], loss: 0.111, accuracy:0.677\n",
            "[epoch: 30, batches:    40], loss: 0.124, accuracy:0.680\n",
            "[epoch: 30, batches:    60], loss: 0.106, accuracy:0.683\n",
            "[epoch: 31, batches:    20], loss: 0.120, accuracy:0.687\n",
            "[epoch: 31, batches:    40], loss: 0.148, accuracy:0.689\n",
            "[epoch: 31, batches:    60], loss: 0.153, accuracy:0.691\n",
            "[epoch: 32, batches:    20], loss: 0.169, accuracy:0.694\n",
            "[epoch: 32, batches:    40], loss: 0.168, accuracy:0.697\n",
            "[epoch: 32, batches:    60], loss: 0.202, accuracy:0.699\n",
            "[epoch: 33, batches:    20], loss: 0.162, accuracy:0.702\n",
            "[epoch: 33, batches:    40], loss: 0.145, accuracy:0.704\n",
            "[epoch: 33, batches:    60], loss: 0.146, accuracy:0.706\n",
            "[epoch: 34, batches:    20], loss: 0.120, accuracy:0.709\n",
            "[epoch: 34, batches:    40], loss: 0.099, accuracy:0.711\n",
            "[epoch: 34, batches:    60], loss: 0.118, accuracy:0.713\n",
            "[epoch: 35, batches:    20], loss: 0.088, accuracy:0.717\n",
            "[epoch: 35, batches:    40], loss: 0.102, accuracy:0.719\n",
            "[epoch: 35, batches:    60], loss: 0.115, accuracy:0.721\n",
            "[epoch: 36, batches:    20], loss: 0.088, accuracy:0.724\n",
            "[epoch: 36, batches:    40], loss: 0.055, accuracy:0.726\n",
            "[epoch: 36, batches:    60], loss: 0.097, accuracy:0.728\n",
            "[epoch: 37, batches:    20], loss: 0.072, accuracy:0.731\n",
            "[epoch: 37, batches:    40], loss: 0.052, accuracy:0.733\n",
            "[epoch: 37, batches:    60], loss: 0.066, accuracy:0.735\n",
            "[epoch: 38, batches:    20], loss: 0.054, accuracy:0.738\n",
            "[epoch: 38, batches:    40], loss: 0.035, accuracy:0.740\n",
            "[epoch: 38, batches:    60], loss: 0.067, accuracy:0.742\n",
            "[epoch: 39, batches:    20], loss: 0.058, accuracy:0.745\n",
            "[epoch: 39, batches:    40], loss: 0.169, accuracy:0.746\n",
            "[epoch: 39, batches:    60], loss: 0.194, accuracy:0.747\n",
            "[epoch: 40, batches:    20], loss: 0.212, accuracy:0.749\n",
            "[epoch: 40, batches:    40], loss: 0.144, accuracy:0.751\n",
            "[epoch: 40, batches:    60], loss: 0.258, accuracy:0.752\n",
            "[epoch: 41, batches:    20], loss: 0.146, accuracy:0.754\n",
            "[epoch: 41, batches:    40], loss: 0.166, accuracy:0.755\n",
            "[epoch: 41, batches:    60], loss: 0.155, accuracy:0.756\n",
            "[epoch: 42, batches:    20], loss: 0.108, accuracy:0.759\n",
            "[epoch: 42, batches:    40], loss: 0.061, accuracy:0.760\n",
            "[epoch: 42, batches:    60], loss: 0.048, accuracy:0.762\n",
            "[epoch: 43, batches:    20], loss: 0.040, accuracy:0.764\n",
            "[epoch: 43, batches:    40], loss: 0.056, accuracy:0.766\n",
            "[epoch: 43, batches:    60], loss: 0.053, accuracy:0.767\n",
            "[epoch: 44, batches:    20], loss: 0.054, accuracy:0.769\n",
            "[epoch: 44, batches:    40], loss: 0.045, accuracy:0.771\n",
            "[epoch: 44, batches:    60], loss: 0.046, accuracy:0.772\n",
            "[epoch: 45, batches:    20], loss: 0.026, accuracy:0.774\n",
            "[epoch: 45, batches:    40], loss: 0.034, accuracy:0.776\n",
            "[epoch: 45, batches:    60], loss: 0.022, accuracy:0.777\n",
            "[epoch: 46, batches:    20], loss: 0.018, accuracy:0.779\n",
            "[epoch: 46, batches:    40], loss: 0.030, accuracy:0.780\n",
            "[epoch: 46, batches:    60], loss: 0.012, accuracy:0.782\n",
            "[epoch: 47, batches:    20], loss: 0.024, accuracy:0.784\n",
            "[epoch: 47, batches:    40], loss: 0.016, accuracy:0.785\n",
            "[epoch: 47, batches:    60], loss: 0.008, accuracy:0.786\n",
            "[epoch: 48, batches:    20], loss: 0.005, accuracy:0.788\n",
            "[epoch: 48, batches:    40], loss: 0.016, accuracy:0.790\n",
            "[epoch: 48, batches:    60], loss: 0.026, accuracy:0.791\n",
            "[epoch: 49, batches:    20], loss: 0.017, accuracy:0.793\n",
            "[epoch: 49, batches:    40], loss: 0.013, accuracy:0.794\n",
            "[epoch: 49, batches:    60], loss: 0.009, accuracy:0.795\n",
            "[epoch: 50, batches:    20], loss: 0.018, accuracy:0.797\n",
            "[epoch: 50, batches:    40], loss: 0.010, accuracy:0.798\n",
            "[epoch: 50, batches:    60], loss: 0.012, accuracy:0.799\n",
            "Finished Training\n"
          ]
        }
      ]
    },
    {
      "cell_type": "code",
      "source": [
        "# test model1\n",
        "test(model1, test_loader)"
      ],
      "metadata": {
        "colab": {
          "base_uri": "https://localhost:8080/"
        },
        "id": "DRsArYBMvjMJ",
        "outputId": "e3eedbca-ff79-4670-fa56-9d27ac73af9e"
      },
      "execution_count": 109,
      "outputs": [
        {
          "output_type": "stream",
          "name": "stdout",
          "text": [
            "Test accuracy: 54 %\n"
          ]
        }
      ]
    },
    {
      "cell_type": "code",
      "source": [
        "# model2: with dropout\n",
        "class ConvNet(nn.Module):\n",
        "  def __init__(self, dropout_prob = 0.5):\n",
        "    super().__init__()\n",
        "\n",
        "    self.conv1 = nn.Conv2d(1, 128, kernel_size=3)\n",
        "    self.bn1 = nn.BatchNorm2d(128)\n",
        "    self.conv2 = nn.Conv2d(128, 64, kernel_size=3)\n",
        "    self.bn2 = nn.BatchNorm2d(64)\n",
        "    self.dropout = nn.Dropout(dropout_prob)\n",
        "    self.pool = nn.MaxPool2d(2, 2)\n",
        "    self.fc1 = nn.Linear(64 * 204, 32)\n",
        "    self.fc2 = nn.Linear(32, 8)\n",
        "  \n",
        "  def forward(self, x):\n",
        "    x = self.pool(F.relu(self.bn1(self.conv1(x))))\n",
        "    x = self.dropout(x)\n",
        "    x = self.pool(F.relu(self.bn2(self.conv2(x))))\n",
        "    x = self.dropout(x)\n",
        "    x = x.view(x.size(0), -1)\n",
        "    x = F.relu(self.fc1(x))\n",
        "    x = self.fc2(x)\n",
        "    return x\n",
        "\n",
        "model2 = ConvNet().to(device)"
      ],
      "metadata": {
        "id": "m_VVL_dRtvWI"
      },
      "execution_count": 110,
      "outputs": []
    },
    {
      "cell_type": "code",
      "source": [
        "train(model2, k_epochs = 50)"
      ],
      "metadata": {
        "colab": {
          "base_uri": "https://localhost:8080/"
        },
        "id": "lJIG2Yzrv6oO",
        "outputId": "d3f841cd-7726-4301-9388-49ebf89c97dd"
      },
      "execution_count": 111,
      "outputs": [
        {
          "output_type": "stream",
          "name": "stdout",
          "text": [
            "[epoch: 1, batches:    20], loss: 2.076, accuracy:0.191\n",
            "[epoch: 1, batches:    40], loss: 1.993, accuracy:0.222\n",
            "[epoch: 1, batches:    60], loss: 1.917, accuracy:0.240\n",
            "[epoch: 2, batches:    20], loss: 1.769, accuracy:0.262\n",
            "[epoch: 2, batches:    40], loss: 1.675, accuracy:0.279\n",
            "[epoch: 2, batches:    60], loss: 1.774, accuracy:0.283\n",
            "[epoch: 3, batches:    20], loss: 1.596, accuracy:0.303\n",
            "[epoch: 3, batches:    40], loss: 1.556, accuracy:0.316\n",
            "[epoch: 3, batches:    60], loss: 1.570, accuracy:0.324\n",
            "[epoch: 4, batches:    20], loss: 1.418, accuracy:0.348\n",
            "[epoch: 4, batches:    40], loss: 1.366, accuracy:0.356\n",
            "[epoch: 4, batches:    60], loss: 1.479, accuracy:0.362\n",
            "[epoch: 5, batches:    20], loss: 1.360, accuracy:0.374\n",
            "[epoch: 5, batches:    40], loss: 1.359, accuracy:0.382\n",
            "[epoch: 5, batches:    60], loss: 1.317, accuracy:0.388\n",
            "[epoch: 6, batches:    20], loss: 1.154, accuracy:0.402\n",
            "[epoch: 6, batches:    40], loss: 1.314, accuracy:0.407\n",
            "[epoch: 6, batches:    60], loss: 1.179, accuracy:0.414\n",
            "[epoch: 7, batches:    20], loss: 1.222, accuracy:0.424\n",
            "[epoch: 7, batches:    40], loss: 1.161, accuracy:0.429\n",
            "[epoch: 7, batches:    60], loss: 1.166, accuracy:0.434\n",
            "[epoch: 8, batches:    20], loss: 1.006, accuracy:0.445\n",
            "[epoch: 8, batches:    40], loss: 1.115, accuracy:0.452\n",
            "[epoch: 8, batches:    60], loss: 1.065, accuracy:0.456\n",
            "[epoch: 9, batches:    20], loss: 0.987, accuracy:0.465\n",
            "[epoch: 9, batches:    40], loss: 0.920, accuracy:0.473\n",
            "[epoch: 9, batches:    60], loss: 0.956, accuracy:0.477\n",
            "[epoch: 10, batches:    20], loss: 0.846, accuracy:0.487\n",
            "[epoch: 10, batches:    40], loss: 0.920, accuracy:0.491\n",
            "[epoch: 10, batches:    60], loss: 1.115, accuracy:0.493\n",
            "[epoch: 11, batches:    20], loss: 0.962, accuracy:0.499\n",
            "[epoch: 11, batches:    40], loss: 0.876, accuracy:0.503\n",
            "[epoch: 11, batches:    60], loss: 0.937, accuracy:0.506\n",
            "[epoch: 12, batches:    20], loss: 0.829, accuracy:0.512\n",
            "[epoch: 12, batches:    40], loss: 0.785, accuracy:0.518\n",
            "[epoch: 12, batches:    60], loss: 0.781, accuracy:0.522\n",
            "[epoch: 13, batches:    20], loss: 0.761, accuracy:0.529\n",
            "[epoch: 13, batches:    40], loss: 0.749, accuracy:0.534\n",
            "[epoch: 13, batches:    60], loss: 0.851, accuracy:0.537\n",
            "[epoch: 14, batches:    20], loss: 0.884, accuracy:0.541\n",
            "[epoch: 14, batches:    40], loss: 0.708, accuracy:0.546\n",
            "[epoch: 14, batches:    60], loss: 0.752, accuracy:0.549\n",
            "[epoch: 15, batches:    20], loss: 0.652, accuracy:0.555\n",
            "[epoch: 15, batches:    40], loss: 0.834, accuracy:0.558\n",
            "[epoch: 15, batches:    60], loss: 0.633, accuracy:0.562\n",
            "[epoch: 16, batches:    20], loss: 0.688, accuracy:0.568\n",
            "[epoch: 16, batches:    40], loss: 0.705, accuracy:0.570\n",
            "[epoch: 16, batches:    60], loss: 0.748, accuracy:0.573\n",
            "[epoch: 17, batches:    20], loss: 0.672, accuracy:0.577\n",
            "[epoch: 17, batches:    40], loss: 0.637, accuracy:0.581\n",
            "[epoch: 17, batches:    60], loss: 0.663, accuracy:0.583\n",
            "[epoch: 18, batches:    20], loss: 0.504, accuracy:0.589\n",
            "[epoch: 18, batches:    40], loss: 0.549, accuracy:0.593\n",
            "[epoch: 18, batches:    60], loss: 0.599, accuracy:0.596\n",
            "[epoch: 19, batches:    20], loss: 0.573, accuracy:0.600\n",
            "[epoch: 19, batches:    40], loss: 0.495, accuracy:0.604\n",
            "[epoch: 19, batches:    60], loss: 0.589, accuracy:0.606\n",
            "[epoch: 20, batches:    20], loss: 0.503, accuracy:0.610\n",
            "[epoch: 20, batches:    40], loss: 0.552, accuracy:0.613\n",
            "[epoch: 20, batches:    60], loss: 0.544, accuracy:0.615\n",
            "[epoch: 21, batches:    20], loss: 0.521, accuracy:0.619\n",
            "[epoch: 21, batches:    40], loss: 0.548, accuracy:0.622\n",
            "[epoch: 21, batches:    60], loss: 0.523, accuracy:0.624\n",
            "[epoch: 22, batches:    20], loss: 0.435, accuracy:0.628\n",
            "[epoch: 22, batches:    40], loss: 0.432, accuracy:0.631\n",
            "[epoch: 22, batches:    60], loss: 0.515, accuracy:0.634\n",
            "[epoch: 23, batches:    20], loss: 0.407, accuracy:0.637\n",
            "[epoch: 23, batches:    40], loss: 0.488, accuracy:0.639\n",
            "[epoch: 23, batches:    60], loss: 0.430, accuracy:0.642\n",
            "[epoch: 24, batches:    20], loss: 0.440, accuracy:0.645\n",
            "[epoch: 24, batches:    40], loss: 0.440, accuracy:0.647\n",
            "[epoch: 24, batches:    60], loss: 0.492, accuracy:0.649\n",
            "[epoch: 25, batches:    20], loss: 0.516, accuracy:0.652\n",
            "[epoch: 25, batches:    40], loss: 0.388, accuracy:0.655\n",
            "[epoch: 25, batches:    60], loss: 0.424, accuracy:0.657\n",
            "[epoch: 26, batches:    20], loss: 0.379, accuracy:0.660\n",
            "[epoch: 26, batches:    40], loss: 0.329, accuracy:0.663\n",
            "[epoch: 26, batches:    60], loss: 0.342, accuracy:0.665\n",
            "[epoch: 27, batches:    20], loss: 0.350, accuracy:0.668\n",
            "[epoch: 27, batches:    40], loss: 0.416, accuracy:0.670\n",
            "[epoch: 27, batches:    60], loss: 0.406, accuracy:0.672\n",
            "[epoch: 28, batches:    20], loss: 0.375, accuracy:0.675\n",
            "[epoch: 28, batches:    40], loss: 0.429, accuracy:0.677\n",
            "[epoch: 28, batches:    60], loss: 0.374, accuracy:0.678\n",
            "[epoch: 29, batches:    20], loss: 0.351, accuracy:0.681\n",
            "[epoch: 29, batches:    40], loss: 0.324, accuracy:0.683\n",
            "[epoch: 29, batches:    60], loss: 0.413, accuracy:0.685\n",
            "[epoch: 30, batches:    20], loss: 0.344, accuracy:0.687\n",
            "[epoch: 30, batches:    40], loss: 0.313, accuracy:0.689\n",
            "[epoch: 30, batches:    60], loss: 0.345, accuracy:0.691\n",
            "[epoch: 31, batches:    20], loss: 0.351, accuracy:0.694\n",
            "[epoch: 31, batches:    40], loss: 0.372, accuracy:0.695\n",
            "[epoch: 31, batches:    60], loss: 0.372, accuracy:0.697\n",
            "[epoch: 32, batches:    20], loss: 0.322, accuracy:0.699\n",
            "[epoch: 32, batches:    40], loss: 0.377, accuracy:0.701\n",
            "[epoch: 32, batches:    60], loss: 0.358, accuracy:0.702\n",
            "[epoch: 33, batches:    20], loss: 0.314, accuracy:0.705\n",
            "[epoch: 33, batches:    40], loss: 0.300, accuracy:0.706\n",
            "[epoch: 33, batches:    60], loss: 0.352, accuracy:0.708\n",
            "[epoch: 34, batches:    20], loss: 0.307, accuracy:0.710\n",
            "[epoch: 34, batches:    40], loss: 0.290, accuracy:0.712\n",
            "[epoch: 34, batches:    60], loss: 0.297, accuracy:0.713\n",
            "[epoch: 35, batches:    20], loss: 0.269, accuracy:0.716\n",
            "[epoch: 35, batches:    40], loss: 0.401, accuracy:0.717\n",
            "[epoch: 35, batches:    60], loss: 0.394, accuracy:0.718\n",
            "[epoch: 36, batches:    20], loss: 0.279, accuracy:0.720\n",
            "[epoch: 36, batches:    40], loss: 0.298, accuracy:0.721\n",
            "[epoch: 36, batches:    60], loss: 0.273, accuracy:0.722\n",
            "[epoch: 37, batches:    20], loss: 0.268, accuracy:0.725\n",
            "[epoch: 37, batches:    40], loss: 0.258, accuracy:0.726\n",
            "[epoch: 37, batches:    60], loss: 0.364, accuracy:0.727\n",
            "[epoch: 38, batches:    20], loss: 0.305, accuracy:0.729\n",
            "[epoch: 38, batches:    40], loss: 0.315, accuracy:0.730\n",
            "[epoch: 38, batches:    60], loss: 0.349, accuracy:0.731\n",
            "[epoch: 39, batches:    20], loss: 0.331, accuracy:0.733\n",
            "[epoch: 39, batches:    40], loss: 0.210, accuracy:0.734\n",
            "[epoch: 39, batches:    60], loss: 0.254, accuracy:0.735\n",
            "[epoch: 40, batches:    20], loss: 0.205, accuracy:0.738\n",
            "[epoch: 40, batches:    40], loss: 0.225, accuracy:0.739\n",
            "[epoch: 40, batches:    60], loss: 0.260, accuracy:0.740\n",
            "[epoch: 41, batches:    20], loss: 0.269, accuracy:0.742\n",
            "[epoch: 41, batches:    40], loss: 0.261, accuracy:0.743\n",
            "[epoch: 41, batches:    60], loss: 0.315, accuracy:0.744\n",
            "[epoch: 42, batches:    20], loss: 0.234, accuracy:0.746\n",
            "[epoch: 42, batches:    40], loss: 0.214, accuracy:0.747\n",
            "[epoch: 42, batches:    60], loss: 0.219, accuracy:0.748\n",
            "[epoch: 43, batches:    20], loss: 0.277, accuracy:0.750\n",
            "[epoch: 43, batches:    40], loss: 0.214, accuracy:0.751\n",
            "[epoch: 43, batches:    60], loss: 0.262, accuracy:0.752\n",
            "[epoch: 44, batches:    20], loss: 0.206, accuracy:0.754\n",
            "[epoch: 44, batches:    40], loss: 0.228, accuracy:0.755\n",
            "[epoch: 44, batches:    60], loss: 0.186, accuracy:0.756\n",
            "[epoch: 45, batches:    20], loss: 0.207, accuracy:0.758\n",
            "[epoch: 45, batches:    40], loss: 0.233, accuracy:0.759\n",
            "[epoch: 45, batches:    60], loss: 0.317, accuracy:0.759\n",
            "[epoch: 46, batches:    20], loss: 0.277, accuracy:0.761\n",
            "[epoch: 46, batches:    40], loss: 0.210, accuracy:0.762\n",
            "[epoch: 46, batches:    60], loss: 0.227, accuracy:0.763\n",
            "[epoch: 47, batches:    20], loss: 0.210, accuracy:0.764\n",
            "[epoch: 47, batches:    40], loss: 0.192, accuracy:0.765\n",
            "[epoch: 47, batches:    60], loss: 0.188, accuracy:0.766\n",
            "[epoch: 48, batches:    20], loss: 0.194, accuracy:0.768\n",
            "[epoch: 48, batches:    40], loss: 0.179, accuracy:0.769\n",
            "[epoch: 48, batches:    60], loss: 0.167, accuracy:0.770\n",
            "[epoch: 49, batches:    20], loss: 0.190, accuracy:0.771\n",
            "[epoch: 49, batches:    40], loss: 0.160, accuracy:0.772\n",
            "[epoch: 49, batches:    60], loss: 0.171, accuracy:0.773\n",
            "[epoch: 50, batches:    20], loss: 0.196, accuracy:0.775\n",
            "[epoch: 50, batches:    40], loss: 0.210, accuracy:0.775\n",
            "[epoch: 50, batches:    60], loss: 0.203, accuracy:0.776\n",
            "Finished Training\n"
          ]
        }
      ]
    },
    {
      "cell_type": "code",
      "source": [
        "test(model2, test_loader)"
      ],
      "metadata": {
        "colab": {
          "base_uri": "https://localhost:8080/"
        },
        "id": "OCwKhDMxwIHr",
        "outputId": "68b01700-4140-47fc-968a-2219b0d52131"
      },
      "execution_count": 116,
      "outputs": [
        {
          "output_type": "stream",
          "name": "stdout",
          "text": [
            "Test accuracy: 54 %\n"
          ]
        }
      ]
    },
    {
      "cell_type": "code",
      "source": [
        "# model3\n",
        "class ConvNet(nn.Module):\n",
        "  def __init__(self, dropout_prob = 0.5):\n",
        "    super().__init__()\n",
        "\n",
        "    self.conv1 = nn.Conv2d(1, 64, kernel_size=3)\n",
        "    self.bn1 = nn.BatchNorm2d(64)\n",
        "    self.conv2 = nn.Conv2d(64, 32, kernel_size=3)\n",
        "    self.bn2 = nn.BatchNorm2d(32)\n",
        "    self.dropout = nn.Dropout(dropout_prob)\n",
        "    self.pool = nn.MaxPool2d(2, 2)\n",
        "    self.fc1 = nn.Linear(64 * 102, 128)\n",
        "    self.fc2 = nn.Linear(128, 8)\n",
        "  \n",
        "  def forward(self, x):\n",
        "    x = self.pool(F.relu(self.bn1(self.conv1(x))))\n",
        "    x = self.dropout(x)\n",
        "    x = self.pool(F.relu(self.bn2(self.conv2(x))))\n",
        "    x = self.dropout(x)\n",
        "    x = x.view(x.size(0), -1)\n",
        "    x = F.relu(self.fc1(x))\n",
        "\n",
        "    x = self.fc2(x)\n",
        "    return x\n",
        "\n",
        "model3 = ConvNet().to(device)"
      ],
      "metadata": {
        "id": "XwquVMu_cmwE"
      },
      "execution_count": 128,
      "outputs": []
    },
    {
      "cell_type": "code",
      "source": [
        "train(model3, k_epochs = 50)"
      ],
      "metadata": {
        "colab": {
          "base_uri": "https://localhost:8080/"
        },
        "id": "pBE3q-63dDPM",
        "outputId": "1d6403b1-8542-472c-e814-673eb1e44072"
      },
      "execution_count": 129,
      "outputs": [
        {
          "output_type": "stream",
          "name": "stdout",
          "text": [
            "[epoch: 1, batches:    20], loss: 2.280, accuracy:0.153\n",
            "[epoch: 1, batches:    40], loss: 1.945, accuracy:0.188\n",
            "[epoch: 1, batches:    60], loss: 1.820, accuracy:0.212\n",
            "[epoch: 2, batches:    20], loss: 1.768, accuracy:0.237\n",
            "[epoch: 2, batches:    40], loss: 1.650, accuracy:0.258\n",
            "[epoch: 2, batches:    60], loss: 1.704, accuracy:0.268\n",
            "[epoch: 3, batches:    20], loss: 1.577, accuracy:0.291\n",
            "[epoch: 3, batches:    40], loss: 1.526, accuracy:0.300\n",
            "[epoch: 3, batches:    60], loss: 1.562, accuracy:0.311\n",
            "[epoch: 4, batches:    20], loss: 1.433, accuracy:0.327\n",
            "[epoch: 4, batches:    40], loss: 1.513, accuracy:0.336\n",
            "[epoch: 4, batches:    60], loss: 1.380, accuracy:0.344\n",
            "[epoch: 5, batches:    20], loss: 1.399, accuracy:0.355\n",
            "[epoch: 5, batches:    40], loss: 1.369, accuracy:0.363\n",
            "[epoch: 5, batches:    60], loss: 1.271, accuracy:0.372\n",
            "[epoch: 6, batches:    20], loss: 1.269, accuracy:0.386\n",
            "[epoch: 6, batches:    40], loss: 1.183, accuracy:0.393\n",
            "[epoch: 6, batches:    60], loss: 1.266, accuracy:0.400\n",
            "[epoch: 7, batches:    20], loss: 1.088, accuracy:0.414\n",
            "[epoch: 7, batches:    40], loss: 1.206, accuracy:0.421\n",
            "[epoch: 7, batches:    60], loss: 1.201, accuracy:0.427\n",
            "[epoch: 8, batches:    20], loss: 1.011, accuracy:0.436\n",
            "[epoch: 8, batches:    40], loss: 1.140, accuracy:0.441\n",
            "[epoch: 8, batches:    60], loss: 1.134, accuracy:0.446\n",
            "[epoch: 9, batches:    20], loss: 1.045, accuracy:0.456\n",
            "[epoch: 9, batches:    40], loss: 0.942, accuracy:0.463\n",
            "[epoch: 9, batches:    60], loss: 0.910, accuracy:0.470\n",
            "[epoch: 10, batches:    20], loss: 1.006, accuracy:0.475\n",
            "[epoch: 10, batches:    40], loss: 0.915, accuracy:0.479\n",
            "[epoch: 10, batches:    60], loss: 0.924, accuracy:0.484\n",
            "[epoch: 11, batches:    20], loss: 0.841, accuracy:0.492\n",
            "[epoch: 11, batches:    40], loss: 0.970, accuracy:0.496\n",
            "[epoch: 11, batches:    60], loss: 0.837, accuracy:0.501\n",
            "[epoch: 12, batches:    20], loss: 0.873, accuracy:0.508\n",
            "[epoch: 12, batches:    40], loss: 0.717, accuracy:0.514\n",
            "[epoch: 12, batches:    60], loss: 0.737, accuracy:0.519\n",
            "[epoch: 13, batches:    20], loss: 0.759, accuracy:0.526\n",
            "[epoch: 13, batches:    40], loss: 0.761, accuracy:0.529\n",
            "[epoch: 13, batches:    60], loss: 0.773, accuracy:0.533\n",
            "[epoch: 14, batches:    20], loss: 0.687, accuracy:0.540\n",
            "[epoch: 14, batches:    40], loss: 0.715, accuracy:0.544\n",
            "[epoch: 14, batches:    60], loss: 0.713, accuracy:0.548\n",
            "[epoch: 15, batches:    20], loss: 0.618, accuracy:0.554\n",
            "[epoch: 15, batches:    40], loss: 0.604, accuracy:0.558\n",
            "[epoch: 15, batches:    60], loss: 0.708, accuracy:0.561\n",
            "[epoch: 16, batches:    20], loss: 0.655, accuracy:0.567\n",
            "[epoch: 16, batches:    40], loss: 0.564, accuracy:0.571\n",
            "[epoch: 16, batches:    60], loss: 0.582, accuracy:0.575\n",
            "[epoch: 17, batches:    20], loss: 0.512, accuracy:0.580\n",
            "[epoch: 17, batches:    40], loss: 0.588, accuracy:0.584\n",
            "[epoch: 17, batches:    60], loss: 0.551, accuracy:0.588\n",
            "[epoch: 18, batches:    20], loss: 0.449, accuracy:0.594\n",
            "[epoch: 18, batches:    40], loss: 0.512, accuracy:0.598\n",
            "[epoch: 18, batches:    60], loss: 0.487, accuracy:0.602\n",
            "[epoch: 19, batches:    20], loss: 0.505, accuracy:0.607\n",
            "[epoch: 19, batches:    40], loss: 0.444, accuracy:0.610\n",
            "[epoch: 19, batches:    60], loss: 0.736, accuracy:0.612\n",
            "[epoch: 20, batches:    20], loss: 0.522, accuracy:0.616\n",
            "[epoch: 20, batches:    40], loss: 0.458, accuracy:0.619\n",
            "[epoch: 20, batches:    60], loss: 0.455, accuracy:0.623\n",
            "[epoch: 21, batches:    20], loss: 0.397, accuracy:0.628\n",
            "[epoch: 21, batches:    40], loss: 0.482, accuracy:0.630\n",
            "[epoch: 21, batches:    60], loss: 0.412, accuracy:0.633\n",
            "[epoch: 22, batches:    20], loss: 0.323, accuracy:0.638\n",
            "[epoch: 22, batches:    40], loss: 0.412, accuracy:0.641\n",
            "[epoch: 22, batches:    60], loss: 0.338, accuracy:0.644\n",
            "[epoch: 23, batches:    20], loss: 0.304, accuracy:0.648\n",
            "[epoch: 23, batches:    40], loss: 0.335, accuracy:0.651\n",
            "[epoch: 23, batches:    60], loss: 0.446, accuracy:0.653\n",
            "[epoch: 24, batches:    20], loss: 0.347, accuracy:0.657\n",
            "[epoch: 24, batches:    40], loss: 0.357, accuracy:0.660\n",
            "[epoch: 24, batches:    60], loss: 0.420, accuracy:0.662\n",
            "[epoch: 25, batches:    20], loss: 0.344, accuracy:0.665\n",
            "[epoch: 25, batches:    40], loss: 0.325, accuracy:0.668\n",
            "[epoch: 25, batches:    60], loss: 0.313, accuracy:0.670\n",
            "[epoch: 26, batches:    20], loss: 0.320, accuracy:0.674\n",
            "[epoch: 26, batches:    40], loss: 0.371, accuracy:0.676\n",
            "[epoch: 26, batches:    60], loss: 0.338, accuracy:0.678\n",
            "[epoch: 27, batches:    20], loss: 0.293, accuracy:0.682\n",
            "[epoch: 27, batches:    40], loss: 0.242, accuracy:0.684\n",
            "[epoch: 27, batches:    60], loss: 0.300, accuracy:0.686\n",
            "[epoch: 28, batches:    20], loss: 0.251, accuracy:0.690\n",
            "[epoch: 28, batches:    40], loss: 0.285, accuracy:0.692\n",
            "[epoch: 28, batches:    60], loss: 0.419, accuracy:0.694\n",
            "[epoch: 29, batches:    20], loss: 0.273, accuracy:0.697\n",
            "[epoch: 29, batches:    40], loss: 0.324, accuracy:0.699\n",
            "[epoch: 29, batches:    60], loss: 0.302, accuracy:0.700\n",
            "[epoch: 30, batches:    20], loss: 0.331, accuracy:0.703\n",
            "[epoch: 30, batches:    40], loss: 0.300, accuracy:0.705\n",
            "[epoch: 30, batches:    60], loss: 0.352, accuracy:0.707\n",
            "[epoch: 31, batches:    20], loss: 0.302, accuracy:0.709\n",
            "[epoch: 31, batches:    40], loss: 0.366, accuracy:0.711\n",
            "[epoch: 31, batches:    60], loss: 0.279, accuracy:0.712\n",
            "[epoch: 32, batches:    20], loss: 0.261, accuracy:0.715\n",
            "[epoch: 32, batches:    40], loss: 0.222, accuracy:0.717\n",
            "[epoch: 32, batches:    60], loss: 0.216, accuracy:0.719\n",
            "[epoch: 33, batches:    20], loss: 0.199, accuracy:0.722\n",
            "[epoch: 33, batches:    40], loss: 0.235, accuracy:0.724\n",
            "[epoch: 33, batches:    60], loss: 0.228, accuracy:0.725\n",
            "[epoch: 34, batches:    20], loss: 0.203, accuracy:0.728\n",
            "[epoch: 34, batches:    40], loss: 0.274, accuracy:0.730\n",
            "[epoch: 34, batches:    60], loss: 0.258, accuracy:0.731\n",
            "[epoch: 35, batches:    20], loss: 0.191, accuracy:0.734\n",
            "[epoch: 35, batches:    40], loss: 0.181, accuracy:0.736\n",
            "[epoch: 35, batches:    60], loss: 0.204, accuracy:0.737\n",
            "[epoch: 36, batches:    20], loss: 0.225, accuracy:0.740\n",
            "[epoch: 36, batches:    40], loss: 0.183, accuracy:0.741\n",
            "[epoch: 36, batches:    60], loss: 0.194, accuracy:0.743\n",
            "[epoch: 37, batches:    20], loss: 0.264, accuracy:0.745\n",
            "[epoch: 37, batches:    40], loss: 0.216, accuracy:0.746\n",
            "[epoch: 37, batches:    60], loss: 0.231, accuracy:0.747\n",
            "[epoch: 38, batches:    20], loss: 0.123, accuracy:0.750\n",
            "[epoch: 38, batches:    40], loss: 0.123, accuracy:0.752\n",
            "[epoch: 38, batches:    60], loss: 0.172, accuracy:0.753\n",
            "[epoch: 39, batches:    20], loss: 0.187, accuracy:0.755\n",
            "[epoch: 39, batches:    40], loss: 0.194, accuracy:0.756\n",
            "[epoch: 39, batches:    60], loss: 0.213, accuracy:0.758\n",
            "[epoch: 40, batches:    20], loss: 0.177, accuracy:0.760\n",
            "[epoch: 40, batches:    40], loss: 0.140, accuracy:0.761\n",
            "[epoch: 40, batches:    60], loss: 0.139, accuracy:0.762\n",
            "[epoch: 41, batches:    20], loss: 0.150, accuracy:0.764\n",
            "[epoch: 41, batches:    40], loss: 0.176, accuracy:0.766\n",
            "[epoch: 41, batches:    60], loss: 0.135, accuracy:0.767\n",
            "[epoch: 42, batches:    20], loss: 0.126, accuracy:0.769\n",
            "[epoch: 42, batches:    40], loss: 0.188, accuracy:0.770\n",
            "[epoch: 42, batches:    60], loss: 0.179, accuracy:0.772\n",
            "[epoch: 43, batches:    20], loss: 0.152, accuracy:0.773\n",
            "[epoch: 43, batches:    40], loss: 0.152, accuracy:0.774\n",
            "[epoch: 43, batches:    60], loss: 0.182, accuracy:0.776\n",
            "[epoch: 44, batches:    20], loss: 0.150, accuracy:0.777\n",
            "[epoch: 44, batches:    40], loss: 0.130, accuracy:0.779\n",
            "[epoch: 44, batches:    60], loss: 0.171, accuracy:0.780\n",
            "[epoch: 45, batches:    20], loss: 0.190, accuracy:0.781\n",
            "[epoch: 45, batches:    40], loss: 0.181, accuracy:0.782\n",
            "[epoch: 45, batches:    60], loss: 0.154, accuracy:0.783\n",
            "[epoch: 46, batches:    20], loss: 0.140, accuracy:0.785\n",
            "[epoch: 46, batches:    40], loss: 0.128, accuracy:0.786\n",
            "[epoch: 46, batches:    60], loss: 0.192, accuracy:0.787\n",
            "[epoch: 47, batches:    20], loss: 0.110, accuracy:0.788\n",
            "[epoch: 47, batches:    40], loss: 0.151, accuracy:0.789\n",
            "[epoch: 47, batches:    60], loss: 0.148, accuracy:0.790\n",
            "[epoch: 48, batches:    20], loss: 0.122, accuracy:0.792\n",
            "[epoch: 48, batches:    40], loss: 0.142, accuracy:0.793\n",
            "[epoch: 48, batches:    60], loss: 0.204, accuracy:0.794\n",
            "[epoch: 49, batches:    20], loss: 0.174, accuracy:0.795\n",
            "[epoch: 49, batches:    40], loss: 0.171, accuracy:0.796\n",
            "[epoch: 49, batches:    60], loss: 0.136, accuracy:0.797\n",
            "[epoch: 50, batches:    20], loss: 0.157, accuracy:0.798\n",
            "[epoch: 50, batches:    40], loss: 0.108, accuracy:0.799\n",
            "[epoch: 50, batches:    60], loss: 0.098, accuracy:0.800\n",
            "Finished Training\n"
          ]
        }
      ]
    },
    {
      "cell_type": "code",
      "source": [
        "test(model3, test_loader)"
      ],
      "metadata": {
        "colab": {
          "base_uri": "https://localhost:8080/"
        },
        "id": "g3TNZ4jzdGbX",
        "outputId": "85199a67-feb0-4502-f98a-7bfd1ab8972b"
      },
      "execution_count": 141,
      "outputs": [
        {
          "output_type": "stream",
          "name": "stdout",
          "text": [
            "Test accuracy: 57 %\n"
          ]
        }
      ]
    }
  ],
  "metadata": {
    "colab": {
      "provenance": [],
      "include_colab_link": true
    },
    "kernelspec": {
      "display_name": "Python 3",
      "name": "python3"
    },
    "language_info": {
      "codemirror_mode": {
        "name": "ipython",
        "version": 3
      },
      "file_extension": ".py",
      "mimetype": "text/x-python",
      "name": "python",
      "nbconvert_exporter": "python",
      "pygments_lexer": "ipython3",
      "version": "3.9.16"
    },
    "accelerator": "GPU",
    "gpuClass": "standard"
  },
  "nbformat": 4,
  "nbformat_minor": 0
}