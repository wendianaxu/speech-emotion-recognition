{
  "cells": [
    {
      "cell_type": "markdown",
      "metadata": {
        "id": "view-in-github",
        "colab_type": "text"
      },
      "source": [
        "<a href=\"https://colab.research.google.com/github/wendianaxu/speech-emotion-recognition/blob/main/training_more_nmfcc.ipynb\" target=\"_parent\"><img src=\"https://colab.research.google.com/assets/colab-badge.svg\" alt=\"Open In Colab\"/></a>"
      ]
    },
    {
      "cell_type": "code",
      "execution_count": 3,
      "metadata": {
        "id": "EwhgQXLPc-S1"
      },
      "outputs": [],
      "source": [
        "import librosa\n",
        "import os\n",
        "import numpy as np\n",
        "import matplotlib.pyplot as plt"
      ]
    },
    {
      "cell_type": "code",
      "execution_count": 4,
      "metadata": {
        "id": "7gLHkEMSf-za",
        "colab": {
          "base_uri": "https://localhost:8080/"
        },
        "outputId": "8ea974c7-1a4f-4e43-9a34-09a903039ce3"
      },
      "outputs": [
        {
          "output_type": "stream",
          "name": "stdout",
          "text": [
            "Mounted at /content/drive\n"
          ]
        }
      ],
      "source": [
        "from google.colab import drive\n",
        "drive.mount('/content/drive')"
      ]
    },
    {
      "cell_type": "code",
      "execution_count": 5,
      "metadata": {
        "colab": {
          "base_uri": "https://localhost:8080/"
        },
        "id": "zJ3NhGjceXB4",
        "outputId": "ae7d6fa1-4af8-4e1c-e6e1-267437bc8874"
      },
      "outputs": [
        {
          "output_type": "stream",
          "name": "stdout",
          "text": [
            "Cloning into 'speech-emotion-recognition'...\n",
            "remote: Enumerating objects: 1534, done.\u001b[K\n",
            "remote: Counting objects: 100% (65/65), done.\u001b[K\n",
            "remote: Compressing objects: 100% (50/50), done.\u001b[K\n",
            "remote: Total 1534 (delta 27), reused 31 (delta 9), pack-reused 1469\u001b[K\n",
            "Receiving objects: 100% (1534/1534), 213.97 MiB | 23.66 MiB/s, done.\n",
            "Resolving deltas: 100% (266/266), done.\n",
            "Updating files: 100% (1447/1447), done.\n"
          ]
        }
      ],
      "source": [
        "!git clone https://github.com/wendianaxu/speech-emotion-recognition.git"
      ]
    },
    {
      "cell_type": "code",
      "source": [
        "# copy directory to drive\n",
        "!cp -r \"/content/speech-emotion-recognition\" \"/content/drive/MyDrive\""
      ],
      "metadata": {
        "id": "XWYcc00n2QMb",
        "colab": {
          "base_uri": "https://localhost:8080/"
        },
        "outputId": "1e1a244f-1276-472c-8f17-816c2acfb50f"
      },
      "execution_count": 6,
      "outputs": [
        {
          "output_type": "stream",
          "name": "stdout",
          "text": [
            "^C\n"
          ]
        }
      ]
    },
    {
      "cell_type": "code",
      "execution_count": 13,
      "metadata": {
        "id": "GNAcBeb1eV-U"
      },
      "outputs": [],
      "source": [
        "# test: load an audio file, extract mfccs, and visualize\n",
        "\n",
        "test_file = \"/content/drive/MyDrive/speech-emotion-recognition/RAVDESS_data/Actor_01/03-01-01-01-01-01-01.wav\"\n",
        "n_mfcc = 30 # common choice\n",
        "sr = 22050 # sampling rate\n"
      ]
    },
    {
      "cell_type": "code",
      "source": [
        "# visualize mfccs\n",
        "audio, sampling_rate = librosa.load(test_file, sr=sr, duration=None)\n",
        "test_mfccs = librosa.feature.mfcc(y=audio, sr=sr, n_mfcc=n_mfcc)\n",
        "\n",
        "plt.figure(figsize=(10, 5))\n",
        "librosa.display.specshow(test_mfccs, \n",
        "                         x_axis=\"time\", \n",
        "                         sr=sr)\n",
        "plt.colorbar(format=\"%+2.f\")\n",
        "plt.show()"
      ],
      "metadata": {
        "id": "swMzgoDxqFIk",
        "colab": {
          "base_uri": "https://localhost:8080/",
          "height": 465
        },
        "outputId": "6ec16763-96a3-4adb-a405-0a15aec73d9e"
      },
      "execution_count": 8,
      "outputs": [
        {
          "output_type": "display_data",
          "data": {
            "text/plain": [
              "<Figure size 1000x500 with 2 Axes>"
            ],
            "image/png": "[encoded data removed]"
          },
          "metadata": {}
        }
      ]
    },
    {
      "cell_type": "code",
      "execution_count": 9,
      "metadata": {
        "id": "aRo0EShAwUTP"
      },
      "outputs": [],
      "source": [
        "# function for loading an audio file\n",
        "data_path = \"/content/speech-emotion-recognition/RAVDESS_data/\"\n",
        "def load_file(path):\n",
        "  '''\n",
        "  Load one audio file and return a 1D array containing its mfccs averaged across time\n",
        "  '''\n",
        "  audio, sampling_rate = librosa.load(path, sr=sr, duration=None)\n",
        "  mfccs = librosa.feature.mfcc(y=audio, sr=sr, n_mfcc=n_mfcc) # extract MFCC matrix (cols = coefficients, rows = time)\n",
        "  features = np.mean(mfccs.T, axis=0)  # condense MFCC matrix into 1D array, averaging each coefficient across time\n",
        "  return features\n",
        "\n",
        "#load_file(test_file)\n"
      ]
    },
    {
      "cell_type": "code",
      "execution_count": 10,
      "metadata": {
        "id": "12Sp_TsXp52s"
      },
      "outputs": [],
      "source": [
        "# function for transforming dataset into arrays\n",
        "def preprocess_data(path):\n",
        "  '''\n",
        "  Preprocess data in all folders within the dataset. \n",
        "  '''\n",
        "  X = []\n",
        "  y = []\n",
        "  for folder in os.listdir(path): # each folder = one actor\n",
        "      for file in os.listdir(os.path.join(path, folder)):\n",
        "          if file.endswith('.wav'):\n",
        "              emotion = file.split('-')[2] # get emotion label\n",
        "              if int(emotion) == 1:\n",
        "                  label = 'Neutral'\n",
        "              elif int(emotion) == 2:\n",
        "                  label = 'Calm'\n",
        "              elif int(emotion) == 3:\n",
        "                  label = 'Happy'\n",
        "              elif int(emotion) == 4:\n",
        "                  label = 'Sad'\n",
        "              elif int(emotion) == 5:\n",
        "                  label = 'Angry'\n",
        "              elif int(emotion) == 6:\n",
        "                  label = 'Fearful'\n",
        "              elif int(emotion) == 7:\n",
        "                  label = 'Disgust'\n",
        "              elif int(emotion) == 8:\n",
        "                  label = 'Surprised'\n",
        "              else:\n",
        "                  label = 'UNK'\n",
        "                  \n",
        "              file_path = os.path.join(path, folder, file)\n",
        "              features = load_file(file_path)\n",
        "              X.append(features)\n",
        "              y.append(label)\n",
        "  return np.array(X), np.array(y)\n"
      ]
    },
    {
      "cell_type": "code",
      "execution_count": 16,
      "metadata": {
        "id": "FU1ANDxI0dvC",
        "colab": {
          "base_uri": "https://localhost:8080/"
        },
        "outputId": "7a76998a-2975-46aa-f176-2537ad6dbb5e"
      },
      "outputs": [
        {
          "output_type": "stream",
          "name": "stdout",
          "text": [
            "Shape of X: (1440, 30)\n",
            "Shape of y: (1440,)\n"
          ]
        }
      ],
      "source": [
        "X, y = preprocess_data(data_path)\n",
        "print(\"Shape of X:\", X.shape)\n",
        "print(\"Shape of y:\", y.shape)"
      ]
    },
    {
      "cell_type": "code",
      "execution_count": 74,
      "metadata": {
        "id": "upAE4CSR-OSh"
      },
      "outputs": [],
      "source": [
        "# function that visualizes different emotions for one statement, given that intensity, repetition, and actor are all same\n",
        "def visualize_by_statement(path, intensity='01', repetition='01', actor='01'):\n",
        "    emo = ['Neutral', 'Calm', 'Happy', 'Sad', 'Angry', 'Fearful', 'Disgust', 'Surprised', 'UNK']\n",
        "    color_arr = ['red', 'blue', 'green', 'yellow', 'purple', 'orange', 'cyan', 'magenta']\n",
        "    x_values = range(n_mfcc)\n",
        "\n",
        "    fig, axes = plt.subplots(1, 2, figsize=(15, 5))\n",
        "\n",
        "    for file in os.listdir(os.path.join(path, 'Actor_'+ actor)):\n",
        "        if file.split('-')[3] == intensity and file.split('-')[5] == repetition:\n",
        "            emotion = file.split('-')[2]  # get emotion label\n",
        "            mfcc = load_file(os.path.join(path, 'Actor_'+ actor, file))\n",
        "\n",
        "            # Plot all emotions in both subplots\n",
        "            for ax in axes:\n",
        "                ax.scatter(x_values, mfcc, color=color_arr[int(emotion) - 1], label=emo[int(emotion) - 1])\n",
        "\n",
        "    for i, ax in enumerate(axes):\n",
        "        # ax.set_title(f'Subplot {i+1}')\n",
        "        ax.set_xlabel('Features')\n",
        "        ax.set_ylabel('MFCC Values')\n",
        "\n",
        "        if i == 0:\n",
        "            ax.set_ylim(-800, 100)\n",
        "        else:\n",
        "            ax.set_ylim(-20, 40)\n",
        "\n",
        "        # Remove duplicate labels from the legend\n",
        "        handles, labels = ax.get_legend_handles_labels()\n",
        "        by_label = dict(zip(labels, handles))\n",
        "        ax.legend(by_label.values(), by_label.keys())\n",
        "\n",
        "    plt.tight_layout()\n",
        "    plt.show()"
      ]
    },
    {
      "cell_type": "code",
      "execution_count": 75,
      "metadata": {
        "id": "aeNOlE-z-OSi",
        "outputId": "3074757a-757e-4cc2-a0cf-29816b0759d4",
        "colab": {
          "base_uri": "https://localhost:8080/",
          "height": 352
        }
      },
      "outputs": [
        {
          "output_type": "display_data",
          "data": {
            "text/plain": [
              "<Figure size 1500x500 with 2 Axes>"
            ],
            "image/png": "[encoded data removed]"
          },
          "metadata": {}
        }
      ],
      "source": [
        "visualize_by_statement(data_path, intensity='01', repetition='01', actor='01')"
      ]
    },
    {
      "cell_type": "code",
      "source": [
        "# save X, y\n",
        "np.save('/content/drive/MyDrive/speech-emotion-recognition/X.npy', X)\n",
        "np.save('/content/drive/MyDrive/speech-emotion-recognition/y.npy', y)"
      ],
      "metadata": {
        "id": "yOt4ie_7u1ZZ"
      },
      "execution_count": 17,
      "outputs": []
    },
    {
      "cell_type": "code",
      "source": [
        "# load X, y\n",
        "X = np.load('/content/drive/MyDrive/speech-emotion-recognition/X.npy')\n",
        "y = np.load('/content/drive/MyDrive/speech-emotion-recognition/y.npy')\n",
        "print(X.shape, y.shape)"
      ],
      "metadata": {
        "id": "bTFdRKqmvRBk",
        "colab": {
          "base_uri": "https://localhost:8080/"
        },
        "outputId": "c6cb298f-2b54-49fc-a116-83c74e9f39f7"
      },
      "execution_count": 18,
      "outputs": [
        {
          "output_type": "stream",
          "name": "stdout",
          "text": [
            "(1440, 30) (1440,)\n"
          ]
        }
      ]
    },
    {
      "cell_type": "code",
      "source": [
        "# one-hot encode labels\n",
        "from sklearn.preprocessing import OneHotEncoder\n",
        "OHE = OneHotEncoder()\n",
        "\n",
        "y = np.array(y).reshape(-1,1)\n",
        "y = OHE.fit_transform(y).toarray()"
      ],
      "metadata": {
        "id": "IV2uPPlZ8GCK"
      },
      "execution_count": 22,
      "outputs": []
    },
    {
      "cell_type": "code",
      "source": [
        "# train-test split\n",
        "from sklearn.model_selection import train_test_split\n",
        "X_train, X_test, y_train, y_test = train_test_split(\n",
        "    X, y, test_size=0.2, random_state=0)"
      ],
      "metadata": {
        "id": "qoEI7uQMZu-6"
      },
      "execution_count": 23,
      "outputs": []
    },
    {
      "cell_type": "code",
      "source": [
        "# CNN with torch\n",
        "import torch.nn as nn\n",
        "import torch.nn.functional as F\n",
        "import torchaudio\n",
        "from torchsummary import summary\n",
        "import torch\n",
        "\n",
        "device = torch.device('cuda:0' if torch.cuda.is_available() else 'cpu')"
      ],
      "metadata": {
        "id": "AqbfO9HWA0Z7"
      },
      "execution_count": 24,
      "outputs": []
    },
    {
      "cell_type": "code",
      "source": [
        "# transform preprocessed data to Dataset class\n",
        "from torch.utils.data import TensorDataset, DataLoader\n",
        "from torch import Tensor\n",
        "\n",
        "# transform arrays to torch tensors\n",
        "X_train = Tensor(X_train).unsqueeze(1)\n",
        "y_train = Tensor(y_train)\n",
        "X_test = Tensor(X_test).unsqueeze(1)\n",
        "y_test = Tensor(y_test)\n",
        "\n",
        "train_set = TensorDataset(X_train, y_train) \n",
        "test_set = TensorDataset(X_test, y_test) \n"
      ],
      "metadata": {
        "id": "-hBDtuYDz0Ta"
      },
      "execution_count": 25,
      "outputs": []
    },
    {
      "cell_type": "code",
      "source": [
        "X_test.shape"
      ],
      "metadata": {
        "colab": {
          "base_uri": "https://localhost:8080/"
        },
        "id": "GonHPEnPfedB",
        "outputId": "8c126680-047b-4ed5-f521-ae34fb03cef4"
      },
      "execution_count": 26,
      "outputs": [
        {
          "output_type": "execute_result",
          "data": {
            "text/plain": [
              "torch.Size([288, 1, 30])"
            ]
          },
          "metadata": {},
          "execution_count": 26
        }
      ]
    },
    {
      "cell_type": "code",
      "source": [
        "# create DataLoaders\n",
        "batch_size = 16\n",
        "\n",
        "train_loader = DataLoader(train_set, batch_size = batch_size, \n",
        "                          shuffle = True, num_workers = 2)\n",
        "test_loader = DataLoader(test_set, batch_size = batch_size, \n",
        "                          shuffle = True, num_workers = 2)"
      ],
      "metadata": {
        "id": "6YK4WevZAy08"
      },
      "execution_count": 27,
      "outputs": []
    },
    {
      "cell_type": "code",
      "source": [
        "# training loop\n",
        "import torch.optim as optim\n",
        "\n",
        "def train(model, k_epochs = 1, print_every = 20):\n",
        "\n",
        "    loss_fn = nn.CrossEntropyLoss() \n",
        "    optimizer = optim.Adam(model.parameters(), lr=0.001)\n",
        "\n",
        "    correct, total = 0, 0\n",
        "\n",
        "    for epoch in range(k_epochs): \n",
        "\n",
        "        running_loss = 0.0\n",
        "        for i, data in enumerate(train_loader, 0):\n",
        "\n",
        "            # extract a batch of training data from the data loader\n",
        "            X, y = data\n",
        "            X = X.to(device)\n",
        "            y = y.to(device)\n",
        "\n",
        "            # zero out gradients: we're going to recompute them in a moment\n",
        "            optimizer.zero_grad()\n",
        "\n",
        "            # compute the loss (forward pass)\n",
        "            y_hat = model(X)\n",
        "            loss = loss_fn(y_hat, y)\n",
        "\n",
        "            # compute the gradient (backward pass)\n",
        "            loss.backward()\n",
        "\n",
        "            # Adam uses the gradient to update the parameters\n",
        "            optimizer.step()\n",
        "\n",
        "            # print statistics\n",
        "            running_loss += loss.item()\n",
        "\n",
        "            # for printing accuracy\n",
        "            total += y.size(0)\n",
        "            correct += (torch.argmax(y_hat, dim=1) == torch.argmax(y, dim=1)).sum().item()\n",
        "            # correct += (torch.argmax(y_hat, dim=1) == y).sum().item()\n",
        "\n",
        "\n",
        "            # print the epoch, number of batches processed, and running loss \n",
        "            # in regular intervals\n",
        "            if i % print_every == print_every - 1:    \n",
        "              print(f'[epoch: {epoch + 1}, batches: {i + 1:5d}], loss: {running_loss / print_every:.3f}, accuracy:{correct/total:.3f}')\n",
        "              running_loss = 0.0\n",
        "\n",
        "    print('Finished Training')\n",
        "\n"
      ],
      "metadata": {
        "id": "9fiaCcRzom_K"
      },
      "execution_count": 39,
      "outputs": []
    },
    {
      "cell_type": "code",
      "source": [
        "# testing loop\n",
        "def test(model, data_loader):\n",
        "    correct = 0\n",
        "    total = 0\n",
        "    # torch.no_grad creates an environment in which we do NOT store the \n",
        "    # computational graph. We don't need to do this because we don't care about \n",
        "    # gradients unless we're training\n",
        "    with torch.no_grad():\n",
        "        for data in data_loader:\n",
        "            X, y = data\n",
        "            X = X.to(device)\n",
        "            y = y.to(device)\n",
        "            \n",
        "            # run all the images through the model\n",
        "            y_hat = model(X)\n",
        "\n",
        "            # the class with the largest model output is the prediction\n",
        "            predicted = torch.argmax(y_hat, dim=1)\n",
        "\n",
        "            # compute the accuracy\n",
        "            total += y.size(0)\n",
        "            correct += (predicted == torch.argmax(y, dim=1)).sum().item()\n",
        "\n",
        "    print(f'Test accuracy: {100 * correct // total} %')\n"
      ],
      "metadata": {
        "id": "dk-tVRp4kpYj"
      },
      "execution_count": 30,
      "outputs": []
    },
    {
      "cell_type": "code",
      "source": [
        "# model1\n",
        "class ConvNet(nn.Module):\n",
        "    def __init__(self, input_len):\n",
        "        super().__init__()\n",
        "\n",
        "        self.conv1 = nn.Conv1d(1, 32, kernel_size=3)\n",
        "        self.bn1 = nn.BatchNorm1d(32)\n",
        "        self.conv2 = nn.Conv1d(32, 64, kernel_size=3)\n",
        "        self.bn2 = nn.BatchNorm1d(64)\n",
        "        self.pool = nn.MaxPool1d(2)\n",
        "        self.fc1 = nn.Linear(64 * (((input_len - 2) // 2 - 2) // 2), 128)\n",
        "        self.fc2 = nn.Linear(128, 8)\n",
        "\n",
        "    def forward(self, x):\n",
        "        x = self.pool(F.relu(self.bn1(self.conv1(x))))\n",
        "        x = self.pool(F.relu(self.bn2(self.conv2(x))))\n",
        "        x = torch.flatten(x, 1)\n",
        "        x = F.relu(self.fc1(x))\n",
        "        x = self.fc2(x)\n",
        "        return x\n",
        "\n",
        "input_len = 30  # input_len is the n_mfcc\n",
        "model1 = ConvNet(input_len).to(device)"
      ],
      "metadata": {
        "id": "8IJkyGBWPpFP"
      },
      "execution_count": 37,
      "outputs": []
    },
    {
      "cell_type": "code",
      "source": [
        "# train model1\n",
        "train(model1, k_epochs = 50)"
      ],
      "metadata": {
        "colab": {
          "base_uri": "https://localhost:8080/"
        },
        "id": "YqDUrRPKvPvl",
        "outputId": "b95767b6-750f-46dd-a951-27cc964b4472"
      },
      "execution_count": 40,
      "outputs": [
        {
          "output_type": "stream",
          "name": "stdout",
          "text": [
            "[epoch: 1, batches:    20], loss: 2.054, accuracy:0.191\n",
            "[epoch: 1, batches:    40], loss: 1.920, accuracy:0.225\n",
            "[epoch: 1, batches:    60], loss: 1.923, accuracy:0.224\n",
            "[epoch: 2, batches:    20], loss: 1.786, accuracy:0.252\n",
            "[epoch: 2, batches:    40], loss: 1.814, accuracy:0.259\n",
            "[epoch: 2, batches:    60], loss: 1.705, accuracy:0.276\n",
            "[epoch: 3, batches:    20], loss: 1.600, accuracy:0.299\n",
            "[epoch: 3, batches:    40], loss: 1.621, accuracy:0.310\n",
            "[epoch: 3, batches:    60], loss: 1.656, accuracy:0.316\n",
            "[epoch: 4, batches:    20], loss: 1.548, accuracy:0.327\n",
            "[epoch: 4, batches:    40], loss: 1.587, accuracy:0.333\n",
            "[epoch: 4, batches:    60], loss: 1.577, accuracy:0.339\n",
            "[epoch: 5, batches:    20], loss: 1.483, accuracy:0.351\n",
            "[epoch: 5, batches:    40], loss: 1.504, accuracy:0.356\n",
            "[epoch: 5, batches:    60], loss: 1.429, accuracy:0.363\n",
            "[epoch: 6, batches:    20], loss: 1.412, accuracy:0.374\n",
            "[epoch: 6, batches:    40], loss: 1.356, accuracy:0.381\n",
            "[epoch: 6, batches:    60], loss: 1.383, accuracy:0.386\n",
            "[epoch: 7, batches:    20], loss: 1.328, accuracy:0.394\n",
            "[epoch: 7, batches:    40], loss: 1.353, accuracy:0.398\n",
            "[epoch: 7, batches:    60], loss: 1.291, accuracy:0.404\n",
            "[epoch: 8, batches:    20], loss: 1.299, accuracy:0.410\n",
            "[epoch: 8, batches:    40], loss: 1.252, accuracy:0.415\n",
            "[epoch: 8, batches:    60], loss: 1.271, accuracy:0.419\n",
            "[epoch: 9, batches:    20], loss: 1.177, accuracy:0.425\n",
            "[epoch: 9, batches:    40], loss: 1.244, accuracy:0.429\n",
            "[epoch: 9, batches:    60], loss: 1.191, accuracy:0.434\n",
            "[epoch: 10, batches:    20], loss: 1.171, accuracy:0.439\n",
            "[epoch: 10, batches:    40], loss: 1.166, accuracy:0.442\n",
            "[epoch: 10, batches:    60], loss: 1.165, accuracy:0.446\n",
            "[epoch: 11, batches:    20], loss: 1.143, accuracy:0.452\n",
            "[epoch: 11, batches:    40], loss: 1.083, accuracy:0.456\n",
            "[epoch: 11, batches:    60], loss: 1.098, accuracy:0.459\n",
            "[epoch: 12, batches:    20], loss: 1.030, accuracy:0.464\n",
            "[epoch: 12, batches:    40], loss: 1.045, accuracy:0.467\n",
            "[epoch: 12, batches:    60], loss: 1.058, accuracy:0.471\n",
            "[epoch: 13, batches:    20], loss: 0.958, accuracy:0.477\n",
            "[epoch: 13, batches:    40], loss: 0.981, accuracy:0.480\n",
            "[epoch: 13, batches:    60], loss: 1.088, accuracy:0.482\n",
            "[epoch: 14, batches:    20], loss: 0.924, accuracy:0.488\n",
            "[epoch: 14, batches:    40], loss: 1.037, accuracy:0.490\n",
            "[epoch: 14, batches:    60], loss: 0.943, accuracy:0.494\n",
            "[epoch: 15, batches:    20], loss: 0.853, accuracy:0.499\n",
            "[epoch: 15, batches:    40], loss: 0.820, accuracy:0.504\n",
            "[epoch: 15, batches:    60], loss: 0.919, accuracy:0.507\n",
            "[epoch: 16, batches:    20], loss: 0.725, accuracy:0.513\n",
            "[epoch: 16, batches:    40], loss: 0.857, accuracy:0.517\n",
            "[epoch: 16, batches:    60], loss: 0.858, accuracy:0.520\n",
            "[epoch: 17, batches:    20], loss: 0.805, accuracy:0.524\n",
            "[epoch: 17, batches:    40], loss: 0.792, accuracy:0.527\n",
            "[epoch: 17, batches:    60], loss: 0.838, accuracy:0.530\n",
            "[epoch: 18, batches:    20], loss: 0.784, accuracy:0.535\n",
            "[epoch: 18, batches:    40], loss: 0.788, accuracy:0.538\n",
            "[epoch: 18, batches:    60], loss: 0.736, accuracy:0.541\n",
            "[epoch: 19, batches:    20], loss: 0.750, accuracy:0.546\n",
            "[epoch: 19, batches:    40], loss: 0.756, accuracy:0.548\n",
            "[epoch: 19, batches:    60], loss: 0.677, accuracy:0.551\n",
            "[epoch: 20, batches:    20], loss: 0.607, accuracy:0.557\n",
            "[epoch: 20, batches:    40], loss: 0.653, accuracy:0.559\n",
            "[epoch: 20, batches:    60], loss: 0.620, accuracy:0.563\n",
            "[epoch: 21, batches:    20], loss: 0.579, accuracy:0.568\n",
            "[epoch: 21, batches:    40], loss: 0.631, accuracy:0.571\n",
            "[epoch: 21, batches:    60], loss: 0.614, accuracy:0.574\n",
            "[epoch: 22, batches:    20], loss: 0.551, accuracy:0.579\n",
            "[epoch: 22, batches:    40], loss: 0.556, accuracy:0.582\n",
            "[epoch: 22, batches:    60], loss: 0.606, accuracy:0.584\n",
            "[epoch: 23, batches:    20], loss: 0.515, accuracy:0.589\n",
            "[epoch: 23, batches:    40], loss: 0.529, accuracy:0.592\n",
            "[epoch: 23, batches:    60], loss: 0.514, accuracy:0.595\n",
            "[epoch: 24, batches:    20], loss: 0.473, accuracy:0.599\n",
            "[epoch: 24, batches:    40], loss: 0.457, accuracy:0.602\n",
            "[epoch: 24, batches:    60], loss: 0.507, accuracy:0.605\n",
            "[epoch: 25, batches:    20], loss: 0.483, accuracy:0.609\n",
            "[epoch: 25, batches:    40], loss: 0.438, accuracy:0.612\n",
            "[epoch: 25, batches:    60], loss: 0.457, accuracy:0.615\n",
            "[epoch: 26, batches:    20], loss: 0.457, accuracy:0.619\n",
            "[epoch: 26, batches:    40], loss: 0.511, accuracy:0.621\n",
            "[epoch: 26, batches:    60], loss: 0.377, accuracy:0.624\n",
            "[epoch: 27, batches:    20], loss: 0.346, accuracy:0.628\n",
            "[epoch: 27, batches:    40], loss: 0.417, accuracy:0.631\n",
            "[epoch: 27, batches:    60], loss: 0.451, accuracy:0.633\n",
            "[epoch: 28, batches:    20], loss: 0.303, accuracy:0.637\n",
            "[epoch: 28, batches:    40], loss: 0.421, accuracy:0.639\n",
            "[epoch: 28, batches:    60], loss: 0.356, accuracy:0.642\n",
            "[epoch: 29, batches:    20], loss: 0.317, accuracy:0.645\n",
            "[epoch: 29, batches:    40], loss: 0.361, accuracy:0.648\n",
            "[epoch: 29, batches:    60], loss: 0.504, accuracy:0.649\n",
            "[epoch: 30, batches:    20], loss: 0.349, accuracy:0.653\n",
            "[epoch: 30, batches:    40], loss: 0.353, accuracy:0.655\n",
            "[epoch: 30, batches:    60], loss: 0.346, accuracy:0.657\n",
            "[epoch: 31, batches:    20], loss: 0.282, accuracy:0.661\n",
            "[epoch: 31, batches:    40], loss: 0.258, accuracy:0.663\n",
            "[epoch: 31, batches:    60], loss: 0.267, accuracy:0.666\n",
            "[epoch: 32, batches:    20], loss: 0.255, accuracy:0.669\n",
            "[epoch: 32, batches:    40], loss: 0.250, accuracy:0.672\n",
            "[epoch: 32, batches:    60], loss: 0.296, accuracy:0.674\n",
            "[epoch: 33, batches:    20], loss: 0.354, accuracy:0.676\n",
            "[epoch: 33, batches:    40], loss: 0.263, accuracy:0.679\n",
            "[epoch: 33, batches:    60], loss: 0.320, accuracy:0.680\n",
            "[epoch: 34, batches:    20], loss: 0.253, accuracy:0.684\n",
            "[epoch: 34, batches:    40], loss: 0.295, accuracy:0.686\n",
            "[epoch: 34, batches:    60], loss: 0.282, accuracy:0.688\n",
            "[epoch: 35, batches:    20], loss: 0.205, accuracy:0.691\n",
            "[epoch: 35, batches:    40], loss: 0.207, accuracy:0.693\n",
            "[epoch: 35, batches:    60], loss: 0.258, accuracy:0.695\n",
            "[epoch: 36, batches:    20], loss: 0.252, accuracy:0.698\n",
            "[epoch: 36, batches:    40], loss: 0.194, accuracy:0.700\n",
            "[epoch: 36, batches:    60], loss: 0.253, accuracy:0.701\n",
            "[epoch: 37, batches:    20], loss: 0.190, accuracy:0.704\n",
            "[epoch: 37, batches:    40], loss: 0.178, accuracy:0.706\n",
            "[epoch: 37, batches:    60], loss: 0.187, accuracy:0.708\n",
            "[epoch: 38, batches:    20], loss: 0.137, accuracy:0.711\n",
            "[epoch: 38, batches:    40], loss: 0.185, accuracy:0.713\n",
            "[epoch: 38, batches:    60], loss: 0.190, accuracy:0.714\n",
            "[epoch: 39, batches:    20], loss: 0.190, accuracy:0.717\n",
            "[epoch: 39, batches:    40], loss: 0.225, accuracy:0.719\n",
            "[epoch: 39, batches:    60], loss: 0.198, accuracy:0.720\n",
            "[epoch: 40, batches:    20], loss: 0.115, accuracy:0.723\n",
            "[epoch: 40, batches:    40], loss: 0.177, accuracy:0.725\n",
            "[epoch: 40, batches:    60], loss: 0.148, accuracy:0.726\n",
            "[epoch: 41, batches:    20], loss: 0.148, accuracy:0.729\n",
            "[epoch: 41, batches:    40], loss: 0.134, accuracy:0.731\n",
            "[epoch: 41, batches:    60], loss: 0.118, accuracy:0.732\n",
            "[epoch: 42, batches:    20], loss: 0.100, accuracy:0.735\n",
            "[epoch: 42, batches:    40], loss: 0.106, accuracy:0.737\n",
            "[epoch: 42, batches:    60], loss: 0.131, accuracy:0.738\n",
            "[epoch: 43, batches:    20], loss: 0.087, accuracy:0.740\n",
            "[epoch: 43, batches:    40], loss: 0.107, accuracy:0.742\n",
            "[epoch: 43, batches:    60], loss: 0.183, accuracy:0.743\n",
            "[epoch: 44, batches:    20], loss: 0.163, accuracy:0.745\n",
            "[epoch: 44, batches:    40], loss: 0.117, accuracy:0.747\n",
            "[epoch: 44, batches:    60], loss: 0.124, accuracy:0.748\n",
            "[epoch: 45, batches:    20], loss: 0.094, accuracy:0.751\n",
            "[epoch: 45, batches:    40], loss: 0.112, accuracy:0.752\n",
            "[epoch: 45, batches:    60], loss: 0.102, accuracy:0.753\n",
            "[epoch: 46, batches:    20], loss: 0.095, accuracy:0.756\n",
            "[epoch: 46, batches:    40], loss: 0.131, accuracy:0.757\n",
            "[epoch: 46, batches:    60], loss: 0.101, accuracy:0.758\n",
            "[epoch: 47, batches:    20], loss: 0.103, accuracy:0.760\n",
            "[epoch: 47, batches:    40], loss: 0.116, accuracy:0.762\n",
            "[epoch: 47, batches:    60], loss: 0.085, accuracy:0.763\n",
            "[epoch: 48, batches:    20], loss: 0.066, accuracy:0.765\n",
            "[epoch: 48, batches:    40], loss: 0.095, accuracy:0.766\n",
            "[epoch: 48, batches:    60], loss: 0.082, accuracy:0.767\n",
            "[epoch: 49, batches:    20], loss: 0.074, accuracy:0.769\n",
            "[epoch: 49, batches:    40], loss: 0.075, accuracy:0.771\n",
            "[epoch: 49, batches:    60], loss: 0.086, accuracy:0.772\n",
            "[epoch: 50, batches:    20], loss: 0.121, accuracy:0.774\n",
            "[epoch: 50, batches:    40], loss: 0.111, accuracy:0.775\n",
            "[epoch: 50, batches:    60], loss: 0.087, accuracy:0.776\n",
            "Finished Training\n"
          ]
        }
      ]
    },
    {
      "cell_type": "code",
      "source": [
        "# test model1\n",
        "test(model1, test_loader)"
      ],
      "metadata": {
        "colab": {
          "base_uri": "https://localhost:8080/"
        },
        "id": "DRsArYBMvjMJ",
        "outputId": "e8381bc8-adca-4e0d-e254-f6bb7bf0b67a"
      },
      "execution_count": 41,
      "outputs": [
        {
          "output_type": "stream",
          "name": "stdout",
          "text": [
            "Test accuracy: 66 %\n"
          ]
        }
      ]
    },
    {
      "cell_type": "code",
      "source": [
        "# model2\n",
        "class ConvNet(nn.Module):\n",
        "  def __init__(self, input_len):\n",
        "    super().__init__()\n",
        "\n",
        "    self.conv1 = nn.Conv1d(1, 32, kernel_size=3)\n",
        "    self.bn1 = nn.BatchNorm1d(32)\n",
        "    self.conv2 = nn.Conv1d(32, 64, kernel_size=3)\n",
        "    self.bn2 = nn.BatchNorm1d(64)\n",
        "    self.pool = nn.MaxPool1d(2)\n",
        "    self.fc1 = nn.Linear(64 * (((input_len - 2) // 2 - 2) // 2), 32)\n",
        "    self.fc2 = nn.Linear(32, 16)\n",
        "    self.fc3 = nn.Linear(16, 8)\n",
        "  \n",
        "  def forward(self, x):\n",
        "    x = self.pool(F.relu(self.bn1(self.conv1(x))))\n",
        "    x = self.pool(F.relu(self.bn2(self.conv2(x))))\n",
        "    x = torch.flatten(x, 1) \n",
        "    x = F.relu(self.fc1(x))\n",
        "    x = F.relu(self.fc2(x))\n",
        "    x = self.fc3(x)\n",
        "    return x\n",
        "\n",
        "input_len = 30\n",
        "model2 = ConvNet(input_len).to(device)"
      ],
      "metadata": {
        "id": "m_VVL_dRtvWI"
      },
      "execution_count": 43,
      "outputs": []
    },
    {
      "cell_type": "code",
      "source": [
        "train(model2, k_epochs = 50)"
      ],
      "metadata": {
        "colab": {
          "base_uri": "https://localhost:8080/"
        },
        "id": "lJIG2Yzrv6oO",
        "outputId": "32213f0d-d09c-4ac5-8d02-1da2aacf81ac"
      },
      "execution_count": 44,
      "outputs": [
        {
          "output_type": "stream",
          "name": "stdout",
          "text": [
            "[epoch: 1, batches:    20], loss: 2.066, accuracy:0.166\n",
            "[epoch: 1, batches:    40], loss: 2.044, accuracy:0.180\n",
            "[epoch: 1, batches:    60], loss: 2.033, accuracy:0.180\n",
            "[epoch: 2, batches:    20], loss: 1.980, accuracy:0.187\n",
            "[epoch: 2, batches:    40], loss: 1.932, accuracy:0.196\n",
            "[epoch: 2, batches:    60], loss: 1.920, accuracy:0.203\n",
            "[epoch: 3, batches:    20], loss: 1.882, accuracy:0.211\n",
            "[epoch: 3, batches:    40], loss: 1.868, accuracy:0.212\n",
            "[epoch: 3, batches:    60], loss: 1.870, accuracy:0.220\n",
            "[epoch: 4, batches:    20], loss: 1.791, accuracy:0.233\n",
            "[epoch: 4, batches:    40], loss: 1.766, accuracy:0.240\n",
            "[epoch: 4, batches:    60], loss: 1.802, accuracy:0.247\n",
            "[epoch: 5, batches:    20], loss: 1.730, accuracy:0.256\n",
            "[epoch: 5, batches:    40], loss: 1.711, accuracy:0.261\n",
            "[epoch: 5, batches:    60], loss: 1.659, accuracy:0.268\n",
            "[epoch: 6, batches:    20], loss: 1.594, accuracy:0.281\n",
            "[epoch: 6, batches:    40], loss: 1.631, accuracy:0.286\n",
            "[epoch: 6, batches:    60], loss: 1.579, accuracy:0.291\n",
            "[epoch: 7, batches:    20], loss: 1.485, accuracy:0.302\n",
            "[epoch: 7, batches:    40], loss: 1.483, accuracy:0.307\n",
            "[epoch: 7, batches:    60], loss: 1.555, accuracy:0.313\n",
            "[epoch: 8, batches:    20], loss: 1.464, accuracy:0.322\n",
            "[epoch: 8, batches:    40], loss: 1.415, accuracy:0.329\n",
            "[epoch: 8, batches:    60], loss: 1.427, accuracy:0.335\n",
            "[epoch: 9, batches:    20], loss: 1.408, accuracy:0.342\n",
            "[epoch: 9, batches:    40], loss: 1.265, accuracy:0.349\n",
            "[epoch: 9, batches:    60], loss: 1.383, accuracy:0.352\n",
            "[epoch: 10, batches:    20], loss: 1.378, accuracy:0.358\n",
            "[epoch: 10, batches:    40], loss: 1.282, accuracy:0.363\n",
            "[epoch: 10, batches:    60], loss: 1.358, accuracy:0.367\n",
            "[epoch: 11, batches:    20], loss: 1.222, accuracy:0.375\n",
            "[epoch: 11, batches:    40], loss: 1.300, accuracy:0.379\n",
            "[epoch: 11, batches:    60], loss: 1.299, accuracy:0.383\n",
            "[epoch: 12, batches:    20], loss: 1.254, accuracy:0.389\n",
            "[epoch: 12, batches:    40], loss: 1.240, accuracy:0.393\n",
            "[epoch: 12, batches:    60], loss: 1.182, accuracy:0.396\n",
            "[epoch: 13, batches:    20], loss: 1.191, accuracy:0.401\n",
            "[epoch: 13, batches:    40], loss: 1.136, accuracy:0.406\n",
            "[epoch: 13, batches:    60], loss: 1.215, accuracy:0.409\n",
            "[epoch: 14, batches:    20], loss: 1.191, accuracy:0.415\n",
            "[epoch: 14, batches:    40], loss: 1.114, accuracy:0.419\n",
            "[epoch: 14, batches:    60], loss: 1.118, accuracy:0.422\n",
            "[epoch: 15, batches:    20], loss: 1.171, accuracy:0.427\n",
            "[epoch: 15, batches:    40], loss: 1.139, accuracy:0.429\n",
            "[epoch: 15, batches:    60], loss: 1.099, accuracy:0.433\n",
            "[epoch: 16, batches:    20], loss: 1.019, accuracy:0.439\n",
            "[epoch: 16, batches:    40], loss: 1.052, accuracy:0.442\n",
            "[epoch: 16, batches:    60], loss: 1.060, accuracy:0.445\n",
            "[epoch: 17, batches:    20], loss: 0.995, accuracy:0.451\n",
            "[epoch: 17, batches:    40], loss: 0.994, accuracy:0.454\n",
            "[epoch: 17, batches:    60], loss: 1.104, accuracy:0.456\n",
            "[epoch: 18, batches:    20], loss: 0.920, accuracy:0.461\n",
            "[epoch: 18, batches:    40], loss: 1.013, accuracy:0.463\n",
            "[epoch: 18, batches:    60], loss: 1.023, accuracy:0.466\n",
            "[epoch: 19, batches:    20], loss: 0.869, accuracy:0.470\n",
            "[epoch: 19, batches:    40], loss: 0.934, accuracy:0.473\n",
            "[epoch: 19, batches:    60], loss: 1.005, accuracy:0.475\n",
            "[epoch: 20, batches:    20], loss: 0.896, accuracy:0.480\n",
            "[epoch: 20, batches:    40], loss: 0.964, accuracy:0.482\n",
            "[epoch: 20, batches:    60], loss: 0.967, accuracy:0.484\n",
            "[epoch: 21, batches:    20], loss: 0.855, accuracy:0.488\n",
            "[epoch: 21, batches:    40], loss: 0.930, accuracy:0.491\n",
            "[epoch: 21, batches:    60], loss: 0.929, accuracy:0.493\n",
            "[epoch: 22, batches:    20], loss: 0.862, accuracy:0.497\n",
            "[epoch: 22, batches:    40], loss: 0.853, accuracy:0.499\n",
            "[epoch: 22, batches:    60], loss: 0.884, accuracy:0.501\n",
            "[epoch: 23, batches:    20], loss: 0.859, accuracy:0.505\n",
            "[epoch: 23, batches:    40], loss: 0.906, accuracy:0.507\n",
            "[epoch: 23, batches:    60], loss: 0.830, accuracy:0.509\n",
            "[epoch: 24, batches:    20], loss: 0.766, accuracy:0.513\n",
            "[epoch: 24, batches:    40], loss: 0.785, accuracy:0.515\n",
            "[epoch: 24, batches:    60], loss: 0.865, accuracy:0.517\n",
            "[epoch: 25, batches:    20], loss: 0.819, accuracy:0.520\n",
            "[epoch: 25, batches:    40], loss: 0.799, accuracy:0.522\n",
            "[epoch: 25, batches:    60], loss: 0.782, accuracy:0.524\n",
            "[epoch: 26, batches:    20], loss: 0.695, accuracy:0.529\n",
            "[epoch: 26, batches:    40], loss: 0.753, accuracy:0.531\n",
            "[epoch: 26, batches:    60], loss: 0.730, accuracy:0.533\n",
            "[epoch: 27, batches:    20], loss: 0.709, accuracy:0.536\n",
            "[epoch: 27, batches:    40], loss: 0.737, accuracy:0.538\n",
            "[epoch: 27, batches:    60], loss: 0.764, accuracy:0.540\n",
            "[epoch: 28, batches:    20], loss: 0.697, accuracy:0.543\n",
            "[epoch: 28, batches:    40], loss: 0.702, accuracy:0.545\n",
            "[epoch: 28, batches:    60], loss: 0.761, accuracy:0.547\n",
            "[epoch: 29, batches:    20], loss: 0.670, accuracy:0.551\n",
            "[epoch: 29, batches:    40], loss: 0.677, accuracy:0.552\n",
            "[epoch: 29, batches:    60], loss: 0.795, accuracy:0.554\n",
            "[epoch: 30, batches:    20], loss: 0.614, accuracy:0.557\n",
            "[epoch: 30, batches:    40], loss: 0.710, accuracy:0.559\n",
            "[epoch: 30, batches:    60], loss: 0.722, accuracy:0.560\n",
            "[epoch: 31, batches:    20], loss: 0.615, accuracy:0.563\n",
            "[epoch: 31, batches:    40], loss: 0.705, accuracy:0.565\n",
            "[epoch: 31, batches:    60], loss: 0.663, accuracy:0.567\n",
            "[epoch: 32, batches:    20], loss: 0.610, accuracy:0.569\n",
            "[epoch: 32, batches:    40], loss: 0.619, accuracy:0.571\n",
            "[epoch: 32, batches:    60], loss: 0.662, accuracy:0.572\n",
            "[epoch: 33, batches:    20], loss: 0.582, accuracy:0.575\n",
            "[epoch: 33, batches:    40], loss: 0.607, accuracy:0.577\n",
            "[epoch: 33, batches:    60], loss: 0.576, accuracy:0.579\n",
            "[epoch: 34, batches:    20], loss: 0.539, accuracy:0.581\n",
            "[epoch: 34, batches:    40], loss: 0.571, accuracy:0.583\n",
            "[epoch: 34, batches:    60], loss: 0.559, accuracy:0.585\n",
            "[epoch: 35, batches:    20], loss: 0.566, accuracy:0.588\n",
            "[epoch: 35, batches:    40], loss: 0.561, accuracy:0.589\n",
            "[epoch: 35, batches:    60], loss: 0.535, accuracy:0.591\n",
            "[epoch: 36, batches:    20], loss: 0.561, accuracy:0.594\n",
            "[epoch: 36, batches:    40], loss: 0.606, accuracy:0.595\n",
            "[epoch: 36, batches:    60], loss: 0.539, accuracy:0.597\n",
            "[epoch: 37, batches:    20], loss: 0.472, accuracy:0.600\n",
            "[epoch: 37, batches:    40], loss: 0.513, accuracy:0.601\n",
            "[epoch: 37, batches:    60], loss: 0.613, accuracy:0.603\n",
            "[epoch: 38, batches:    20], loss: 0.504, accuracy:0.605\n",
            "[epoch: 38, batches:    40], loss: 0.482, accuracy:0.607\n",
            "[epoch: 38, batches:    60], loss: 0.496, accuracy:0.609\n",
            "[epoch: 39, batches:    20], loss: 0.426, accuracy:0.611\n",
            "[epoch: 39, batches:    40], loss: 0.575, accuracy:0.612\n",
            "[epoch: 39, batches:    60], loss: 0.497, accuracy:0.614\n",
            "[epoch: 40, batches:    20], loss: 0.485, accuracy:0.616\n",
            "[epoch: 40, batches:    40], loss: 0.474, accuracy:0.618\n",
            "[epoch: 40, batches:    60], loss: 0.548, accuracy:0.619\n",
            "[epoch: 41, batches:    20], loss: 0.485, accuracy:0.621\n",
            "[epoch: 41, batches:    40], loss: 0.489, accuracy:0.622\n",
            "[epoch: 41, batches:    60], loss: 0.435, accuracy:0.624\n",
            "[epoch: 42, batches:    20], loss: 0.397, accuracy:0.626\n",
            "[epoch: 42, batches:    40], loss: 0.403, accuracy:0.628\n",
            "[epoch: 42, batches:    60], loss: 0.474, accuracy:0.629\n",
            "[epoch: 43, batches:    20], loss: 0.469, accuracy:0.631\n",
            "[epoch: 43, batches:    40], loss: 0.478, accuracy:0.633\n",
            "[epoch: 43, batches:    60], loss: 0.496, accuracy:0.634\n",
            "[epoch: 44, batches:    20], loss: 0.465, accuracy:0.636\n",
            "[epoch: 44, batches:    40], loss: 0.440, accuracy:0.637\n",
            "[epoch: 44, batches:    60], loss: 0.486, accuracy:0.638\n",
            "[epoch: 45, batches:    20], loss: 0.350, accuracy:0.640\n",
            "[epoch: 45, batches:    40], loss: 0.418, accuracy:0.642\n",
            "[epoch: 45, batches:    60], loss: 0.372, accuracy:0.643\n",
            "[epoch: 46, batches:    20], loss: 0.448, accuracy:0.645\n",
            "[epoch: 46, batches:    40], loss: 0.429, accuracy:0.646\n",
            "[epoch: 46, batches:    60], loss: 0.413, accuracy:0.647\n",
            "[epoch: 47, batches:    20], loss: 0.361, accuracy:0.649\n",
            "[epoch: 47, batches:    40], loss: 0.373, accuracy:0.651\n",
            "[epoch: 47, batches:    60], loss: 0.430, accuracy:0.652\n",
            "[epoch: 48, batches:    20], loss: 0.378, accuracy:0.654\n",
            "[epoch: 48, batches:    40], loss: 0.323, accuracy:0.655\n",
            "[epoch: 48, batches:    60], loss: 0.381, accuracy:0.656\n",
            "[epoch: 49, batches:    20], loss: 0.381, accuracy:0.658\n",
            "[epoch: 49, batches:    40], loss: 0.323, accuracy:0.660\n",
            "[epoch: 49, batches:    60], loss: 0.393, accuracy:0.661\n",
            "[epoch: 50, batches:    20], loss: 0.332, accuracy:0.663\n",
            "[epoch: 50, batches:    40], loss: 0.355, accuracy:0.664\n",
            "[epoch: 50, batches:    60], loss: 0.343, accuracy:0.665\n",
            "Finished Training\n"
          ]
        }
      ]
    },
    {
      "cell_type": "code",
      "source": [
        "test(model2, test_loader)"
      ],
      "metadata": {
        "colab": {
          "base_uri": "https://localhost:8080/"
        },
        "id": "OCwKhDMxwIHr",
        "outputId": "fe465819-2fb8-4dd8-8fd1-ae5c39ad7c5d"
      },
      "execution_count": 47,
      "outputs": [
        {
          "output_type": "stream",
          "name": "stdout",
          "text": [
            "Test accuracy: 56 %\n"
          ]
        }
      ]
    },
    {
      "cell_type": "code",
      "source": [
        "# model 3\n",
        "class EmotionClassifierCNN(nn.Module):\n",
        "    def __init__(self, num_classes, input_len):\n",
        "        super(EmotionClassifierCNN, self).__init__()\n",
        "        self.conv1 = nn.Conv1d(in_channels=1, out_channels=16, kernel_size=3, stride=1, padding=1)\n",
        "        self.bn1 = nn.BatchNorm1d(16)\n",
        "        self.pool1 = nn.MaxPool1d(kernel_size=2, stride=2, padding=0)\n",
        "        self.conv2 = nn.Conv1d(in_channels=16, out_channels=32, kernel_size=3, stride=1, padding=1)\n",
        "        self.bn2 = nn.BatchNorm1d(32)\n",
        "        self.pool2 = nn.MaxPool1d(kernel_size=2, stride=2, padding=0)\n",
        "        self.conv3 = nn.Conv1d(in_channels=32, out_channels=64, kernel_size=3, stride=1, padding=1)\n",
        "        self.bn3 = nn.BatchNorm1d(64)\n",
        "        self.pool3 = nn.MaxPool1d(kernel_size=2, stride=2, padding=0)\n",
        "        \n",
        "        output_size = input_len // (2 * 2 * 2)  # Divide by 2 for each pooling layer\n",
        "        self.fc1 = nn.Linear(64 * output_size, 128)\n",
        "        self.fc2 = nn.Linear(128, num_classes)\n",
        "\n",
        "    def forward(self, x):\n",
        "        x = self.pool1(F.relu(self.bn1(self.conv1(x))))\n",
        "        x = self.pool2(F.relu(self.bn2(self.conv2(x))))\n",
        "        x = self.pool3(F.relu(self.bn3(self.conv3(x))))\n",
        "        x = torch.flatten(x, 1)\n",
        "        x = F.relu(self.fc1(x))\n",
        "        x = self.fc2(x)\n",
        "        return x\n",
        "\n",
        "input_len = X_train.shape[2]\n",
        "num_classes = y_train.shape[1]\n",
        "model3 = EmotionClassifierCNN(num_classes, input_len).to(device)\n",
        "# print(model3)"
      ],
      "metadata": {
        "id": "hpLRqlFKHnPA"
      },
      "execution_count": 55,
      "outputs": []
    },
    {
      "cell_type": "code",
      "source": [
        "train(model3, k_epochs = 50)"
      ],
      "metadata": {
        "colab": {
          "base_uri": "https://localhost:8080/"
        },
        "id": "iYE3iyVyJREM",
        "outputId": "15a42c7c-d57f-4890-ede1-dc6276128d36"
      },
      "execution_count": 56,
      "outputs": [
        {
          "output_type": "stream",
          "name": "stdout",
          "text": [
            "[epoch: 1, batches:    20], loss: 2.083, accuracy:0.138\n",
            "[epoch: 1, batches:    40], loss: 2.002, accuracy:0.175\n",
            "[epoch: 1, batches:    60], loss: 1.944, accuracy:0.202\n",
            "[epoch: 2, batches:    20], loss: 1.844, accuracy:0.227\n",
            "[epoch: 2, batches:    40], loss: 1.816, accuracy:0.241\n",
            "[epoch: 2, batches:    60], loss: 1.875, accuracy:0.246\n",
            "[epoch: 3, batches:    20], loss: 1.767, accuracy:0.260\n",
            "[epoch: 3, batches:    40], loss: 1.718, accuracy:0.267\n",
            "[epoch: 3, batches:    60], loss: 1.767, accuracy:0.271\n",
            "[epoch: 4, batches:    20], loss: 1.698, accuracy:0.278\n",
            "[epoch: 4, batches:    40], loss: 1.639, accuracy:0.283\n",
            "[epoch: 4, batches:    60], loss: 1.656, accuracy:0.292\n",
            "[epoch: 5, batches:    20], loss: 1.629, accuracy:0.299\n",
            "[epoch: 5, batches:    40], loss: 1.664, accuracy:0.302\n",
            "[epoch: 5, batches:    60], loss: 1.552, accuracy:0.308\n",
            "[epoch: 6, batches:    20], loss: 1.606, accuracy:0.313\n",
            "[epoch: 6, batches:    40], loss: 1.653, accuracy:0.315\n",
            "[epoch: 6, batches:    60], loss: 1.566, accuracy:0.318\n",
            "[epoch: 7, batches:    20], loss: 1.578, accuracy:0.327\n",
            "[epoch: 7, batches:    40], loss: 1.522, accuracy:0.331\n",
            "[epoch: 7, batches:    60], loss: 1.545, accuracy:0.335\n",
            "[epoch: 8, batches:    20], loss: 1.404, accuracy:0.341\n",
            "[epoch: 8, batches:    40], loss: 1.517, accuracy:0.343\n",
            "[epoch: 8, batches:    60], loss: 1.634, accuracy:0.343\n",
            "[epoch: 9, batches:    20], loss: 1.420, accuracy:0.349\n",
            "[epoch: 9, batches:    40], loss: 1.402, accuracy:0.353\n",
            "[epoch: 9, batches:    60], loss: 1.442, accuracy:0.356\n",
            "[epoch: 10, batches:    20], loss: 1.401, accuracy:0.361\n",
            "[epoch: 10, batches:    40], loss: 1.367, accuracy:0.365\n",
            "[epoch: 10, batches:    60], loss: 1.396, accuracy:0.368\n",
            "[epoch: 11, batches:    20], loss: 1.351, accuracy:0.374\n",
            "[epoch: 11, batches:    40], loss: 1.377, accuracy:0.378\n",
            "[epoch: 11, batches:    60], loss: 1.374, accuracy:0.380\n",
            "[epoch: 12, batches:    20], loss: 1.291, accuracy:0.387\n",
            "[epoch: 12, batches:    40], loss: 1.350, accuracy:0.389\n",
            "[epoch: 12, batches:    60], loss: 1.382, accuracy:0.391\n",
            "[epoch: 13, batches:    20], loss: 1.217, accuracy:0.395\n",
            "[epoch: 13, batches:    40], loss: 1.303, accuracy:0.397\n",
            "[epoch: 13, batches:    60], loss: 1.243, accuracy:0.401\n",
            "[epoch: 14, batches:    20], loss: 1.276, accuracy:0.405\n",
            "[epoch: 14, batches:    40], loss: 1.280, accuracy:0.407\n",
            "[epoch: 14, batches:    60], loss: 1.225, accuracy:0.410\n",
            "[epoch: 15, batches:    20], loss: 1.169, accuracy:0.415\n",
            "[epoch: 15, batches:    40], loss: 1.155, accuracy:0.418\n",
            "[epoch: 15, batches:    60], loss: 1.211, accuracy:0.420\n",
            "[epoch: 16, batches:    20], loss: 1.121, accuracy:0.425\n",
            "[epoch: 16, batches:    40], loss: 1.127, accuracy:0.428\n",
            "[epoch: 16, batches:    60], loss: 1.243, accuracy:0.430\n",
            "[epoch: 17, batches:    20], loss: 1.102, accuracy:0.433\n",
            "[epoch: 17, batches:    40], loss: 1.120, accuracy:0.436\n",
            "[epoch: 17, batches:    60], loss: 1.201, accuracy:0.438\n",
            "[epoch: 18, batches:    20], loss: 1.020, accuracy:0.443\n",
            "[epoch: 18, batches:    40], loss: 1.040, accuracy:0.447\n",
            "[epoch: 18, batches:    60], loss: 1.127, accuracy:0.449\n",
            "[epoch: 19, batches:    20], loss: 1.009, accuracy:0.452\n",
            "[epoch: 19, batches:    40], loss: 1.014, accuracy:0.455\n",
            "[epoch: 19, batches:    60], loss: 1.121, accuracy:0.457\n",
            "[epoch: 20, batches:    20], loss: 0.952, accuracy:0.461\n",
            "[epoch: 20, batches:    40], loss: 0.951, accuracy:0.464\n",
            "[epoch: 20, batches:    60], loss: 1.009, accuracy:0.466\n",
            "[epoch: 21, batches:    20], loss: 0.979, accuracy:0.470\n",
            "[epoch: 21, batches:    40], loss: 0.909, accuracy:0.473\n",
            "[epoch: 21, batches:    60], loss: 0.976, accuracy:0.475\n",
            "[epoch: 22, batches:    20], loss: 1.023, accuracy:0.478\n",
            "[epoch: 22, batches:    40], loss: 0.802, accuracy:0.481\n",
            "[epoch: 22, batches:    60], loss: 0.833, accuracy:0.484\n",
            "[epoch: 23, batches:    20], loss: 0.853, accuracy:0.488\n",
            "[epoch: 23, batches:    40], loss: 0.838, accuracy:0.490\n",
            "[epoch: 23, batches:    60], loss: 0.870, accuracy:0.493\n",
            "[epoch: 24, batches:    20], loss: 0.798, accuracy:0.496\n",
            "[epoch: 24, batches:    40], loss: 0.892, accuracy:0.499\n",
            "[epoch: 24, batches:    60], loss: 0.730, accuracy:0.502\n",
            "[epoch: 25, batches:    20], loss: 0.715, accuracy:0.505\n",
            "[epoch: 25, batches:    40], loss: 0.763, accuracy:0.508\n",
            "[epoch: 25, batches:    60], loss: 0.752, accuracy:0.510\n",
            "[epoch: 26, batches:    20], loss: 0.759, accuracy:0.513\n",
            "[epoch: 26, batches:    40], loss: 0.749, accuracy:0.515\n",
            "[epoch: 26, batches:    60], loss: 0.734, accuracy:0.518\n",
            "[epoch: 27, batches:    20], loss: 0.766, accuracy:0.521\n",
            "[epoch: 27, batches:    40], loss: 0.740, accuracy:0.523\n",
            "[epoch: 27, batches:    60], loss: 0.687, accuracy:0.525\n",
            "[epoch: 28, batches:    20], loss: 0.676, accuracy:0.529\n",
            "[epoch: 28, batches:    40], loss: 0.652, accuracy:0.531\n",
            "[epoch: 28, batches:    60], loss: 0.692, accuracy:0.533\n",
            "[epoch: 29, batches:    20], loss: 0.690, accuracy:0.537\n",
            "[epoch: 29, batches:    40], loss: 0.698, accuracy:0.539\n",
            "[epoch: 29, batches:    60], loss: 0.614, accuracy:0.541\n",
            "[epoch: 30, batches:    20], loss: 0.550, accuracy:0.545\n",
            "[epoch: 30, batches:    40], loss: 0.618, accuracy:0.547\n",
            "[epoch: 30, batches:    60], loss: 0.651, accuracy:0.550\n",
            "[epoch: 31, batches:    20], loss: 0.624, accuracy:0.553\n",
            "[epoch: 31, batches:    40], loss: 0.571, accuracy:0.555\n",
            "[epoch: 31, batches:    60], loss: 0.624, accuracy:0.557\n",
            "[epoch: 32, batches:    20], loss: 0.575, accuracy:0.560\n",
            "[epoch: 32, batches:    40], loss: 0.622, accuracy:0.562\n",
            "[epoch: 32, batches:    60], loss: 0.562, accuracy:0.564\n",
            "[epoch: 33, batches:    20], loss: 0.495, accuracy:0.567\n",
            "[epoch: 33, batches:    40], loss: 0.498, accuracy:0.570\n",
            "[epoch: 33, batches:    60], loss: 0.589, accuracy:0.572\n",
            "[epoch: 34, batches:    20], loss: 0.494, accuracy:0.575\n",
            "[epoch: 34, batches:    40], loss: 0.532, accuracy:0.577\n",
            "[epoch: 34, batches:    60], loss: 0.527, accuracy:0.579\n",
            "[epoch: 35, batches:    20], loss: 0.546, accuracy:0.582\n",
            "[epoch: 35, batches:    40], loss: 0.442, accuracy:0.584\n",
            "[epoch: 35, batches:    60], loss: 0.528, accuracy:0.586\n",
            "[epoch: 36, batches:    20], loss: 0.434, accuracy:0.589\n",
            "[epoch: 36, batches:    40], loss: 0.403, accuracy:0.591\n",
            "[epoch: 36, batches:    60], loss: 0.453, accuracy:0.593\n",
            "[epoch: 37, batches:    20], loss: 0.400, accuracy:0.596\n",
            "[epoch: 37, batches:    40], loss: 0.367, accuracy:0.599\n",
            "[epoch: 37, batches:    60], loss: 0.459, accuracy:0.600\n",
            "[epoch: 38, batches:    20], loss: 0.372, accuracy:0.604\n",
            "[epoch: 38, batches:    40], loss: 0.372, accuracy:0.606\n",
            "[epoch: 38, batches:    60], loss: 0.411, accuracy:0.608\n",
            "[epoch: 39, batches:    20], loss: 0.395, accuracy:0.611\n",
            "[epoch: 39, batches:    40], loss: 0.353, accuracy:0.613\n",
            "[epoch: 39, batches:    60], loss: 0.356, accuracy:0.614\n",
            "[epoch: 40, batches:    20], loss: 0.315, accuracy:0.618\n",
            "[epoch: 40, batches:    40], loss: 0.294, accuracy:0.620\n",
            "[epoch: 40, batches:    60], loss: 0.368, accuracy:0.621\n",
            "[epoch: 41, batches:    20], loss: 0.313, accuracy:0.624\n",
            "[epoch: 41, batches:    40], loss: 0.316, accuracy:0.626\n",
            "[epoch: 41, batches:    60], loss: 0.329, accuracy:0.628\n",
            "[epoch: 42, batches:    20], loss: 0.246, accuracy:0.631\n",
            "[epoch: 42, batches:    40], loss: 0.271, accuracy:0.633\n",
            "[epoch: 42, batches:    60], loss: 0.335, accuracy:0.635\n",
            "[epoch: 43, batches:    20], loss: 0.316, accuracy:0.637\n",
            "[epoch: 43, batches:    40], loss: 0.267, accuracy:0.639\n",
            "[epoch: 43, batches:    60], loss: 0.313, accuracy:0.641\n",
            "[epoch: 44, batches:    20], loss: 0.252, accuracy:0.644\n",
            "[epoch: 44, batches:    40], loss: 0.263, accuracy:0.646\n",
            "[epoch: 44, batches:    60], loss: 0.303, accuracy:0.647\n",
            "[epoch: 45, batches:    20], loss: 0.231, accuracy:0.650\n",
            "[epoch: 45, batches:    40], loss: 0.241, accuracy:0.652\n",
            "[epoch: 45, batches:    60], loss: 0.209, accuracy:0.654\n",
            "[epoch: 46, batches:    20], loss: 0.270, accuracy:0.656\n",
            "[epoch: 46, batches:    40], loss: 0.238, accuracy:0.658\n",
            "[epoch: 46, batches:    60], loss: 0.282, accuracy:0.659\n",
            "[epoch: 47, batches:    20], loss: 0.218, accuracy:0.662\n",
            "[epoch: 47, batches:    40], loss: 0.221, accuracy:0.664\n",
            "[epoch: 47, batches:    60], loss: 0.224, accuracy:0.665\n",
            "[epoch: 48, batches:    20], loss: 0.183, accuracy:0.668\n",
            "[epoch: 48, batches:    40], loss: 0.200, accuracy:0.669\n",
            "[epoch: 48, batches:    60], loss: 0.174, accuracy:0.671\n",
            "[epoch: 49, batches:    20], loss: 0.212, accuracy:0.673\n",
            "[epoch: 49, batches:    40], loss: 0.220, accuracy:0.675\n",
            "[epoch: 49, batches:    60], loss: 0.247, accuracy:0.676\n",
            "[epoch: 50, batches:    20], loss: 0.150, accuracy:0.679\n",
            "[epoch: 50, batches:    40], loss: 0.167, accuracy:0.680\n",
            "[epoch: 50, batches:    60], loss: 0.198, accuracy:0.681\n",
            "Finished Training\n"
          ]
        }
      ]
    },
    {
      "cell_type": "code",
      "source": [
        "test(model3, test_loader)"
      ],
      "metadata": {
        "colab": {
          "base_uri": "https://localhost:8080/"
        },
        "id": "3HRxcLVPJiAh",
        "outputId": "bae247c6-a1ba-4c1f-ea37-7e547051cc18"
      },
      "execution_count": 57,
      "outputs": [
        {
          "output_type": "stream",
          "name": "stdout",
          "text": [
            "Test accuracy: 62 %\n"
          ]
        }
      ]
    }
  ],
  "metadata": {
    "colab": {
      "provenance": [],
      "include_colab_link": true
    },
    "kernelspec": {
      "display_name": "Python 3",
      "name": "python3"
    },
    "language_info": {
      "codemirror_mode": {
        "name": "ipython",
        "version": 3
      },
      "file_extension": ".py",
      "mimetype": "text/x-python",
      "name": "python",
      "nbconvert_exporter": "python",
      "pygments_lexer": "ipython3",
      "version": "3.9.16"
    },
    "accelerator": "GPU",
    "gpuClass": "standard"
  },
  "nbformat": 4,
  "nbformat_minor": 0
}