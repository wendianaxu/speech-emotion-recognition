{
  "cells": [
    {
      "cell_type": "markdown",
      "metadata": {
        "id": "view-in-github",
        "colab_type": "text"
      },
      "source": [
        "<a href=\"https://colab.research.google.com/github/wendianaxu/speech-emotion-recognition/blob/main/training.ipynb\" target=\"_parent\"><img src=\"https://colab.research.google.com/assets/colab-badge.svg\" alt=\"Open In Colab\"/></a>"
      ]
    },
    {
      "cell_type": "code",
      "execution_count": 2,
      "metadata": {
        "id": "EwhgQXLPc-S1"
      },
      "outputs": [],
      "source": [
        "import librosa\n",
        "import os\n",
        "import numpy as np\n",
        "import matplotlib.pyplot as plt"
      ]
    },
    {
      "cell_type": "code",
      "execution_count": 3,
      "metadata": {
        "id": "7gLHkEMSf-za",
        "colab": {
          "base_uri": "https://localhost:8080/"
        },
        "outputId": "34c01bd5-7ac2-40a7-eb13-d5f4aee15055"
      },
      "outputs": [
        {
          "output_type": "stream",
          "name": "stdout",
          "text": [
            "Mounted at /content/drive\n"
          ]
        }
      ],
      "source": [
        "from google.colab import drive\n",
        "drive.mount('/content/drive')"
      ]
    },
    {
      "cell_type": "code",
      "execution_count": 4,
      "metadata": {
        "colab": {
          "base_uri": "https://localhost:8080/"
        },
        "id": "zJ3NhGjceXB4",
        "outputId": "2f808f4d-e9c7-43ba-de29-47faba7b72a3"
      },
      "outputs": [
        {
          "output_type": "stream",
          "name": "stdout",
          "text": [
            "Cloning into 'speech-emotion-recognition'...\n",
            "remote: Enumerating objects: 1531, done.\u001b[K\n",
            "remote: Counting objects: 100% (62/62), done.\u001b[K\n",
            "remote: Compressing objects: 100% (47/47), done.\u001b[K\n",
            "remote: Total 1531 (delta 26), reused 31 (delta 9), pack-reused 1469\u001b[K\n",
            "Receiving objects: 100% (1531/1531), 213.92 MiB | 26.74 MiB/s, done.\n",
            "Resolving deltas: 100% (265/265), done.\n",
            "Updating files: 100% (1447/1447), done.\n"
          ]
        }
      ],
      "source": [
        "!git clone https://github.com/wendianaxu/speech-emotion-recognition.git"
      ]
    },
    {
      "cell_type": "code",
      "source": [
        "# copy directory to drive\n",
        "!cp -r \"/content/speech-emotion-recognition\" \"/content/drive/MyDrive\""
      ],
      "metadata": {
        "id": "XWYcc00n2QMb",
        "colab": {
          "base_uri": "https://localhost:8080/"
        },
        "outputId": "40690e0c-14ce-43c9-f175-6d0981677c27"
      },
      "execution_count": 5,
      "outputs": [
        {
          "output_type": "stream",
          "name": "stdout",
          "text": [
            "^C\n"
          ]
        }
      ]
    },
    {
      "cell_type": "code",
      "execution_count": 5,
      "metadata": {
        "id": "GNAcBeb1eV-U"
      },
      "outputs": [],
      "source": [
        "# test: load an audio file, extract mfccs, and visualize\n",
        "\n",
        "test_file = \"/content/drive/MyDrive/speech-emotion-recognition/RAVDESS_data/Actor_01/03-01-01-01-01-01-01.wav\"\n",
        "n_mfcc = 13 # common choice\n",
        "sr = 22050 # sampling rate\n"
      ]
    },
    {
      "cell_type": "code",
      "source": [
        "# visualize mfccs\n",
        "audio, sampling_rate = librosa.load(test_file, sr=sr, duration=None)\n",
        "test_mfccs = librosa.feature.mfcc(y=audio, sr=sr, n_mfcc=n_mfcc)\n",
        "\n",
        "plt.figure(figsize=(10, 5))\n",
        "librosa.display.specshow(test_mfccs, \n",
        "                         x_axis=\"time\", \n",
        "                         sr=sr)\n",
        "plt.colorbar(format=\"%+2.f\")\n",
        "plt.show()"
      ],
      "metadata": {
        "id": "swMzgoDxqFIk",
        "colab": {
          "base_uri": "https://localhost:8080/",
          "height": 465
        },
        "outputId": "34d667e3-580c-48ca-96cb-6cffb5235738"
      },
      "execution_count": 6,
      "outputs": [
        {
          "output_type": "display_data",
          "data": {
            "text/plain": [
              "<Figure size 1000x500 with 2 Axes>"
            ],
            "image/png": "[encoded data removed]"
          },
          "metadata": {}
        }
      ]
    },
    {
      "cell_type": "code",
      "execution_count": 7,
      "metadata": {
        "id": "aRo0EShAwUTP"
      },
      "outputs": [],
      "source": [
        "# function for loading an audio file\n",
        "data_path = \"/content/speech-emotion-recognition/RAVDESS_data/\"\n",
        "def load_file(path):\n",
        "  '''\n",
        "  Load one audio file and return a 1D array containing its mfccs averaged across time\n",
        "  '''\n",
        "  audio, sampling_rate = librosa.load(path, sr=sr, duration=None)\n",
        "  mfccs = librosa.feature.mfcc(y=audio, sr=sr, n_mfcc=n_mfcc) # extract MFCC matrix (cols = coefficients, rows = time)\n",
        "  features = np.mean(mfccs.T, axis=0)  # condense MFCC matrix into 1D array, averaging each coefficient across time\n",
        "  return features\n",
        "\n",
        "#load_file(test_file)\n"
      ]
    },
    {
      "cell_type": "code",
      "execution_count": 28,
      "metadata": {
        "id": "12Sp_TsXp52s"
      },
      "outputs": [],
      "source": [
        "# function for transforming dataset into arrays\n",
        "def preprocess_data(path):\n",
        "  '''\n",
        "  Preprocess data in all folders within the dataset. \n",
        "  '''\n",
        "  X = []\n",
        "  y = []\n",
        "  for folder in os.listdir(path): # each folder = one actor\n",
        "      for file in os.listdir(os.path.join(path, folder)):\n",
        "          if file.endswith('.wav'):\n",
        "              emotion = file.split('-')[2] # get emotion label\n",
        "              if int(emotion) == 1:\n",
        "                  label = 'Neutral'\n",
        "              elif int(emotion) == 2:\n",
        "                  label = 'Calm'\n",
        "              elif int(emotion) == 3:\n",
        "                  label = 'Happy'\n",
        "              elif int(emotion) == 4:\n",
        "                  label = 'Sad'\n",
        "              elif int(emotion) == 5:\n",
        "                  label = 'Angry'\n",
        "              elif int(emotion) == 6:\n",
        "                  label = 'Fearful'\n",
        "              elif int(emotion) == 7:\n",
        "                  label = 'Disgust'\n",
        "              elif int(emotion) == 8:\n",
        "                  label = 'Surprised'\n",
        "              else:\n",
        "                  label = 'UNK'\n",
        "                  \n",
        "              file_path = os.path.join(path, folder, file)\n",
        "              features = load_file(file_path)\n",
        "              X.append(features)\n",
        "              y.append(label)\n",
        "  return np.array(X), np.array(y)\n"
      ]
    },
    {
      "cell_type": "code",
      "execution_count": 29,
      "metadata": {
        "id": "FU1ANDxI0dvC",
        "colab": {
          "base_uri": "https://localhost:8080/"
        },
        "outputId": "1f4e4e22-b16b-4f45-b352-48fd1a31a8a6"
      },
      "outputs": [
        {
          "output_type": "stream",
          "name": "stdout",
          "text": [
            "Shape of X: (1440, 13)\n",
            "Shape of y: (1440,)\n"
          ]
        }
      ],
      "source": [
        "X, y = preprocess_data(data_path)\n",
        "print(\"Shape of X:\", X.shape)\n",
        "print(\"Shape of y:\", y.shape)"
      ]
    },
    {
      "cell_type": "code",
      "execution_count": 26,
      "metadata": {
        "id": "upAE4CSR-OSh"
      },
      "outputs": [],
      "source": [
        "# function that visualizes different emotions for one statement, given that intensity, repetition, and actor are all same\n",
        "def visualize_by_statement(path, intensity='01', repetition='01', actor='01'):\n",
        "    X = []\n",
        "    y = []\n",
        "    emo = ['Neutral', 'Calm', 'Happy', 'Sad', 'Angry', 'Fearful', 'Disgust', 'Surprised', 'UNK']\n",
        "    color_arr = ['red', 'blue', 'green', 'yellow', 'purple', 'orange', 'cyan', 'magenta']\n",
        "    x_values = range(13)\n",
        "    for file in os.listdir(os.path.join(path, 'Actor_'+ actor)):\n",
        "        if file.split('-')[3] == intensity and file.split('-')[5] == repetition:\n",
        "            emotion = file.split('-')[2] # get emotion label\n",
        "            if int(emotion) == 1:\n",
        "                mfcc = load_file(os.path.join(path, 'Actor_'+ actor, file))\n",
        "                plt.scatter(x_values, mfcc, color = color_arr[0], label = emo[0])\n",
        "            elif int(emotion) == 2:\n",
        "                mfcc = load_file(os.path.join(path, 'Actor_'+ actor, file))\n",
        "                plt.scatter(x_values, mfcc, color = color_arr[1], label = emo[1])\n",
        "            elif int(emotion) == 3:\n",
        "                mfcc = load_file(os.path.join(path, 'Actor_'+ actor, file))\n",
        "                plt.scatter(x_values, mfcc, color = color_arr[2], label = emo[2])\n",
        "            elif int(emotion) == 4:\n",
        "                mfcc = load_file(os.path.join(path, 'Actor_'+ actor, file))\n",
        "                plt.scatter(x_values, mfcc, color = color_arr[3], label = emo[3])\n",
        "            elif int(emotion) == 5:\n",
        "                mfcc = load_file(os.path.join(path, 'Actor_'+ actor, file))\n",
        "                plt.scatter(x_values, mfcc, color = color_arr[4], label = emo[4])\n",
        "            elif int(emotion) == 6:\n",
        "                mfcc = load_file(os.path.join(path, 'Actor_'+ actor, file))\n",
        "                plt.scatter(x_values, mfcc, color = color_arr[5], label = emo[5])\n",
        "            elif int(emotion) == 7:\n",
        "                mfcc = load_file(os.path.join(path, 'Actor_'+ actor, file))\n",
        "                plt.scatter(x_values, mfcc, color = color_arr[6], label = emo[6])\n",
        "            elif int(emotion) == 8:\n",
        "                mfcc = load_file(os.path.join(path, 'Actor_'+ actor, file))\n",
        "                plt.scatter(x_values, mfcc, color = color_arr[7], label = emo[7])\n",
        "    \n",
        "    plt.xlabel('Features')\n",
        "    plt.ylabel('MFCC Values')\n",
        "\n",
        "    # Remove duplicate labels from the legend\n",
        "    handles, labels = plt.gca().get_legend_handles_labels()\n",
        "    by_label = dict(zip(labels, handles))\n",
        "    plt.legend(by_label.values(), by_label.keys())\n",
        "\n",
        "    plt.show()"
      ]
    },
    {
      "cell_type": "code",
      "execution_count": 27,
      "metadata": {
        "id": "aeNOlE-z-OSi",
        "outputId": "003359a3-d557-44d8-dadf-16927c805cef",
        "colab": {
          "base_uri": "https://localhost:8080/",
          "height": 450
        }
      },
      "outputs": [
        {
          "output_type": "display_data",
          "data": {
            "text/plain": [
              "<Figure size 640x480 with 1 Axes>"
            ],
            "image/png": "[encoded data removed]"
          },
          "metadata": {}
        }
      ],
      "source": [
        "visualize_by_statement(data_path)"
      ]
    },
    {
      "cell_type": "code",
      "source": [
        "# load X, y\n",
        "X = np.load('/content/drive/MyDrive/speech-emotion-recognition/X.npy')\n",
        "y = np.load('/content/drive/MyDrive/speech-emotion-recognition/y.npy')\n",
        "print(X.shape, y.shape)"
      ],
      "metadata": {
        "id": "bTFdRKqmvRBk",
        "colab": {
          "base_uri": "https://localhost:8080/"
        },
        "outputId": "eeb3f9b7-67c6-468b-b9e8-a32b2f7a3596"
      },
      "execution_count": 30,
      "outputs": [
        {
          "output_type": "stream",
          "name": "stdout",
          "text": [
            "(1440, 13) (1440,)\n"
          ]
        }
      ]
    },
    {
      "cell_type": "code",
      "source": [
        "# save X, y\n",
        "np.save('/content/drive/MyDrive/speech-emotion-recognition/X.npy', X)\n",
        "np.save('/content/drive/MyDrive/speech-emotion-recognition/y.npy', y)"
      ],
      "metadata": {
        "id": "yOt4ie_7u1ZZ"
      },
      "execution_count": 31,
      "outputs": []
    },
    {
      "cell_type": "code",
      "source": [
        "# one-hot encode labels\n",
        "from sklearn.preprocessing import OneHotEncoder\n",
        "OHE = OneHotEncoder()\n",
        "\n",
        "y = np.array(y).reshape(-1,1)\n",
        "y = OHE.fit_transform(y).toarray()"
      ],
      "metadata": {
        "id": "IV2uPPlZ8GCK"
      },
      "execution_count": 32,
      "outputs": []
    },
    {
      "cell_type": "code",
      "source": [
        "# train-test split\n",
        "from sklearn.model_selection import train_test_split\n",
        "X_train, X_test, y_train, y_test = train_test_split(\n",
        "    X, y, test_size=0.2, random_state=0)"
      ],
      "metadata": {
        "id": "qoEI7uQMZu-6"
      },
      "execution_count": 33,
      "outputs": []
    },
    {
      "cell_type": "code",
      "source": [
        "# CNN with torch\n",
        "import torch.nn as nn\n",
        "import torch.nn.functional as F\n",
        "import torchaudio\n",
        "from torchsummary import summary\n",
        "import torch\n",
        "\n",
        "device = torch.device('cuda:0' if torch.cuda.is_available() else 'cpu')"
      ],
      "metadata": {
        "id": "AqbfO9HWA0Z7"
      },
      "execution_count": 34,
      "outputs": []
    },
    {
      "cell_type": "code",
      "source": [
        "# transform preprocessed data to Dataset class\n",
        "from torch.utils.data import TensorDataset, DataLoader\n",
        "from torch import Tensor\n",
        "\n",
        "# transform arrays to torch tensors\n",
        "X_train = Tensor(X_train).unsqueeze(1)\n",
        "y_train = Tensor(y_train)\n",
        "X_test = Tensor(X_test).unsqueeze(1)\n",
        "y_test = Tensor(y_test)\n",
        "\n",
        "train_set = TensorDataset(X_train, y_train) \n",
        "test_set = TensorDataset(X_test, y_test) \n"
      ],
      "metadata": {
        "id": "-hBDtuYDz0Ta"
      },
      "execution_count": 35,
      "outputs": []
    },
    {
      "cell_type": "code",
      "source": [
        "X_test.shape"
      ],
      "metadata": {
        "colab": {
          "base_uri": "https://localhost:8080/"
        },
        "id": "GonHPEnPfedB",
        "outputId": "4883a9d2-d80f-4024-ef30-844266307e76"
      },
      "execution_count": 36,
      "outputs": [
        {
          "output_type": "execute_result",
          "data": {
            "text/plain": [
              "torch.Size([288, 1, 13])"
            ]
          },
          "metadata": {},
          "execution_count": 36
        }
      ]
    },
    {
      "cell_type": "code",
      "source": [
        "# create DataLoaders\n",
        "batch_size = 16\n",
        "\n",
        "train_loader = DataLoader(train_set, batch_size = batch_size, \n",
        "                          shuffle = True, num_workers = 2)\n",
        "test_loader = DataLoader(test_set, batch_size = batch_size, \n",
        "                          shuffle = True, num_workers = 2)"
      ],
      "metadata": {
        "id": "6YK4WevZAy08"
      },
      "execution_count": 37,
      "outputs": []
    },
    {
      "cell_type": "code",
      "source": [
        "# model1\n",
        "class ConvNet(nn.Module):\n",
        "  def __init__(self):\n",
        "    super().__init__()\n",
        "\n",
        "    self.conv1 = nn.Conv1d(1, 32, kernel_size=3)\n",
        "    self.bn1 = nn.BatchNorm1d(32)\n",
        "    self.conv2 = nn.Conv1d(32, 64, kernel_size=3)\n",
        "    self.bn2 = nn.BatchNorm1d(64)\n",
        "    self.pool = nn.MaxPool1d(2)\n",
        "    self.fc1 = nn.Linear(64, 128)\n",
        "    self.fc2 = nn.Linear(128, 8)\n",
        "  \n",
        "  def forward(self, x):\n",
        "    x = self.pool(F.relu(self.bn1(self.conv1(x))))\n",
        "    x = self.pool(F.relu(self.bn2(self.conv2(x))))\n",
        "    x = torch.flatten(x, 1) \n",
        "    x = F.relu(self.fc1(x))\n",
        "    x = self.fc2(x)\n",
        "    return x\n",
        "\n",
        "model1 = ConvNet().to(device)"
      ],
      "metadata": {
        "id": "8IJkyGBWPpFP"
      },
      "execution_count": 38,
      "outputs": []
    },
    {
      "cell_type": "code",
      "source": [
        "# training loop\n",
        "import torch.optim as optim\n",
        "\n",
        "def train(model, k_epochs = 1, print_every = 20):\n",
        "\n",
        "    loss_fn = nn.CrossEntropyLoss() \n",
        "    optimizer = optim.Adam(model.parameters(), lr=0.001)\n",
        "\n",
        "    correct, total = 0, 0\n",
        "\n",
        "    for epoch in range(k_epochs): \n",
        "\n",
        "        running_loss = 0.0\n",
        "        for i, data in enumerate(train_loader, 0):\n",
        "\n",
        "            # extract a batch of training data from the data loader\n",
        "            X, y = data\n",
        "            X = X.to(device)\n",
        "            y = y.to(device)\n",
        "\n",
        "            # zero out gradients: we're going to recompute them in a moment\n",
        "            optimizer.zero_grad()\n",
        "\n",
        "            # compute the loss (forward pass)\n",
        "            y_hat = model(X)\n",
        "            loss = loss_fn(y_hat, y)\n",
        "\n",
        "            # compute the gradient (backward pass)\n",
        "            loss.backward()\n",
        "\n",
        "            # Adam uses the gradient to update the parameters\n",
        "            optimizer.step()\n",
        "\n",
        "            # print statistics\n",
        "            running_loss += loss.item()\n",
        "\n",
        "            # for printing accuracy\n",
        "            total += y.size(0)\n",
        "            correct += (torch.argmax(y_hat, dim=1) == torch.argmax(y, dim=1)).sum().item()\n",
        "\n",
        "            # print the epoch, number of batches processed, and running loss \n",
        "            # in regular intervals\n",
        "            if i % print_every == print_every - 1:    \n",
        "              print(f'[epoch: {epoch + 1}, batches: {i + 1:5d}], loss: {running_loss / print_every:.3f}, accuracy:{correct/total:.3f}')\n",
        "              running_loss = 0.0\n",
        "\n",
        "    print('Finished Training')\n",
        "\n"
      ],
      "metadata": {
        "id": "9fiaCcRzom_K"
      },
      "execution_count": 39,
      "outputs": []
    },
    {
      "cell_type": "code",
      "source": [
        "# testing loop\n",
        "def test(model, data_loader):\n",
        "    correct = 0\n",
        "    total = 0\n",
        "    # torch.no_grad creates an environment in which we do NOT store the \n",
        "    # computational graph. We don't need to do this because we don't care about \n",
        "    # gradients unless we're training\n",
        "    with torch.no_grad():\n",
        "        for data in data_loader:\n",
        "            X, y = data\n",
        "            X = X.to(device)\n",
        "            y = y.to(device)\n",
        "            \n",
        "            # run all the images through the model\n",
        "            y_hat = model(X)\n",
        "\n",
        "            # the class with the largest model output is the prediction\n",
        "            predicted = torch.argmax(y_hat, dim=1)\n",
        "\n",
        "            # compute the accuracy\n",
        "            total += y.size(0)\n",
        "            correct += (predicted == torch.argmax(y, dim=1)).sum().item()\n",
        "\n",
        "    print(f'Test accuracy: {100 * correct // total} %')\n"
      ],
      "metadata": {
        "id": "dk-tVRp4kpYj"
      },
      "execution_count": 40,
      "outputs": []
    },
    {
      "cell_type": "code",
      "source": [
        "# train model1\n",
        "train(model1, k_epochs = 50)"
      ],
      "metadata": {
        "colab": {
          "base_uri": "https://localhost:8080/"
        },
        "id": "YqDUrRPKvPvl",
        "outputId": "8bca3e18-d510-4269-cce4-e40c671a4a37"
      },
      "execution_count": 23,
      "outputs": [
        {
          "output_type": "stream",
          "name": "stdout",
          "text": [
            "[epoch: 1, batches:    20], loss: 2.036, accuracy:0.188\n",
            "[epoch: 1, batches:    40], loss: 1.986, accuracy:0.208\n",
            "[epoch: 1, batches:    60], loss: 1.914, accuracy:0.223\n",
            "[epoch: 2, batches:    20], loss: 1.858, accuracy:0.249\n",
            "[epoch: 2, batches:    40], loss: 1.790, accuracy:0.263\n",
            "[epoch: 2, batches:    60], loss: 1.773, accuracy:0.268\n",
            "[epoch: 3, batches:    20], loss: 1.733, accuracy:0.281\n",
            "[epoch: 3, batches:    40], loss: 1.724, accuracy:0.289\n",
            "[epoch: 3, batches:    60], loss: 1.708, accuracy:0.292\n",
            "[epoch: 4, batches:    20], loss: 1.661, accuracy:0.297\n",
            "[epoch: 4, batches:    40], loss: 1.647, accuracy:0.304\n",
            "[epoch: 4, batches:    60], loss: 1.648, accuracy:0.312\n",
            "[epoch: 5, batches:    20], loss: 1.690, accuracy:0.316\n",
            "[epoch: 5, batches:    40], loss: 1.629, accuracy:0.319\n",
            "[epoch: 5, batches:    60], loss: 1.564, accuracy:0.325\n",
            "[epoch: 6, batches:    20], loss: 1.550, accuracy:0.332\n",
            "[epoch: 6, batches:    40], loss: 1.584, accuracy:0.337\n",
            "[epoch: 6, batches:    60], loss: 1.605, accuracy:0.340\n",
            "[epoch: 7, batches:    20], loss: 1.511, accuracy:0.345\n",
            "[epoch: 7, batches:    40], loss: 1.537, accuracy:0.347\n",
            "[epoch: 7, batches:    60], loss: 1.577, accuracy:0.349\n",
            "[epoch: 8, batches:    20], loss: 1.531, accuracy:0.350\n",
            "[epoch: 8, batches:    40], loss: 1.567, accuracy:0.352\n",
            "[epoch: 8, batches:    60], loss: 1.513, accuracy:0.355\n",
            "[epoch: 9, batches:    20], loss: 1.593, accuracy:0.358\n",
            "[epoch: 9, batches:    40], loss: 1.521, accuracy:0.359\n",
            "[epoch: 9, batches:    60], loss: 1.509, accuracy:0.361\n",
            "[epoch: 10, batches:    20], loss: 1.511, accuracy:0.364\n",
            "[epoch: 10, batches:    40], loss: 1.393, accuracy:0.367\n",
            "[epoch: 10, batches:    60], loss: 1.571, accuracy:0.368\n",
            "[epoch: 11, batches:    20], loss: 1.468, accuracy:0.371\n",
            "[epoch: 11, batches:    40], loss: 1.567, accuracy:0.371\n",
            "[epoch: 11, batches:    60], loss: 1.468, accuracy:0.373\n",
            "[epoch: 12, batches:    20], loss: 1.578, accuracy:0.376\n",
            "[epoch: 12, batches:    40], loss: 1.408, accuracy:0.378\n",
            "[epoch: 12, batches:    60], loss: 1.434, accuracy:0.381\n",
            "[epoch: 13, batches:    20], loss: 1.472, accuracy:0.383\n",
            "[epoch: 13, batches:    40], loss: 1.475, accuracy:0.384\n",
            "[epoch: 13, batches:    60], loss: 1.507, accuracy:0.385\n",
            "[epoch: 14, batches:    20], loss: 1.400, accuracy:0.387\n",
            "[epoch: 14, batches:    40], loss: 1.493, accuracy:0.388\n",
            "[epoch: 14, batches:    60], loss: 1.473, accuracy:0.389\n",
            "[epoch: 15, batches:    20], loss: 1.391, accuracy:0.392\n",
            "[epoch: 15, batches:    40], loss: 1.452, accuracy:0.393\n",
            "[epoch: 15, batches:    60], loss: 1.390, accuracy:0.395\n",
            "[epoch: 16, batches:    20], loss: 1.377, accuracy:0.397\n",
            "[epoch: 16, batches:    40], loss: 1.415, accuracy:0.398\n",
            "[epoch: 16, batches:    60], loss: 1.432, accuracy:0.399\n",
            "[epoch: 17, batches:    20], loss: 1.330, accuracy:0.401\n",
            "[epoch: 17, batches:    40], loss: 1.408, accuracy:0.402\n",
            "[epoch: 17, batches:    60], loss: 1.411, accuracy:0.403\n",
            "[epoch: 18, batches:    20], loss: 1.363, accuracy:0.404\n",
            "[epoch: 18, batches:    40], loss: 1.427, accuracy:0.404\n",
            "[epoch: 18, batches:    60], loss: 1.307, accuracy:0.406\n",
            "[epoch: 19, batches:    20], loss: 1.376, accuracy:0.407\n",
            "[epoch: 19, batches:    40], loss: 1.322, accuracy:0.409\n",
            "[epoch: 19, batches:    60], loss: 1.328, accuracy:0.410\n",
            "[epoch: 20, batches:    20], loss: 1.291, accuracy:0.412\n",
            "[epoch: 20, batches:    40], loss: 1.267, accuracy:0.414\n",
            "[epoch: 20, batches:    60], loss: 1.398, accuracy:0.414\n",
            "[epoch: 21, batches:    20], loss: 1.256, accuracy:0.417\n",
            "[epoch: 21, batches:    40], loss: 1.337, accuracy:0.418\n",
            "[epoch: 21, batches:    60], loss: 1.361, accuracy:0.418\n",
            "[epoch: 22, batches:    20], loss: 1.305, accuracy:0.420\n",
            "[epoch: 22, batches:    40], loss: 1.310, accuracy:0.421\n",
            "[epoch: 22, batches:    60], loss: 1.305, accuracy:0.422\n",
            "[epoch: 23, batches:    20], loss: 1.260, accuracy:0.424\n",
            "[epoch: 23, batches:    40], loss: 1.256, accuracy:0.425\n",
            "[epoch: 23, batches:    60], loss: 1.340, accuracy:0.426\n",
            "[epoch: 24, batches:    20], loss: 1.266, accuracy:0.428\n",
            "[epoch: 24, batches:    40], loss: 1.205, accuracy:0.429\n",
            "[epoch: 24, batches:    60], loss: 1.278, accuracy:0.431\n",
            "[epoch: 25, batches:    20], loss: 1.232, accuracy:0.432\n",
            "[epoch: 25, batches:    40], loss: 1.243, accuracy:0.434\n",
            "[epoch: 25, batches:    60], loss: 1.306, accuracy:0.435\n",
            "[epoch: 26, batches:    20], loss: 1.277, accuracy:0.436\n",
            "[epoch: 26, batches:    40], loss: 1.222, accuracy:0.437\n",
            "[epoch: 26, batches:    60], loss: 1.251, accuracy:0.438\n",
            "[epoch: 27, batches:    20], loss: 1.126, accuracy:0.440\n",
            "[epoch: 27, batches:    40], loss: 1.311, accuracy:0.441\n",
            "[epoch: 27, batches:    60], loss: 1.237, accuracy:0.442\n",
            "[epoch: 28, batches:    20], loss: 1.174, accuracy:0.444\n",
            "[epoch: 28, batches:    40], loss: 1.233, accuracy:0.445\n",
            "[epoch: 28, batches:    60], loss: 1.234, accuracy:0.446\n",
            "[epoch: 29, batches:    20], loss: 1.025, accuracy:0.448\n",
            "[epoch: 29, batches:    40], loss: 1.257, accuracy:0.449\n",
            "[epoch: 29, batches:    60], loss: 1.269, accuracy:0.449\n",
            "[epoch: 30, batches:    20], loss: 1.236, accuracy:0.450\n",
            "[epoch: 30, batches:    40], loss: 1.146, accuracy:0.452\n",
            "[epoch: 30, batches:    60], loss: 1.210, accuracy:0.452\n",
            "[epoch: 31, batches:    20], loss: 1.264, accuracy:0.454\n",
            "[epoch: 31, batches:    40], loss: 1.161, accuracy:0.454\n",
            "[epoch: 31, batches:    60], loss: 1.154, accuracy:0.455\n",
            "[epoch: 32, batches:    20], loss: 1.147, accuracy:0.457\n",
            "[epoch: 32, batches:    40], loss: 1.109, accuracy:0.458\n",
            "[epoch: 32, batches:    60], loss: 1.152, accuracy:0.459\n",
            "[epoch: 33, batches:    20], loss: 1.097, accuracy:0.461\n",
            "[epoch: 33, batches:    40], loss: 1.085, accuracy:0.462\n",
            "[epoch: 33, batches:    60], loss: 1.225, accuracy:0.462\n",
            "[epoch: 34, batches:    20], loss: 1.156, accuracy:0.463\n",
            "[epoch: 34, batches:    40], loss: 1.104, accuracy:0.464\n",
            "[epoch: 34, batches:    60], loss: 1.153, accuracy:0.465\n",
            "[epoch: 35, batches:    20], loss: 1.061, accuracy:0.467\n",
            "[epoch: 35, batches:    40], loss: 1.081, accuracy:0.468\n",
            "[epoch: 35, batches:    60], loss: 1.203, accuracy:0.469\n",
            "[epoch: 36, batches:    20], loss: 1.122, accuracy:0.470\n",
            "[epoch: 36, batches:    40], loss: 1.058, accuracy:0.471\n",
            "[epoch: 36, batches:    60], loss: 1.079, accuracy:0.472\n",
            "[epoch: 37, batches:    20], loss: 1.076, accuracy:0.474\n",
            "[epoch: 37, batches:    40], loss: 1.114, accuracy:0.474\n",
            "[epoch: 37, batches:    60], loss: 1.139, accuracy:0.475\n",
            "[epoch: 38, batches:    20], loss: 1.103, accuracy:0.476\n",
            "[epoch: 38, batches:    40], loss: 1.045, accuracy:0.477\n",
            "[epoch: 38, batches:    60], loss: 1.041, accuracy:0.478\n",
            "[epoch: 39, batches:    20], loss: 1.092, accuracy:0.479\n",
            "[epoch: 39, batches:    40], loss: 1.019, accuracy:0.480\n",
            "[epoch: 39, batches:    60], loss: 1.075, accuracy:0.481\n",
            "[epoch: 40, batches:    20], loss: 0.966, accuracy:0.482\n",
            "[epoch: 40, batches:    40], loss: 1.107, accuracy:0.483\n",
            "[epoch: 40, batches:    60], loss: 1.073, accuracy:0.484\n",
            "[epoch: 41, batches:    20], loss: 1.014, accuracy:0.485\n",
            "[epoch: 41, batches:    40], loss: 1.029, accuracy:0.486\n",
            "[epoch: 41, batches:    60], loss: 1.096, accuracy:0.487\n",
            "[epoch: 42, batches:    20], loss: 1.005, accuracy:0.488\n",
            "[epoch: 42, batches:    40], loss: 1.040, accuracy:0.489\n",
            "[epoch: 42, batches:    60], loss: 0.991, accuracy:0.490\n",
            "[epoch: 43, batches:    20], loss: 0.965, accuracy:0.492\n",
            "[epoch: 43, batches:    40], loss: 1.005, accuracy:0.493\n",
            "[epoch: 43, batches:    60], loss: 0.976, accuracy:0.493\n",
            "[epoch: 44, batches:    20], loss: 1.011, accuracy:0.495\n",
            "[epoch: 44, batches:    40], loss: 1.054, accuracy:0.495\n",
            "[epoch: 44, batches:    60], loss: 0.983, accuracy:0.496\n",
            "[epoch: 45, batches:    20], loss: 0.954, accuracy:0.498\n",
            "[epoch: 45, batches:    40], loss: 0.944, accuracy:0.499\n",
            "[epoch: 45, batches:    60], loss: 0.985, accuracy:0.500\n",
            "[epoch: 46, batches:    20], loss: 0.953, accuracy:0.501\n",
            "[epoch: 46, batches:    40], loss: 1.001, accuracy:0.501\n",
            "[epoch: 46, batches:    60], loss: 1.054, accuracy:0.502\n",
            "[epoch: 47, batches:    20], loss: 0.981, accuracy:0.503\n",
            "[epoch: 47, batches:    40], loss: 0.922, accuracy:0.504\n",
            "[epoch: 47, batches:    60], loss: 0.956, accuracy:0.505\n",
            "[epoch: 48, batches:    20], loss: 0.928, accuracy:0.506\n",
            "[epoch: 48, batches:    40], loss: 0.985, accuracy:0.507\n",
            "[epoch: 48, batches:    60], loss: 1.001, accuracy:0.508\n",
            "[epoch: 49, batches:    20], loss: 0.891, accuracy:0.509\n",
            "[epoch: 49, batches:    40], loss: 0.983, accuracy:0.510\n",
            "[epoch: 49, batches:    60], loss: 1.002, accuracy:0.511\n",
            "[epoch: 50, batches:    20], loss: 0.961, accuracy:0.512\n",
            "[epoch: 50, batches:    40], loss: 0.952, accuracy:0.512\n",
            "[epoch: 50, batches:    60], loss: 0.872, accuracy:0.513\n",
            "Finished Training\n"
          ]
        }
      ]
    },
    {
      "cell_type": "code",
      "source": [
        "# test model1\n",
        "test(model1, test_loader)"
      ],
      "metadata": {
        "colab": {
          "base_uri": "https://localhost:8080/"
        },
        "id": "DRsArYBMvjMJ",
        "outputId": "5381e5f2-ceab-4fc7-d9c4-dfa77a73e870"
      },
      "execution_count": 24,
      "outputs": [
        {
          "output_type": "stream",
          "name": "stdout",
          "text": [
            "Test accuracy: 45 %\n"
          ]
        }
      ]
    },
    {
      "cell_type": "code",
      "source": [
        "# model2\n",
        "class ConvNet(nn.Module):\n",
        "  def __init__(self):\n",
        "    super().__init__()\n",
        "\n",
        "    self.conv1 = nn.Conv1d(1, 32, kernel_size=3)\n",
        "    self.bn1 = nn.BatchNorm1d(32)\n",
        "    self.conv2 = nn.Conv1d(32, 64, kernel_size=3)\n",
        "    self.bn2 = nn.BatchNorm1d(64)\n",
        "    self.pool = nn.MaxPool1d(2)\n",
        "    self.fc1 = nn.Linear(64, 32)\n",
        "    self.fc2 = nn.Linear(32, 16)\n",
        "    self.fc3 = nn.Linear(16, 8)\n",
        "  \n",
        "  def forward(self, x):\n",
        "    x = self.pool(F.relu(self.bn1(self.conv1(x))))\n",
        "    x = self.pool(F.relu(self.bn2(self.conv2(x))))\n",
        "    x = torch.flatten(x, 1) \n",
        "    x = F.relu(self.fc1(x))\n",
        "    x = F.relu(self.fc2(x))\n",
        "    x = self.fc3(x)\n",
        "    return x\n",
        "\n",
        "model2 = ConvNet().to(device)"
      ],
      "metadata": {
        "id": "m_VVL_dRtvWI"
      },
      "execution_count": 25,
      "outputs": []
    },
    {
      "cell_type": "code",
      "source": [
        "train(model2, k_epochs = 50)"
      ],
      "metadata": {
        "colab": {
          "base_uri": "https://localhost:8080/"
        },
        "id": "lJIG2Yzrv6oO",
        "outputId": "1c9e591c-c561-4cb1-e26e-2e611ac0ed89"
      },
      "execution_count": 26,
      "outputs": [
        {
          "output_type": "stream",
          "name": "stdout",
          "text": [
            "[epoch: 1, batches:    20], loss: 2.069, accuracy:0.169\n",
            "[epoch: 1, batches:    40], loss: 2.025, accuracy:0.186\n",
            "[epoch: 1, batches:    60], loss: 1.999, accuracy:0.192\n",
            "[epoch: 2, batches:    20], loss: 1.940, accuracy:0.207\n",
            "[epoch: 2, batches:    40], loss: 1.931, accuracy:0.214\n",
            "[epoch: 2, batches:    60], loss: 1.927, accuracy:0.215\n",
            "[epoch: 3, batches:    20], loss: 1.908, accuracy:0.221\n",
            "[epoch: 3, batches:    40], loss: 1.831, accuracy:0.229\n",
            "[epoch: 3, batches:    60], loss: 1.831, accuracy:0.232\n",
            "[epoch: 4, batches:    20], loss: 1.775, accuracy:0.244\n",
            "[epoch: 4, batches:    40], loss: 1.901, accuracy:0.243\n",
            "[epoch: 4, batches:    60], loss: 1.794, accuracy:0.250\n",
            "[epoch: 5, batches:    20], loss: 1.764, accuracy:0.255\n",
            "[epoch: 5, batches:    40], loss: 1.786, accuracy:0.259\n",
            "[epoch: 5, batches:    60], loss: 1.781, accuracy:0.262\n",
            "[epoch: 6, batches:    20], loss: 1.730, accuracy:0.269\n",
            "[epoch: 6, batches:    40], loss: 1.763, accuracy:0.273\n",
            "[epoch: 6, batches:    60], loss: 1.662, accuracy:0.277\n",
            "[epoch: 7, batches:    20], loss: 1.742, accuracy:0.278\n",
            "[epoch: 7, batches:    40], loss: 1.698, accuracy:0.282\n",
            "[epoch: 7, batches:    60], loss: 1.696, accuracy:0.284\n",
            "[epoch: 8, batches:    20], loss: 1.646, accuracy:0.291\n",
            "[epoch: 8, batches:    40], loss: 1.669, accuracy:0.293\n",
            "[epoch: 8, batches:    60], loss: 1.674, accuracy:0.295\n",
            "[epoch: 9, batches:    20], loss: 1.675, accuracy:0.298\n",
            "[epoch: 9, batches:    40], loss: 1.672, accuracy:0.301\n",
            "[epoch: 9, batches:    60], loss: 1.662, accuracy:0.303\n",
            "[epoch: 10, batches:    20], loss: 1.670, accuracy:0.306\n",
            "[epoch: 10, batches:    40], loss: 1.582, accuracy:0.310\n",
            "[epoch: 10, batches:    60], loss: 1.627, accuracy:0.312\n",
            "[epoch: 11, batches:    20], loss: 1.589, accuracy:0.316\n",
            "[epoch: 11, batches:    40], loss: 1.580, accuracy:0.318\n",
            "[epoch: 11, batches:    60], loss: 1.621, accuracy:0.321\n",
            "[epoch: 12, batches:    20], loss: 1.572, accuracy:0.323\n",
            "[epoch: 12, batches:    40], loss: 1.616, accuracy:0.325\n",
            "[epoch: 12, batches:    60], loss: 1.613, accuracy:0.326\n",
            "[epoch: 13, batches:    20], loss: 1.597, accuracy:0.329\n",
            "[epoch: 13, batches:    40], loss: 1.546, accuracy:0.332\n",
            "[epoch: 13, batches:    60], loss: 1.596, accuracy:0.332\n",
            "[epoch: 14, batches:    20], loss: 1.580, accuracy:0.335\n",
            "[epoch: 14, batches:    40], loss: 1.518, accuracy:0.336\n",
            "[epoch: 14, batches:    60], loss: 1.518, accuracy:0.337\n",
            "[epoch: 15, batches:    20], loss: 1.568, accuracy:0.340\n",
            "[epoch: 15, batches:    40], loss: 1.480, accuracy:0.341\n",
            "[epoch: 15, batches:    60], loss: 1.557, accuracy:0.343\n",
            "[epoch: 16, batches:    20], loss: 1.516, accuracy:0.344\n",
            "[epoch: 16, batches:    40], loss: 1.517, accuracy:0.346\n",
            "[epoch: 16, batches:    60], loss: 1.594, accuracy:0.347\n",
            "[epoch: 17, batches:    20], loss: 1.516, accuracy:0.349\n",
            "[epoch: 17, batches:    40], loss: 1.557, accuracy:0.350\n",
            "[epoch: 17, batches:    60], loss: 1.539, accuracy:0.351\n",
            "[epoch: 18, batches:    20], loss: 1.527, accuracy:0.353\n",
            "[epoch: 18, batches:    40], loss: 1.531, accuracy:0.353\n",
            "[epoch: 18, batches:    60], loss: 1.479, accuracy:0.354\n",
            "[epoch: 19, batches:    20], loss: 1.500, accuracy:0.356\n",
            "[epoch: 19, batches:    40], loss: 1.512, accuracy:0.357\n",
            "[epoch: 19, batches:    60], loss: 1.496, accuracy:0.358\n",
            "[epoch: 20, batches:    20], loss: 1.490, accuracy:0.360\n",
            "[epoch: 20, batches:    40], loss: 1.545, accuracy:0.360\n",
            "[epoch: 20, batches:    60], loss: 1.385, accuracy:0.362\n",
            "[epoch: 21, batches:    20], loss: 1.483, accuracy:0.363\n",
            "[epoch: 21, batches:    40], loss: 1.470, accuracy:0.364\n",
            "[epoch: 21, batches:    60], loss: 1.510, accuracy:0.365\n",
            "[epoch: 22, batches:    20], loss: 1.427, accuracy:0.366\n",
            "[epoch: 22, batches:    40], loss: 1.458, accuracy:0.368\n",
            "[epoch: 22, batches:    60], loss: 1.525, accuracy:0.369\n",
            "[epoch: 23, batches:    20], loss: 1.377, accuracy:0.370\n",
            "[epoch: 23, batches:    40], loss: 1.488, accuracy:0.371\n",
            "[epoch: 23, batches:    60], loss: 1.488, accuracy:0.372\n",
            "[epoch: 24, batches:    20], loss: 1.438, accuracy:0.373\n",
            "[epoch: 24, batches:    40], loss: 1.405, accuracy:0.374\n",
            "[epoch: 24, batches:    60], loss: 1.460, accuracy:0.375\n",
            "[epoch: 25, batches:    20], loss: 1.433, accuracy:0.377\n",
            "[epoch: 25, batches:    40], loss: 1.505, accuracy:0.378\n",
            "[epoch: 25, batches:    60], loss: 1.542, accuracy:0.378\n",
            "[epoch: 26, batches:    20], loss: 1.415, accuracy:0.379\n",
            "[epoch: 26, batches:    40], loss: 1.443, accuracy:0.380\n",
            "[epoch: 26, batches:    60], loss: 1.454, accuracy:0.381\n",
            "[epoch: 27, batches:    20], loss: 1.406, accuracy:0.382\n",
            "[epoch: 27, batches:    40], loss: 1.385, accuracy:0.383\n",
            "[epoch: 27, batches:    60], loss: 1.423, accuracy:0.384\n",
            "[epoch: 28, batches:    20], loss: 1.364, accuracy:0.386\n",
            "[epoch: 28, batches:    40], loss: 1.444, accuracy:0.386\n",
            "[epoch: 28, batches:    60], loss: 1.490, accuracy:0.387\n",
            "[epoch: 29, batches:    20], loss: 1.366, accuracy:0.387\n",
            "[epoch: 29, batches:    40], loss: 1.398, accuracy:0.389\n",
            "[epoch: 29, batches:    60], loss: 1.449, accuracy:0.389\n",
            "[epoch: 30, batches:    20], loss: 1.347, accuracy:0.391\n",
            "[epoch: 30, batches:    40], loss: 1.359, accuracy:0.392\n",
            "[epoch: 30, batches:    60], loss: 1.503, accuracy:0.392\n",
            "[epoch: 31, batches:    20], loss: 1.337, accuracy:0.394\n",
            "[epoch: 31, batches:    40], loss: 1.479, accuracy:0.394\n",
            "[epoch: 31, batches:    60], loss: 1.401, accuracy:0.395\n",
            "[epoch: 32, batches:    20], loss: 1.463, accuracy:0.396\n",
            "[epoch: 32, batches:    40], loss: 1.384, accuracy:0.396\n",
            "[epoch: 32, batches:    60], loss: 1.431, accuracy:0.397\n",
            "[epoch: 33, batches:    20], loss: 1.330, accuracy:0.398\n",
            "[epoch: 33, batches:    40], loss: 1.425, accuracy:0.399\n",
            "[epoch: 33, batches:    60], loss: 1.314, accuracy:0.400\n",
            "[epoch: 34, batches:    20], loss: 1.303, accuracy:0.401\n",
            "[epoch: 34, batches:    40], loss: 1.291, accuracy:0.402\n",
            "[epoch: 34, batches:    60], loss: 1.449, accuracy:0.402\n",
            "[epoch: 35, batches:    20], loss: 1.345, accuracy:0.403\n",
            "[epoch: 35, batches:    40], loss: 1.350, accuracy:0.404\n",
            "[epoch: 35, batches:    60], loss: 1.422, accuracy:0.405\n",
            "[epoch: 36, batches:    20], loss: 1.392, accuracy:0.405\n",
            "[epoch: 36, batches:    40], loss: 1.343, accuracy:0.406\n",
            "[epoch: 36, batches:    60], loss: 1.336, accuracy:0.407\n",
            "[epoch: 37, batches:    20], loss: 1.350, accuracy:0.408\n",
            "[epoch: 37, batches:    40], loss: 1.355, accuracy:0.408\n",
            "[epoch: 37, batches:    60], loss: 1.253, accuracy:0.409\n",
            "[epoch: 38, batches:    20], loss: 1.222, accuracy:0.411\n",
            "[epoch: 38, batches:    40], loss: 1.385, accuracy:0.411\n",
            "[epoch: 38, batches:    60], loss: 1.356, accuracy:0.412\n",
            "[epoch: 39, batches:    20], loss: 1.300, accuracy:0.413\n",
            "[epoch: 39, batches:    40], loss: 1.278, accuracy:0.413\n",
            "[epoch: 39, batches:    60], loss: 1.343, accuracy:0.414\n",
            "[epoch: 40, batches:    20], loss: 1.318, accuracy:0.415\n",
            "[epoch: 40, batches:    40], loss: 1.236, accuracy:0.416\n",
            "[epoch: 40, batches:    60], loss: 1.328, accuracy:0.416\n",
            "[epoch: 41, batches:    20], loss: 1.277, accuracy:0.417\n",
            "[epoch: 41, batches:    40], loss: 1.309, accuracy:0.418\n",
            "[epoch: 41, batches:    60], loss: 1.413, accuracy:0.418\n",
            "[epoch: 42, batches:    20], loss: 1.230, accuracy:0.420\n",
            "[epoch: 42, batches:    40], loss: 1.292, accuracy:0.420\n",
            "[epoch: 42, batches:    60], loss: 1.348, accuracy:0.421\n",
            "[epoch: 43, batches:    20], loss: 1.251, accuracy:0.421\n",
            "[epoch: 43, batches:    40], loss: 1.240, accuracy:0.422\n",
            "[epoch: 43, batches:    60], loss: 1.364, accuracy:0.423\n",
            "[epoch: 44, batches:    20], loss: 1.273, accuracy:0.424\n",
            "[epoch: 44, batches:    40], loss: 1.257, accuracy:0.425\n",
            "[epoch: 44, batches:    60], loss: 1.249, accuracy:0.425\n",
            "[epoch: 45, batches:    20], loss: 1.280, accuracy:0.426\n",
            "[epoch: 45, batches:    40], loss: 1.310, accuracy:0.427\n",
            "[epoch: 45, batches:    60], loss: 1.375, accuracy:0.427\n",
            "[epoch: 46, batches:    20], loss: 1.255, accuracy:0.428\n",
            "[epoch: 46, batches:    40], loss: 1.348, accuracy:0.429\n",
            "[epoch: 46, batches:    60], loss: 1.290, accuracy:0.430\n",
            "[epoch: 47, batches:    20], loss: 1.202, accuracy:0.431\n",
            "[epoch: 47, batches:    40], loss: 1.333, accuracy:0.431\n",
            "[epoch: 47, batches:    60], loss: 1.292, accuracy:0.432\n",
            "[epoch: 48, batches:    20], loss: 1.312, accuracy:0.433\n",
            "[epoch: 48, batches:    40], loss: 1.360, accuracy:0.433\n",
            "[epoch: 48, batches:    60], loss: 1.248, accuracy:0.433\n",
            "[epoch: 49, batches:    20], loss: 1.226, accuracy:0.434\n",
            "[epoch: 49, batches:    40], loss: 1.267, accuracy:0.435\n",
            "[epoch: 49, batches:    60], loss: 1.261, accuracy:0.435\n",
            "[epoch: 50, batches:    20], loss: 1.185, accuracy:0.437\n",
            "[epoch: 50, batches:    40], loss: 1.283, accuracy:0.437\n",
            "[epoch: 50, batches:    60], loss: 1.195, accuracy:0.438\n",
            "Finished Training\n"
          ]
        }
      ]
    },
    {
      "cell_type": "code",
      "source": [
        "test(model2, test_loader)"
      ],
      "metadata": {
        "colab": {
          "base_uri": "https://localhost:8080/"
        },
        "id": "OCwKhDMxwIHr",
        "outputId": "0c378edc-10d5-4288-c248-5d77b9267fd0"
      },
      "execution_count": 27,
      "outputs": [
        {
          "output_type": "stream",
          "name": "stdout",
          "text": [
            "Test accuracy: 42 %\n"
          ]
        }
      ]
    },
    {
      "cell_type": "code",
      "source": [
        "# model 3\n",
        "class EmotionClassifierCNN(nn.Module):\n",
        "    def __init__(self, num_classes):\n",
        "        super(EmotionClassifierCNN, self).__init__()\n",
        "        self.conv1 = nn.Conv1d(in_channels=1, out_channels=16, kernel_size=3, stride=1, padding=1)\n",
        "        self.bn1 = nn.BatchNorm1d(16)\n",
        "        self.pool1 = nn.MaxPool1d(kernel_size=2, stride=2, padding=0)\n",
        "        self.conv2 = nn.Conv1d(in_channels=16, out_channels=32, kernel_size=3, stride=1, padding=1)\n",
        "        self.bn2 = nn.BatchNorm1d(32)\n",
        "        self.pool2 = nn.MaxPool1d(kernel_size=2, stride=2, padding=0)\n",
        "        self.conv3 = nn.Conv1d(in_channels=32, out_channels=64, kernel_size=3, stride=1, padding=1)\n",
        "        self.bn3 = nn.BatchNorm1d(64)\n",
        "        self.pool3 = nn.MaxPool1d(kernel_size=2, stride=2, padding=0)\n",
        "        output_size = X_train.shape[2] // (2 * 2 * 2)  # Divide by 2 for each pooling layer\n",
        "        self.fc1 = nn.Linear(64 * output_size, 128)\n",
        "        # self.dropout = nn.Dropout(0.5)\n",
        "        self.fc2 = nn.Linear(128, num_classes)\n",
        "\n",
        "    def forward(self, x):\n",
        "        x = self.pool1(F.relu(self.bn1(self.conv1(x))))\n",
        "        x = self.pool2(F.relu(self.bn2(self.conv2(x))))\n",
        "        x = self.pool3(F.relu(self.bn3(self.conv3(x))))\n",
        "        # x = x.view(x.size(0), -1)\n",
        "        x = torch.flatten(x, 1)\n",
        "        x = F.relu(self.fc1(x))\n",
        "        # x = self.dropout(x)\n",
        "        x = self.fc2(x)\n",
        "        return x\n",
        "\n",
        "num_classes = y_train.shape[1]\n",
        "model3 = EmotionClassifierCNN(num_classes).to(device)\n",
        "# print(model3)"
      ],
      "metadata": {
        "id": "hpLRqlFKHnPA"
      },
      "execution_count": 47,
      "outputs": []
    },
    {
      "cell_type": "code",
      "source": [
        "train(model3, k_epochs = 50)"
      ],
      "metadata": {
        "colab": {
          "base_uri": "https://localhost:8080/"
        },
        "id": "iYE3iyVyJREM",
        "outputId": "d4079797-ff57-4fbf-e0f2-84a30c0651c3"
      },
      "execution_count": 48,
      "outputs": [
        {
          "output_type": "stream",
          "name": "stdout",
          "text": [
            "[epoch: 1, batches:    20], loss: 2.050, accuracy:0.197\n",
            "[epoch: 1, batches:    40], loss: 1.960, accuracy:0.202\n",
            "[epoch: 1, batches:    60], loss: 1.882, accuracy:0.221\n",
            "[epoch: 2, batches:    20], loss: 1.829, accuracy:0.240\n",
            "[epoch: 2, batches:    40], loss: 1.806, accuracy:0.242\n",
            "[epoch: 2, batches:    60], loss: 1.791, accuracy:0.251\n",
            "[epoch: 3, batches:    20], loss: 1.772, accuracy:0.266\n",
            "[epoch: 3, batches:    40], loss: 1.813, accuracy:0.268\n",
            "[epoch: 3, batches:    60], loss: 1.752, accuracy:0.268\n",
            "[epoch: 4, batches:    20], loss: 1.773, accuracy:0.270\n",
            "[epoch: 4, batches:    40], loss: 1.723, accuracy:0.274\n",
            "[epoch: 4, batches:    60], loss: 1.730, accuracy:0.278\n",
            "[epoch: 5, batches:    20], loss: 1.711, accuracy:0.280\n",
            "[epoch: 5, batches:    40], loss: 1.661, accuracy:0.285\n",
            "[epoch: 5, batches:    60], loss: 1.717, accuracy:0.289\n",
            "[epoch: 6, batches:    20], loss: 1.618, accuracy:0.294\n",
            "[epoch: 6, batches:    40], loss: 1.686, accuracy:0.297\n",
            "[epoch: 6, batches:    60], loss: 1.701, accuracy:0.298\n",
            "[epoch: 7, batches:    20], loss: 1.622, accuracy:0.304\n",
            "[epoch: 7, batches:    40], loss: 1.681, accuracy:0.307\n",
            "[epoch: 7, batches:    60], loss: 1.702, accuracy:0.307\n",
            "[epoch: 8, batches:    20], loss: 1.639, accuracy:0.310\n",
            "[epoch: 8, batches:    40], loss: 1.616, accuracy:0.314\n",
            "[epoch: 8, batches:    60], loss: 1.661, accuracy:0.314\n",
            "[epoch: 9, batches:    20], loss: 1.586, accuracy:0.318\n",
            "[epoch: 9, batches:    40], loss: 1.570, accuracy:0.320\n",
            "[epoch: 9, batches:    60], loss: 1.694, accuracy:0.321\n",
            "[epoch: 10, batches:    20], loss: 1.656, accuracy:0.322\n",
            "[epoch: 10, batches:    40], loss: 1.540, accuracy:0.325\n",
            "[epoch: 10, batches:    60], loss: 1.689, accuracy:0.325\n",
            "[epoch: 11, batches:    20], loss: 1.690, accuracy:0.326\n",
            "[epoch: 11, batches:    40], loss: 1.586, accuracy:0.327\n",
            "[epoch: 11, batches:    60], loss: 1.560, accuracy:0.329\n",
            "[epoch: 12, batches:    20], loss: 1.481, accuracy:0.332\n",
            "[epoch: 12, batches:    40], loss: 1.564, accuracy:0.333\n",
            "[epoch: 12, batches:    60], loss: 1.625, accuracy:0.333\n",
            "[epoch: 13, batches:    20], loss: 1.557, accuracy:0.336\n",
            "[epoch: 13, batches:    40], loss: 1.515, accuracy:0.339\n",
            "[epoch: 13, batches:    60], loss: 1.542, accuracy:0.340\n",
            "[epoch: 14, batches:    20], loss: 1.443, accuracy:0.343\n",
            "[epoch: 14, batches:    40], loss: 1.555, accuracy:0.344\n",
            "[epoch: 14, batches:    60], loss: 1.570, accuracy:0.345\n",
            "[epoch: 15, batches:    20], loss: 1.473, accuracy:0.347\n",
            "[epoch: 15, batches:    40], loss: 1.618, accuracy:0.348\n",
            "[epoch: 15, batches:    60], loss: 1.538, accuracy:0.349\n",
            "[epoch: 16, batches:    20], loss: 1.554, accuracy:0.350\n",
            "[epoch: 16, batches:    40], loss: 1.438, accuracy:0.352\n",
            "[epoch: 16, batches:    60], loss: 1.462, accuracy:0.354\n",
            "[epoch: 17, batches:    20], loss: 1.477, accuracy:0.355\n",
            "[epoch: 17, batches:    40], loss: 1.472, accuracy:0.356\n",
            "[epoch: 17, batches:    60], loss: 1.537, accuracy:0.357\n",
            "[epoch: 18, batches:    20], loss: 1.493, accuracy:0.360\n",
            "[epoch: 18, batches:    40], loss: 1.479, accuracy:0.360\n",
            "[epoch: 18, batches:    60], loss: 1.452, accuracy:0.362\n",
            "[epoch: 19, batches:    20], loss: 1.401, accuracy:0.365\n",
            "[epoch: 19, batches:    40], loss: 1.463, accuracy:0.366\n",
            "[epoch: 19, batches:    60], loss: 1.451, accuracy:0.367\n",
            "[epoch: 20, batches:    20], loss: 1.373, accuracy:0.370\n",
            "[epoch: 20, batches:    40], loss: 1.461, accuracy:0.371\n",
            "[epoch: 20, batches:    60], loss: 1.433, accuracy:0.372\n",
            "[epoch: 21, batches:    20], loss: 1.418, accuracy:0.374\n",
            "[epoch: 21, batches:    40], loss: 1.392, accuracy:0.376\n",
            "[epoch: 21, batches:    60], loss: 1.391, accuracy:0.377\n",
            "[epoch: 22, batches:    20], loss: 1.301, accuracy:0.380\n",
            "[epoch: 22, batches:    40], loss: 1.445, accuracy:0.380\n",
            "[epoch: 22, batches:    60], loss: 1.463, accuracy:0.381\n",
            "[epoch: 23, batches:    20], loss: 1.404, accuracy:0.382\n",
            "[epoch: 23, batches:    40], loss: 1.328, accuracy:0.384\n",
            "[epoch: 23, batches:    60], loss: 1.498, accuracy:0.384\n",
            "[epoch: 24, batches:    20], loss: 1.267, accuracy:0.387\n",
            "[epoch: 24, batches:    40], loss: 1.354, accuracy:0.388\n",
            "[epoch: 24, batches:    60], loss: 1.485, accuracy:0.388\n",
            "[epoch: 25, batches:    20], loss: 1.381, accuracy:0.389\n",
            "[epoch: 25, batches:    40], loss: 1.278, accuracy:0.390\n",
            "[epoch: 25, batches:    60], loss: 1.371, accuracy:0.392\n",
            "[epoch: 26, batches:    20], loss: 1.267, accuracy:0.394\n",
            "[epoch: 26, batches:    40], loss: 1.328, accuracy:0.395\n",
            "[epoch: 26, batches:    60], loss: 1.311, accuracy:0.396\n",
            "[epoch: 27, batches:    20], loss: 1.268, accuracy:0.397\n",
            "[epoch: 27, batches:    40], loss: 1.242, accuracy:0.399\n",
            "[epoch: 27, batches:    60], loss: 1.309, accuracy:0.400\n",
            "[epoch: 28, batches:    20], loss: 1.252, accuracy:0.402\n",
            "[epoch: 28, batches:    40], loss: 1.355, accuracy:0.403\n",
            "[epoch: 28, batches:    60], loss: 1.277, accuracy:0.404\n",
            "[epoch: 29, batches:    20], loss: 1.273, accuracy:0.406\n",
            "[epoch: 29, batches:    40], loss: 1.193, accuracy:0.407\n",
            "[epoch: 29, batches:    60], loss: 1.234, accuracy:0.408\n",
            "[epoch: 30, batches:    20], loss: 1.261, accuracy:0.410\n",
            "[epoch: 30, batches:    40], loss: 1.182, accuracy:0.411\n",
            "[epoch: 30, batches:    60], loss: 1.280, accuracy:0.412\n",
            "[epoch: 31, batches:    20], loss: 1.212, accuracy:0.414\n",
            "[epoch: 31, batches:    40], loss: 1.148, accuracy:0.415\n",
            "[epoch: 31, batches:    60], loss: 1.329, accuracy:0.416\n",
            "[epoch: 32, batches:    20], loss: 1.219, accuracy:0.417\n",
            "[epoch: 32, batches:    40], loss: 1.163, accuracy:0.419\n",
            "[epoch: 32, batches:    60], loss: 1.176, accuracy:0.420\n",
            "[epoch: 33, batches:    20], loss: 1.114, accuracy:0.423\n",
            "[epoch: 33, batches:    40], loss: 1.172, accuracy:0.424\n",
            "[epoch: 33, batches:    60], loss: 1.251, accuracy:0.425\n",
            "[epoch: 34, batches:    20], loss: 1.133, accuracy:0.427\n",
            "[epoch: 34, batches:    40], loss: 1.192, accuracy:0.427\n",
            "[epoch: 34, batches:    60], loss: 1.217, accuracy:0.428\n",
            "[epoch: 35, batches:    20], loss: 1.127, accuracy:0.430\n",
            "[epoch: 35, batches:    40], loss: 1.100, accuracy:0.431\n",
            "[epoch: 35, batches:    60], loss: 1.151, accuracy:0.432\n",
            "[epoch: 36, batches:    20], loss: 1.025, accuracy:0.434\n",
            "[epoch: 36, batches:    40], loss: 1.121, accuracy:0.435\n",
            "[epoch: 36, batches:    60], loss: 1.172, accuracy:0.436\n",
            "[epoch: 37, batches:    20], loss: 1.086, accuracy:0.437\n",
            "[epoch: 37, batches:    40], loss: 1.178, accuracy:0.438\n",
            "[epoch: 37, batches:    60], loss: 1.181, accuracy:0.439\n",
            "[epoch: 38, batches:    20], loss: 1.091, accuracy:0.441\n",
            "[epoch: 38, batches:    40], loss: 1.090, accuracy:0.442\n",
            "[epoch: 38, batches:    60], loss: 0.998, accuracy:0.443\n",
            "[epoch: 39, batches:    20], loss: 1.184, accuracy:0.445\n",
            "[epoch: 39, batches:    40], loss: 1.056, accuracy:0.446\n",
            "[epoch: 39, batches:    60], loss: 1.015, accuracy:0.447\n",
            "[epoch: 40, batches:    20], loss: 1.039, accuracy:0.449\n",
            "[epoch: 40, batches:    40], loss: 1.046, accuracy:0.450\n",
            "[epoch: 40, batches:    60], loss: 1.036, accuracy:0.451\n",
            "[epoch: 41, batches:    20], loss: 1.010, accuracy:0.453\n",
            "[epoch: 41, batches:    40], loss: 1.060, accuracy:0.454\n",
            "[epoch: 41, batches:    60], loss: 1.020, accuracy:0.455\n",
            "[epoch: 42, batches:    20], loss: 1.019, accuracy:0.457\n",
            "[epoch: 42, batches:    40], loss: 1.020, accuracy:0.458\n",
            "[epoch: 42, batches:    60], loss: 1.051, accuracy:0.459\n",
            "[epoch: 43, batches:    20], loss: 1.011, accuracy:0.460\n",
            "[epoch: 43, batches:    40], loss: 1.000, accuracy:0.461\n",
            "[epoch: 43, batches:    60], loss: 0.985, accuracy:0.462\n",
            "[epoch: 44, batches:    20], loss: 0.947, accuracy:0.464\n",
            "[epoch: 44, batches:    40], loss: 0.962, accuracy:0.465\n",
            "[epoch: 44, batches:    60], loss: 0.981, accuracy:0.466\n",
            "[epoch: 45, batches:    20], loss: 0.966, accuracy:0.468\n",
            "[epoch: 45, batches:    40], loss: 0.953, accuracy:0.469\n",
            "[epoch: 45, batches:    60], loss: 0.906, accuracy:0.470\n",
            "[epoch: 46, batches:    20], loss: 0.949, accuracy:0.471\n",
            "[epoch: 46, batches:    40], loss: 0.990, accuracy:0.472\n",
            "[epoch: 46, batches:    60], loss: 1.000, accuracy:0.473\n",
            "[epoch: 47, batches:    20], loss: 0.892, accuracy:0.475\n",
            "[epoch: 47, batches:    40], loss: 0.958, accuracy:0.476\n",
            "[epoch: 47, batches:    60], loss: 0.946, accuracy:0.477\n",
            "[epoch: 48, batches:    20], loss: 0.801, accuracy:0.479\n",
            "[epoch: 48, batches:    40], loss: 0.872, accuracy:0.480\n",
            "[epoch: 48, batches:    60], loss: 0.944, accuracy:0.481\n",
            "[epoch: 49, batches:    20], loss: 0.826, accuracy:0.483\n",
            "[epoch: 49, batches:    40], loss: 0.910, accuracy:0.484\n",
            "[epoch: 49, batches:    60], loss: 0.933, accuracy:0.485\n",
            "[epoch: 50, batches:    20], loss: 0.845, accuracy:0.486\n",
            "[epoch: 50, batches:    40], loss: 0.967, accuracy:0.487\n",
            "[epoch: 50, batches:    60], loss: 0.919, accuracy:0.488\n",
            "Finished Training\n"
          ]
        }
      ]
    },
    {
      "cell_type": "code",
      "source": [
        "test(model3, test_loader)"
      ],
      "metadata": {
        "colab": {
          "base_uri": "https://localhost:8080/"
        },
        "id": "3HRxcLVPJiAh",
        "outputId": "ec5ff3ac-82a3-40e8-df0d-3a77070565d4"
      },
      "execution_count": 52,
      "outputs": [
        {
          "output_type": "stream",
          "name": "stdout",
          "text": [
            "Test accuracy: 51 %\n"
          ]
        }
      ]
    }
  ],
  "metadata": {
    "colab": {
      "provenance": [],
      "include_colab_link": true
    },
    "kernelspec": {
      "display_name": "Python 3",
      "name": "python3"
    },
    "language_info": {
      "codemirror_mode": {
        "name": "ipython",
        "version": 3
      },
      "file_extension": ".py",
      "mimetype": "text/x-python",
      "name": "python",
      "nbconvert_exporter": "python",
      "pygments_lexer": "ipython3",
      "version": "3.9.16"
    },
    "accelerator": "GPU",
    "gpuClass": "standard"
  },
  "nbformat": 4,
  "nbformat_minor": 0
}