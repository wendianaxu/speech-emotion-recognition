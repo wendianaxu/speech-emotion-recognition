{
  "cells": [
    {
      "cell_type": "markdown",
      "metadata": {
        "id": "view-in-github",
        "colab_type": "text"
      },
      "source": [
        "<a href=\"https://colab.research.google.com/github/wendianaxu/speech-emotion-recognition/blob/main/training.ipynb\" target=\"_parent\"><img src=\"https://colab.research.google.com/assets/colab-badge.svg\" alt=\"Open In Colab\"/></a>"
      ]
    },
    {
      "cell_type": "code",
      "execution_count": null,
      "metadata": {
        "id": "EwhgQXLPc-S1"
      },
      "outputs": [],
      "source": [
        "import librosa\n",
        "import os\n",
        "import numpy as np\n",
        "import matplotlib.pyplot as plt"
      ]
    },
    {
      "cell_type": "code",
      "execution_count": null,
      "metadata": {
        "id": "7gLHkEMSf-za",
        "colab": {
          "base_uri": "https://localhost:8080/"
        },
        "outputId": "54867dec-a64f-47d3-f7e2-5a3f7e71bc79"
      },
      "outputs": [
        {
          "output_type": "stream",
          "name": "stdout",
          "text": [
            "Mounted at /content/drive\n"
          ]
        }
      ],
      "source": [
        "from google.colab import drive\n",
        "drive.mount('/content/drive')"
      ]
    },
    {
      "cell_type": "code",
      "execution_count": null,
      "metadata": {
        "colab": {
          "base_uri": "https://localhost:8080/"
        },
        "id": "zJ3NhGjceXB4",
        "outputId": "cdda8c12-844f-4930-d202-d2d39c34c636"
      },
      "outputs": [
        {
          "output_type": "stream",
          "name": "stdout",
          "text": [
            "Cloning into 'speech-emotion-recognition'...\n",
            "remote: Enumerating objects: 1525, done.\u001b[K\n",
            "remote: Counting objects: 100% (56/56), done.\u001b[K\n",
            "remote: Compressing objects: 100% (41/41), done.\u001b[K\n",
            "remote: Total 1525 (delta 22), reused 31 (delta 9), pack-reused 1469\u001b[K\n",
            "Receiving objects: 100% (1525/1525), 213.92 MiB | 16.28 MiB/s, done.\n",
            "Resolving deltas: 100% (261/261), done.\n",
            "Updating files: 100% (1445/1445), done.\n"
          ]
        }
      ],
      "source": [
        "!git clone https://github.com/wendianaxu/speech-emotion-recognition.git"
      ]
    },
    {
      "cell_type": "code",
      "source": [
        "# copy directory to drive\n",
        "!cp -r \"/content/speech-emotion-recognition\" \"/content/drive/MyDrive\""
      ],
      "metadata": {
        "id": "XWYcc00n2QMb"
      },
      "execution_count": null,
      "outputs": []
    },
    {
      "cell_type": "code",
      "execution_count": null,
      "metadata": {
        "id": "GNAcBeb1eV-U"
      },
      "outputs": [],
      "source": [
        "# test: load an audio file, extract mfccs, and visualize\n",
        "\n",
        "test_file = \"/content/drive/MyDrive/speech-emotion-recognition/RAVDESS_data/Actor_01/03-01-01-01-01-01-01.wav\"\n",
        "n_mfcc = 13 # common choice\n",
        "sr = 22050 # sampling rate\n"
      ]
    },
    {
      "cell_type": "code",
      "source": [
        "# visualize mfccs\n",
        "audio, sampling_rate = librosa.load(test_file, sr=sr, duration=None)\n",
        "test_mfccs = librosa.feature.mfcc(y=audio, sr=sr, n_mfcc=n_mfcc)\n",
        "\n",
        "plt.figure(figsize=(10, 5))\n",
        "librosa.display.specshow(test_mfccs, \n",
        "                         x_axis=\"time\", \n",
        "                         sr=sr)\n",
        "plt.colorbar(format=\"%+2.f\")\n",
        "plt.show()"
      ],
      "metadata": {
        "id": "swMzgoDxqFIk"
      },
      "execution_count": null,
      "outputs": []
    },
    {
      "cell_type": "code",
      "execution_count": null,
      "metadata": {
        "id": "aRo0EShAwUTP"
      },
      "outputs": [],
      "source": [
        "# function for loading an audio file\n",
        "data_path = \"/content/speech-emotion-recognition/RAVDESS_data/\"\n",
        "def load_file(path):\n",
        "  '''\n",
        "  Load one audio file and return a 1D array containing its mfccs averaged across time\n",
        "  '''\n",
        "  audio, sampling_rate = librosa.load(path, sr=sr, duration=None)\n",
        "  mfccs = librosa.feature.mfcc(y=audio, sr=sr, n_mfcc=n_mfcc) # extract MFCC matrix (cols = coefficients, rows = time)\n",
        "  features = np.mean(mfccs.T, axis=0)  # condense MFCC matrix into 1D array, averaging each coefficient across time\n",
        "  return features\n",
        "\n",
        "#load_file(test_file)\n"
      ]
    },
    {
      "cell_type": "code",
      "execution_count": null,
      "metadata": {
        "id": "12Sp_TsXp52s"
      },
      "outputs": [],
      "source": [
        "# function for transforming dataset into arrays\n",
        "def preprocess_data(path):\n",
        "  '''\n",
        "  Preprocess data in all folders within the dataset. \n",
        "  '''\n",
        "  X = []\n",
        "  y = []\n",
        "  for folder in os.listdir(path): # each folder = one actor\n",
        "      for file in os.listdir(os.path.join(path, folder)):\n",
        "          if file.endswith('.wav'):\n",
        "              emotion = file.split('-')[2] # get emotion label\n",
        "              if int(emotion) == 1:\n",
        "                  label = 'Neutral'\n",
        "              elif int(emotion) == 2:\n",
        "                  label = 'Calm'\n",
        "              elif int(emotion) == 3:\n",
        "                  label = 'Happy'\n",
        "              elif int(emotion) == 4:\n",
        "                  label = 'Sad'\n",
        "              elif int(emotion) == 5:\n",
        "                  label = 'Angry'\n",
        "              elif int(emotion) == 6:\n",
        "                  label = 'Fearful'\n",
        "              elif int(emotion) == 7:\n",
        "                  label = 'Disgust'\n",
        "              elif int(emotion) == 8:\n",
        "                  label = 'Surprised'\n",
        "              else:\n",
        "                  label = 'UNK'\n",
        "                  \n",
        "              file_path = os.path.join(path, folder, file)\n",
        "              features = load_file(file_path)\n",
        "              X.append(features)\n",
        "              y.append(label)\n",
        "  return np.array(X), np.array(y)\n"
      ]
    },
    {
      "cell_type": "code",
      "execution_count": null,
      "metadata": {
        "id": "FU1ANDxI0dvC",
        "colab": {
          "base_uri": "https://localhost:8080/"
        },
        "outputId": "0eae2013-8b12-4ab6-e33c-2b4db16e0c98"
      },
      "outputs": [
        {
          "output_type": "stream",
          "name": "stdout",
          "text": [
            "Shape of X: (1440, 13)\n",
            "Shape of y: (1440,)\n"
          ]
        }
      ],
      "source": [
        "X, y = preprocess_data(data_path)\n",
        "print(\"Shape of X:\", X.shape)\n",
        "print(\"Shape of y:\", y.shape)"
      ]
    },
    {
      "cell_type": "code",
      "execution_count": null,
      "metadata": {
        "id": "upAE4CSR-OSh"
      },
      "outputs": [],
      "source": [
        "# function that visualizes different emotions for one statement, given that intensity, repetition, and actor are all same\n",
        "def visualize_by_statement(path, intensity='01', repetition='01', actor='01'):\n",
        "    X = []\n",
        "    y = []\n",
        "    emo = ['Neutral', 'Calm', 'Happy', 'Sad', 'Angry', 'Fearful', 'Disgust', 'Surprised', 'UNK']\n",
        "    color_arr = ['red', 'blue', 'green', 'yellow', 'purple', 'orange', 'cyan', 'magenta']\n",
        "    x_values = range(13)\n",
        "    for file in os.listdir(os.path.join(path, 'Actor_'+ actor)):\n",
        "        if file.split('-')[3] == intensity and file.split('-')[5] == repetition:\n",
        "            emotion = file.split('-')[2] # get emotion label\n",
        "            if int(emotion) == 1:\n",
        "                mfcc = load_file(os.path.join(path, 'Actor_'+ actor, file))\n",
        "                plt.scatter(x_values, mfcc, color = color_arr[0], label = emo[0])\n",
        "            elif int(emotion) == 2:\n",
        "                mfcc = load_file(os.path.join(path, 'Actor_'+ actor, file))\n",
        "                plt.scatter(x_values, mfcc, color = color_arr[1], label = emo[1])\n",
        "            elif int(emotion) == 3:\n",
        "                mfcc = load_file(os.path.join(path, 'Actor_'+ actor, file))\n",
        "                plt.scatter(x_values, mfcc, color = color_arr[2], label = emo[2])\n",
        "            elif int(emotion) == 4:\n",
        "                mfcc = load_file(os.path.join(path, 'Actor_'+ actor, file))\n",
        "                plt.scatter(x_values, mfcc, color = color_arr[3], label = emo[3])\n",
        "            elif int(emotion) == 5:\n",
        "                mfcc = load_file(os.path.join(path, 'Actor_'+ actor, file))\n",
        "                plt.scatter(x_values, mfcc, color = color_arr[4], label = emo[4])\n",
        "            elif int(emotion) == 6:\n",
        "                mfcc = load_file(os.path.join(path, 'Actor_'+ actor, file))\n",
        "                plt.scatter(x_values, mfcc, color = color_arr[5], label = emo[5])\n",
        "            elif int(emotion) == 7:\n",
        "                mfcc = load_file(os.path.join(path, 'Actor_'+ actor, file))\n",
        "                plt.scatter(x_values, mfcc, color = color_arr[6], label = emo[6])\n",
        "            elif int(emotion) == 8:\n",
        "                mfcc = load_file(os.path.join(path, 'Actor_'+ actor, file))\n",
        "                plt.scatter(x_values, mfcc, color = color_arr[7], label = emo[7])\n",
        "    \n",
        "    plt.xlabel('Features')\n",
        "    plt.ylabel('MFCC Values')\n",
        "\n",
        "    # Remove duplicate labels from the legend\n",
        "    handles, labels = plt.gca().get_legend_handles_labels()\n",
        "    by_label = dict(zip(labels, handles))\n",
        "    plt.legend(by_label.values(), by_label.keys())\n",
        "\n",
        "    plt.show()"
      ]
    },
    {
      "cell_type": "code",
      "execution_count": null,
      "metadata": {
        "id": "aeNOlE-z-OSi",
        "outputId": "bcf859e4-95a1-43e4-aadd-a8a668677fe6",
        "colab": {
          "base_uri": "https://localhost:8080/",
          "height": 450
        }
      },
      "outputs": [
        {
          "output_type": "display_data",
          "data": {
            "text/plain": [
              "<Figure size 640x480 with 1 Axes>"
            ],
            "image/png": "[encoded data removed]"
          },
          "metadata": {}
        }
      ],
      "source": [
        "visualize_by_statement(data_path)"
      ]
    },
    {
      "cell_type": "code",
      "execution_count": null,
      "metadata": {
        "id": "jM7eu7pu-OSi"
      },
      "outputs": [],
      "source": [
        "# sort emotions into bins\n",
        "Neutral = []\n",
        "Calm = []\n",
        "Happy = []\n",
        "Sad = []\n",
        "Angry = []\n",
        "Fearful = []\n",
        "Disgust = []\n",
        "Surprised = []\n",
        "UNK = []\n",
        "\n",
        "def emo_classification(X, y):\n",
        "  for i in range(X.shape[0]):\n",
        "    if y[i] == 'Neutral':\n",
        "      Neutral.append(X[i])\n",
        "    elif y[i] == 'Calm':\n",
        "      Calm.append(X[i])\n",
        "    elif y[i] == 'Happy':\n",
        "      Happy.append(X[i])\n",
        "    elif y[i] == 'Sad':\n",
        "      Sad.append(X[i])\n",
        "    elif y[i] == 'Angry':\n",
        "      Angry.append(X[i])\n",
        "    elif y[i] == 'Fearful':\n",
        "      Fearful.append(X[i])\n",
        "    elif y[i] == 'Disgust':\n",
        "      Disgust.append(X[i])\n",
        "    elif y[i] == 'Surprised':\n",
        "      Surprised.append(X[i])\n",
        "    elif y[i] == 'UNK':\n",
        "      UNK.append(X[i])\n",
        "\n",
        "emo_classification(X, y)"
      ]
    },
    {
      "cell_type": "code",
      "source": [
        "# one-hot encode labels\n",
        "from sklearn.preprocessing import OneHotEncoder\n",
        "OHE = OneHotEncoder()\n",
        "\n",
        "y = np.array(y).reshape(-1,1)\n",
        "y = OHE.fit_transform(y).toarray()"
      ],
      "metadata": {
        "id": "IV2uPPlZ8GCK"
      },
      "execution_count": null,
      "outputs": []
    },
    {
      "cell_type": "code",
      "source": [
        "# save X, y\n",
        "np.save('/content/drive/MyDrive/speech-emotion-recognition/X.npy', X)\n",
        "np.save('/content/drive/MyDrive/speech-emotion-recognition/y.npy', y)"
      ],
      "metadata": {
        "id": "yOt4ie_7u1ZZ"
      },
      "execution_count": null,
      "outputs": []
    },
    {
      "cell_type": "code",
      "source": [
        "# load X, y\n",
        "X = np.load('/content/drive/MyDrive/speech-emotion-recognition/X.npy')\n",
        "y = np.load('/content/drive/MyDrive/speech-emotion-recognition/y.npy')\n",
        "print(X.shape, y.shape)"
      ],
      "metadata": {
        "id": "bTFdRKqmvRBk",
        "colab": {
          "base_uri": "https://localhost:8080/"
        },
        "outputId": "e0f58e30-b875-4362-c46e-075dce1a84ce"
      },
      "execution_count": null,
      "outputs": [
        {
          "output_type": "stream",
          "name": "stdout",
          "text": [
            "(1440, 13) (1440, 8)\n"
          ]
        }
      ]
    },
    {
      "cell_type": "code",
      "source": [
        "# train-test split\n",
        "from sklearn.model_selection import train_test_split\n",
        "X_train, X_test, y_train, y_test = train_test_split(\n",
        "    X, y, test_size=0.2, random_state=0)"
      ],
      "metadata": {
        "id": "qoEI7uQMZu-6"
      },
      "execution_count": null,
      "outputs": []
    },
    {
      "cell_type": "code",
      "source": [
        "# CNN with torch\n",
        "import torch.nn as nn\n",
        "import torch.nn.functional as F\n",
        "import torchaudio\n",
        "from torchsummary import summary\n",
        "import torch\n",
        "\n",
        "device = torch.device('cuda:0' if torch.cuda.is_available() else 'cpu')"
      ],
      "metadata": {
        "id": "AqbfO9HWA0Z7"
      },
      "execution_count": null,
      "outputs": []
    },
    {
      "cell_type": "code",
      "source": [
        "# transform preprocessed data to Dataset class\n",
        "from torch.utils.data import TensorDataset, DataLoader\n",
        "from torch import Tensor\n",
        "\n",
        "# transform arrays to torch tensors\n",
        "X_train = Tensor(X_train).unsqueeze(1)\n",
        "y_train = Tensor(y_train)\n",
        "X_test = Tensor(X_test).unsqueeze(1)\n",
        "y_test = Tensor(y_test)\n",
        "\n",
        "train_set = TensorDataset(X_train, y_train) \n",
        "test_set = TensorDataset(X_test, y_test) \n"
      ],
      "metadata": {
        "id": "-hBDtuYDz0Ta"
      },
      "execution_count": null,
      "outputs": []
    },
    {
      "cell_type": "code",
      "source": [
        "X_test.shape"
      ],
      "metadata": {
        "colab": {
          "base_uri": "https://localhost:8080/"
        },
        "id": "GonHPEnPfedB",
        "outputId": "9fa0903c-db68-4083-8b2e-864d1fdac885"
      },
      "execution_count": null,
      "outputs": [
        {
          "output_type": "execute_result",
          "data": {
            "text/plain": [
              "torch.Size([288, 1, 13])"
            ]
          },
          "metadata": {},
          "execution_count": 41
        }
      ]
    },
    {
      "cell_type": "code",
      "source": [
        "# create DataLoaders\n",
        "batch_size = 16\n",
        "\n",
        "train_loader = DataLoader(train_set, batch_size = batch_size, \n",
        "                          shuffle = True, num_workers = 2)\n",
        "test_loader = DataLoader(test_set, batch_size = batch_size, \n",
        "                          shuffle = True, num_workers = 2)"
      ],
      "metadata": {
        "id": "6YK4WevZAy08"
      },
      "execution_count": null,
      "outputs": []
    },
    {
      "cell_type": "code",
      "source": [
        "# model1\n",
        "class ConvNet(nn.Module):\n",
        "  def __init__(self):\n",
        "    super().__init__()\n",
        "\n",
        "    self.conv1 = nn.Conv1d(1, 32, kernel_size=3)\n",
        "    self.bn1 = nn.BatchNorm1d(32)\n",
        "    self.conv2 = nn.Conv1d(32, 64, kernel_size=3)\n",
        "    self.bn2 = nn.BatchNorm1d(64)\n",
        "    self.pool = nn.MaxPool1d(2)\n",
        "    self.fc1 = nn.Linear(64, 128)\n",
        "    self.fc2 = nn.Linear(128, 8)\n",
        "  \n",
        "  def forward(self, x):\n",
        "    x = self.pool(F.relu(self.bn1(self.conv1(x))))\n",
        "    x = self.pool(F.relu(self.bn2(self.conv2(x))))\n",
        "    x = torch.flatten(x, 1) \n",
        "    x = F.relu(self.fc1(x))\n",
        "    x = self.fc2(x)\n",
        "    return x\n",
        "\n",
        "model1 = ConvNet().to(device)"
      ],
      "metadata": {
        "id": "8IJkyGBWPpFP"
      },
      "execution_count": null,
      "outputs": []
    },
    {
      "cell_type": "code",
      "source": [
        "# training loop\n",
        "import torch.optim as optim\n",
        "\n",
        "def train(model, k_epochs = 1, print_every = 20):\n",
        "\n",
        "    loss_fn = nn.CrossEntropyLoss() \n",
        "    optimizer = optim.Adam(model.parameters(), lr=0.001)\n",
        "\n",
        "    correct, total = 0, 0\n",
        "\n",
        "    for epoch in range(k_epochs): \n",
        "\n",
        "        running_loss = 0.0\n",
        "        for i, data in enumerate(train_loader, 0):\n",
        "\n",
        "            # extract a batch of training data from the data loader\n",
        "            X, y = data\n",
        "            X = X.to(device)\n",
        "            y = y.to(device)\n",
        "\n",
        "            # zero out gradients: we're going to recompute them in a moment\n",
        "            optimizer.zero_grad()\n",
        "\n",
        "            # compute the loss (forward pass)\n",
        "            y_hat = model(X)\n",
        "            loss = loss_fn(y_hat, y)\n",
        "\n",
        "            # compute the gradient (backward pass)\n",
        "            loss.backward()\n",
        "\n",
        "            # Adam uses the gradient to update the parameters\n",
        "            optimizer.step()\n",
        "\n",
        "            # print statistics\n",
        "            running_loss += loss.item()\n",
        "\n",
        "            # for printing accuracy\n",
        "            total += y.size(0)\n",
        "            correct += (torch.argmax(y_hat, dim=1) == torch.argmax(y, dim=1)).sum().item()\n",
        "\n",
        "            # print the epoch, number of batches processed, and running loss \n",
        "            # in regular intervals\n",
        "            if i % print_every == print_every - 1:    \n",
        "              print(f'[epoch: {epoch + 1}, batches: {i + 1:5d}], loss: {running_loss / print_every:.3f}, accuracy:{correct/total:.3f}')\n",
        "              running_loss = 0.0\n",
        "\n",
        "    print('Finished Training')\n",
        "\n"
      ],
      "metadata": {
        "id": "9fiaCcRzom_K"
      },
      "execution_count": null,
      "outputs": []
    },
    {
      "cell_type": "code",
      "source": [
        "# testing loop\n",
        "def test(model, data_loader):\n",
        "    correct = 0\n",
        "    total = 0\n",
        "    # torch.no_grad creates an environment in which we do NOT store the \n",
        "    # computational graph. We don't need to do this because we don't care about \n",
        "    # gradients unless we're training\n",
        "    with torch.no_grad():\n",
        "        for data in data_loader:\n",
        "            X, y = data\n",
        "            X = X.to(device)\n",
        "            y = y.to(device)\n",
        "            \n",
        "            # run all the images through the model\n",
        "            y_hat = model(X)\n",
        "\n",
        "            # the class with the largest model output is the prediction\n",
        "            predicted = torch.argmax(y_hat, dim=1)\n",
        "\n",
        "            # compute the accuracy\n",
        "            total += y.size(0)\n",
        "            correct += (predicted == torch.argmax(y, dim=1)).sum().item()\n",
        "\n",
        "    print(f'Test accuracy: {100 * correct // total} %')\n"
      ],
      "metadata": {
        "id": "dk-tVRp4kpYj"
      },
      "execution_count": null,
      "outputs": []
    },
    {
      "cell_type": "code",
      "source": [
        "# train model1\n",
        "train(model1, k_epochs = 50)"
      ],
      "metadata": {
        "colab": {
          "base_uri": "https://localhost:8080/"
        },
        "id": "YqDUrRPKvPvl",
        "outputId": "4dbba939-895f-4169-84f6-ddb24fe9e2fe"
      },
      "execution_count": null,
      "outputs": [
        {
          "output_type": "stream",
          "name": "stdout",
          "text": [
            "[epoch: 1, batches:    20], loss: 0.532, accuracy:0.811\n",
            "[epoch: 2, batches:    20], loss: 0.530, accuracy:0.800\n",
            "[epoch: 3, batches:    20], loss: 0.520, accuracy:0.805\n",
            "[epoch: 4, batches:    20], loss: 0.491, accuracy:0.812\n",
            "[epoch: 5, batches:    20], loss: 0.520, accuracy:0.814\n",
            "[epoch: 6, batches:    20], loss: 0.455, accuracy:0.818\n",
            "[epoch: 7, batches:    20], loss: 0.479, accuracy:0.818\n",
            "[epoch: 8, batches:    20], loss: 0.490, accuracy:0.819\n",
            "[epoch: 9, batches:    20], loss: 0.463, accuracy:0.820\n",
            "[epoch: 10, batches:    20], loss: 0.438, accuracy:0.822\n",
            "[epoch: 11, batches:    20], loss: 0.470, accuracy:0.825\n",
            "[epoch: 12, batches:    20], loss: 0.482, accuracy:0.825\n",
            "[epoch: 13, batches:    20], loss: 0.465, accuracy:0.825\n",
            "[epoch: 14, batches:    20], loss: 0.462, accuracy:0.826\n",
            "[epoch: 15, batches:    20], loss: 0.549, accuracy:0.825\n",
            "[epoch: 16, batches:    20], loss: 0.434, accuracy:0.827\n",
            "[epoch: 17, batches:    20], loss: 0.426, accuracy:0.829\n",
            "[epoch: 18, batches:    20], loss: 0.459, accuracy:0.829\n",
            "[epoch: 19, batches:    20], loss: 0.524, accuracy:0.829\n",
            "[epoch: 20, batches:    20], loss: 0.426, accuracy:0.830\n",
            "[epoch: 21, batches:    20], loss: 0.441, accuracy:0.830\n",
            "[epoch: 22, batches:    20], loss: 0.376, accuracy:0.832\n",
            "[epoch: 23, batches:    20], loss: 0.411, accuracy:0.833\n",
            "[epoch: 24, batches:    20], loss: 0.384, accuracy:0.835\n",
            "[epoch: 25, batches:    20], loss: 0.381, accuracy:0.836\n",
            "[epoch: 26, batches:    20], loss: 0.396, accuracy:0.837\n",
            "[epoch: 27, batches:    20], loss: 0.365, accuracy:0.839\n",
            "[epoch: 28, batches:    20], loss: 0.426, accuracy:0.839\n",
            "[epoch: 29, batches:    20], loss: 0.397, accuracy:0.840\n",
            "[epoch: 30, batches:    20], loss: 0.374, accuracy:0.841\n",
            "[epoch: 31, batches:    20], loss: 0.419, accuracy:0.841\n",
            "[epoch: 32, batches:    20], loss: 0.356, accuracy:0.843\n",
            "[epoch: 33, batches:    20], loss: 0.343, accuracy:0.844\n",
            "[epoch: 34, batches:    20], loss: 0.330, accuracy:0.845\n",
            "[epoch: 35, batches:    20], loss: 0.359, accuracy:0.846\n",
            "[epoch: 36, batches:    20], loss: 0.372, accuracy:0.847\n",
            "[epoch: 37, batches:    20], loss: 0.376, accuracy:0.847\n",
            "[epoch: 38, batches:    20], loss: 0.330, accuracy:0.848\n",
            "[epoch: 39, batches:    20], loss: 0.403, accuracy:0.849\n",
            "[epoch: 40, batches:    20], loss: 0.324, accuracy:0.850\n",
            "[epoch: 41, batches:    20], loss: 0.326, accuracy:0.850\n",
            "[epoch: 42, batches:    20], loss: 0.331, accuracy:0.851\n",
            "[epoch: 43, batches:    20], loss: 0.312, accuracy:0.852\n",
            "[epoch: 44, batches:    20], loss: 0.300, accuracy:0.854\n",
            "[epoch: 45, batches:    20], loss: 0.349, accuracy:0.855\n",
            "[epoch: 46, batches:    20], loss: 0.329, accuracy:0.856\n",
            "[epoch: 47, batches:    20], loss: 0.317, accuracy:0.856\n",
            "[epoch: 48, batches:    20], loss: 0.357, accuracy:0.857\n",
            "[epoch: 49, batches:    20], loss: 0.287, accuracy:0.858\n",
            "[epoch: 50, batches:    20], loss: 0.249, accuracy:0.860\n",
            "Finished Training\n"
          ]
        }
      ]
    },
    {
      "cell_type": "code",
      "source": [
        "# test model1\n",
        "test(model1, test_loader)"
      ],
      "metadata": {
        "colab": {
          "base_uri": "https://localhost:8080/"
        },
        "id": "DRsArYBMvjMJ",
        "outputId": "26f5c800-47a1-4efb-8823-73504d913212"
      },
      "execution_count": null,
      "outputs": [
        {
          "output_type": "stream",
          "name": "stdout",
          "text": [
            "Test accuracy: 52 %\n"
          ]
        }
      ]
    },
    {
      "cell_type": "code",
      "source": [
        "# model2\n",
        "class ConvNet(nn.Module):\n",
        "  def __init__(self):\n",
        "    super().__init__()\n",
        "\n",
        "    self.conv1 = nn.Conv1d(1, 32, kernel_size=3)\n",
        "    self.bn1 = nn.BatchNorm1d(32)\n",
        "    self.conv2 = nn.Conv1d(32, 64, kernel_size=3)\n",
        "    self.bn2 = nn.BatchNorm1d(64)\n",
        "    self.pool = nn.MaxPool1d(2)\n",
        "    self.fc1 = nn.Linear(64, 32)\n",
        "    self.fc2 = nn.Linear(32, 16)\n",
        "    self.fc3 = nn.Linear(16, 8)\n",
        "  \n",
        "  def forward(self, x):\n",
        "    x = self.pool(F.relu(self.bn1(self.conv1(x))))\n",
        "    x = self.pool(F.relu(self.bn2(self.conv2(x))))\n",
        "    x = torch.flatten(x, 1) \n",
        "    x = F.relu(self.fc1(x))\n",
        "    x = F.relu(self.fc2(x))\n",
        "    x = self.fc3(x)\n",
        "    return x\n",
        "\n",
        "model2 = ConvNet().to(device)"
      ],
      "metadata": {
        "id": "m_VVL_dRtvWI"
      },
      "execution_count": null,
      "outputs": []
    },
    {
      "cell_type": "code",
      "source": [
        "train(model2, k_epochs = 50)"
      ],
      "metadata": {
        "colab": {
          "base_uri": "https://localhost:8080/"
        },
        "id": "lJIG2Yzrv6oO",
        "outputId": "3904e0d5-7c99-4ccd-984a-e5c9d026e941"
      },
      "execution_count": null,
      "outputs": [
        {
          "output_type": "stream",
          "name": "stdout",
          "text": [
            "[epoch: 1, batches:    20], loss: 2.061, accuracy:0.147\n",
            "[epoch: 1, batches:    40], loss: 2.047, accuracy:0.156\n",
            "[epoch: 1, batches:    60], loss: 2.023, accuracy:0.186\n",
            "[epoch: 2, batches:    20], loss: 1.979, accuracy:0.198\n",
            "[epoch: 2, batches:    40], loss: 1.896, accuracy:0.216\n",
            "[epoch: 2, batches:    60], loss: 1.915, accuracy:0.214\n",
            "[epoch: 3, batches:    20], loss: 1.810, accuracy:0.229\n",
            "[epoch: 3, batches:    40], loss: 1.815, accuracy:0.235\n",
            "[epoch: 3, batches:    60], loss: 1.822, accuracy:0.242\n",
            "[epoch: 4, batches:    20], loss: 1.764, accuracy:0.250\n",
            "[epoch: 4, batches:    40], loss: 1.731, accuracy:0.256\n",
            "[epoch: 4, batches:    60], loss: 1.727, accuracy:0.261\n",
            "[epoch: 5, batches:    20], loss: 1.722, accuracy:0.266\n",
            "[epoch: 5, batches:    40], loss: 1.690, accuracy:0.272\n",
            "[epoch: 5, batches:    60], loss: 1.740, accuracy:0.275\n",
            "[epoch: 6, batches:    20], loss: 1.746, accuracy:0.278\n",
            "[epoch: 6, batches:    40], loss: 1.728, accuracy:0.281\n",
            "[epoch: 6, batches:    60], loss: 1.660, accuracy:0.285\n",
            "[epoch: 7, batches:    20], loss: 1.693, accuracy:0.288\n",
            "[epoch: 7, batches:    40], loss: 1.713, accuracy:0.289\n",
            "[epoch: 7, batches:    60], loss: 1.696, accuracy:0.292\n",
            "[epoch: 8, batches:    20], loss: 1.690, accuracy:0.296\n",
            "[epoch: 8, batches:    40], loss: 1.709, accuracy:0.297\n",
            "[epoch: 8, batches:    60], loss: 1.586, accuracy:0.301\n",
            "[epoch: 9, batches:    20], loss: 1.642, accuracy:0.304\n",
            "[epoch: 9, batches:    40], loss: 1.675, accuracy:0.304\n",
            "[epoch: 9, batches:    60], loss: 1.572, accuracy:0.308\n",
            "[epoch: 10, batches:    20], loss: 1.574, accuracy:0.311\n",
            "[epoch: 10, batches:    40], loss: 1.698, accuracy:0.312\n",
            "[epoch: 10, batches:    60], loss: 1.632, accuracy:0.314\n",
            "[epoch: 11, batches:    20], loss: 1.602, accuracy:0.316\n",
            "[epoch: 11, batches:    40], loss: 1.685, accuracy:0.317\n",
            "[epoch: 11, batches:    60], loss: 1.637, accuracy:0.319\n",
            "[epoch: 12, batches:    20], loss: 1.653, accuracy:0.320\n",
            "[epoch: 12, batches:    40], loss: 1.586, accuracy:0.321\n",
            "[epoch: 12, batches:    60], loss: 1.645, accuracy:0.323\n",
            "[epoch: 13, batches:    20], loss: 1.567, accuracy:0.326\n",
            "[epoch: 13, batches:    40], loss: 1.540, accuracy:0.328\n",
            "[epoch: 13, batches:    60], loss: 1.603, accuracy:0.329\n",
            "[epoch: 14, batches:    20], loss: 1.553, accuracy:0.330\n",
            "[epoch: 14, batches:    40], loss: 1.572, accuracy:0.331\n",
            "[epoch: 14, batches:    60], loss: 1.589, accuracy:0.333\n",
            "[epoch: 15, batches:    20], loss: 1.559, accuracy:0.335\n",
            "[epoch: 15, batches:    40], loss: 1.560, accuracy:0.335\n",
            "[epoch: 15, batches:    60], loss: 1.609, accuracy:0.336\n",
            "[epoch: 16, batches:    20], loss: 1.532, accuracy:0.337\n",
            "[epoch: 16, batches:    40], loss: 1.623, accuracy:0.338\n",
            "[epoch: 16, batches:    60], loss: 1.540, accuracy:0.339\n",
            "[epoch: 17, batches:    20], loss: 1.528, accuracy:0.342\n",
            "[epoch: 17, batches:    40], loss: 1.591, accuracy:0.343\n",
            "[epoch: 17, batches:    60], loss: 1.557, accuracy:0.343\n",
            "[epoch: 18, batches:    20], loss: 1.641, accuracy:0.344\n",
            "[epoch: 18, batches:    40], loss: 1.533, accuracy:0.345\n",
            "[epoch: 18, batches:    60], loss: 1.529, accuracy:0.346\n",
            "[epoch: 19, batches:    20], loss: 1.547, accuracy:0.347\n",
            "[epoch: 19, batches:    40], loss: 1.520, accuracy:0.347\n",
            "[epoch: 19, batches:    60], loss: 1.480, accuracy:0.349\n",
            "[epoch: 20, batches:    20], loss: 1.474, accuracy:0.351\n",
            "[epoch: 20, batches:    40], loss: 1.585, accuracy:0.351\n",
            "[epoch: 20, batches:    60], loss: 1.534, accuracy:0.351\n",
            "[epoch: 21, batches:    20], loss: 1.542, accuracy:0.352\n",
            "[epoch: 21, batches:    40], loss: 1.492, accuracy:0.353\n",
            "[epoch: 21, batches:    60], loss: 1.497, accuracy:0.354\n",
            "[epoch: 22, batches:    20], loss: 1.504, accuracy:0.356\n",
            "[epoch: 22, batches:    40], loss: 1.450, accuracy:0.357\n",
            "[epoch: 22, batches:    60], loss: 1.582, accuracy:0.358\n",
            "[epoch: 23, batches:    20], loss: 1.529, accuracy:0.359\n",
            "[epoch: 23, batches:    40], loss: 1.470, accuracy:0.360\n",
            "[epoch: 23, batches:    60], loss: 1.466, accuracy:0.361\n",
            "[epoch: 24, batches:    20], loss: 1.497, accuracy:0.362\n",
            "[epoch: 24, batches:    40], loss: 1.461, accuracy:0.363\n",
            "[epoch: 24, batches:    60], loss: 1.454, accuracy:0.364\n",
            "[epoch: 25, batches:    20], loss: 1.498, accuracy:0.364\n",
            "[epoch: 25, batches:    40], loss: 1.486, accuracy:0.365\n",
            "[epoch: 25, batches:    60], loss: 1.480, accuracy:0.366\n",
            "[epoch: 26, batches:    20], loss: 1.523, accuracy:0.366\n",
            "[epoch: 26, batches:    40], loss: 1.545, accuracy:0.367\n",
            "[epoch: 26, batches:    60], loss: 1.470, accuracy:0.368\n",
            "[epoch: 27, batches:    20], loss: 1.469, accuracy:0.369\n",
            "[epoch: 27, batches:    40], loss: 1.517, accuracy:0.370\n",
            "[epoch: 27, batches:    60], loss: 1.450, accuracy:0.371\n",
            "[epoch: 28, batches:    20], loss: 1.467, accuracy:0.372\n",
            "[epoch: 28, batches:    40], loss: 1.448, accuracy:0.373\n",
            "[epoch: 28, batches:    60], loss: 1.474, accuracy:0.374\n",
            "[epoch: 29, batches:    20], loss: 1.436, accuracy:0.375\n",
            "[epoch: 29, batches:    40], loss: 1.404, accuracy:0.376\n",
            "[epoch: 29, batches:    60], loss: 1.521, accuracy:0.377\n",
            "[epoch: 30, batches:    20], loss: 1.480, accuracy:0.378\n",
            "[epoch: 30, batches:    40], loss: 1.409, accuracy:0.378\n",
            "[epoch: 30, batches:    60], loss: 1.480, accuracy:0.378\n",
            "[epoch: 31, batches:    20], loss: 1.437, accuracy:0.380\n",
            "[epoch: 31, batches:    40], loss: 1.542, accuracy:0.380\n",
            "[epoch: 31, batches:    60], loss: 1.415, accuracy:0.381\n",
            "[epoch: 32, batches:    20], loss: 1.400, accuracy:0.382\n",
            "[epoch: 32, batches:    40], loss: 1.490, accuracy:0.382\n",
            "[epoch: 32, batches:    60], loss: 1.394, accuracy:0.383\n",
            "[epoch: 33, batches:    20], loss: 1.428, accuracy:0.384\n",
            "[epoch: 33, batches:    40], loss: 1.408, accuracy:0.385\n",
            "[epoch: 33, batches:    60], loss: 1.463, accuracy:0.385\n",
            "[epoch: 34, batches:    20], loss: 1.365, accuracy:0.386\n",
            "[epoch: 34, batches:    40], loss: 1.472, accuracy:0.387\n",
            "[epoch: 34, batches:    60], loss: 1.465, accuracy:0.387\n",
            "[epoch: 35, batches:    20], loss: 1.370, accuracy:0.388\n",
            "[epoch: 35, batches:    40], loss: 1.441, accuracy:0.389\n",
            "[epoch: 35, batches:    60], loss: 1.429, accuracy:0.389\n",
            "[epoch: 36, batches:    20], loss: 1.316, accuracy:0.391\n",
            "[epoch: 36, batches:    40], loss: 1.439, accuracy:0.391\n",
            "[epoch: 36, batches:    60], loss: 1.458, accuracy:0.392\n",
            "[epoch: 37, batches:    20], loss: 1.414, accuracy:0.393\n",
            "[epoch: 37, batches:    40], loss: 1.324, accuracy:0.393\n",
            "[epoch: 37, batches:    60], loss: 1.471, accuracy:0.394\n",
            "[epoch: 38, batches:    20], loss: 1.334, accuracy:0.395\n",
            "[epoch: 38, batches:    40], loss: 1.477, accuracy:0.395\n",
            "[epoch: 38, batches:    60], loss: 1.427, accuracy:0.395\n",
            "[epoch: 39, batches:    20], loss: 1.358, accuracy:0.396\n",
            "[epoch: 39, batches:    40], loss: 1.382, accuracy:0.397\n",
            "[epoch: 39, batches:    60], loss: 1.394, accuracy:0.398\n",
            "[epoch: 40, batches:    20], loss: 1.315, accuracy:0.399\n",
            "[epoch: 40, batches:    40], loss: 1.376, accuracy:0.399\n",
            "[epoch: 40, batches:    60], loss: 1.396, accuracy:0.400\n",
            "[epoch: 41, batches:    20], loss: 1.334, accuracy:0.401\n",
            "[epoch: 41, batches:    40], loss: 1.331, accuracy:0.401\n",
            "[epoch: 41, batches:    60], loss: 1.343, accuracy:0.402\n",
            "[epoch: 42, batches:    20], loss: 1.383, accuracy:0.403\n",
            "[epoch: 42, batches:    40], loss: 1.350, accuracy:0.403\n",
            "[epoch: 42, batches:    60], loss: 1.380, accuracy:0.404\n",
            "[epoch: 43, batches:    20], loss: 1.379, accuracy:0.405\n",
            "[epoch: 43, batches:    40], loss: 1.352, accuracy:0.406\n",
            "[epoch: 43, batches:    60], loss: 1.393, accuracy:0.406\n",
            "[epoch: 44, batches:    20], loss: 1.288, accuracy:0.407\n",
            "[epoch: 44, batches:    40], loss: 1.380, accuracy:0.407\n",
            "[epoch: 44, batches:    60], loss: 1.354, accuracy:0.408\n",
            "[epoch: 45, batches:    20], loss: 1.292, accuracy:0.408\n",
            "[epoch: 45, batches:    40], loss: 1.359, accuracy:0.409\n",
            "[epoch: 45, batches:    60], loss: 1.256, accuracy:0.410\n",
            "[epoch: 46, batches:    20], loss: 1.345, accuracy:0.410\n",
            "[epoch: 46, batches:    40], loss: 1.319, accuracy:0.411\n",
            "[epoch: 46, batches:    60], loss: 1.329, accuracy:0.411\n",
            "[epoch: 47, batches:    20], loss: 1.269, accuracy:0.412\n",
            "[epoch: 47, batches:    40], loss: 1.352, accuracy:0.413\n",
            "[epoch: 47, batches:    60], loss: 1.353, accuracy:0.413\n",
            "[epoch: 48, batches:    20], loss: 1.329, accuracy:0.414\n",
            "[epoch: 48, batches:    40], loss: 1.301, accuracy:0.415\n",
            "[epoch: 48, batches:    60], loss: 1.269, accuracy:0.415\n",
            "[epoch: 49, batches:    20], loss: 1.329, accuracy:0.416\n",
            "[epoch: 49, batches:    40], loss: 1.326, accuracy:0.416\n",
            "[epoch: 49, batches:    60], loss: 1.259, accuracy:0.417\n",
            "[epoch: 50, batches:    20], loss: 1.316, accuracy:0.418\n",
            "[epoch: 50, batches:    40], loss: 1.254, accuracy:0.418\n",
            "[epoch: 50, batches:    60], loss: 1.382, accuracy:0.418\n",
            "Finished Training\n"
          ]
        }
      ]
    },
    {
      "cell_type": "code",
      "source": [
        "test(model2, test_loader)"
      ],
      "metadata": {
        "colab": {
          "base_uri": "https://localhost:8080/"
        },
        "id": "OCwKhDMxwIHr",
        "outputId": "9ad529e3-b79a-4cc6-d3be-dd2f0005f662"
      },
      "execution_count": null,
      "outputs": [
        {
          "output_type": "stream",
          "name": "stdout",
          "text": [
            "Test accuracy: 41 %\n"
          ]
        }
      ]
    },
    {
      "cell_type": "code",
      "source": [
        "# model3\n",
        "class ConvNet(nn.Module):\n",
        "  def __init__(self):\n",
        "    super().__init__()\n",
        "\n",
        "    self.conv1 = nn.Conv1d(1, 32, kernel_size=3)\n",
        "    self.bn1 = nn.BatchNorm1d(32)\n",
        "    self.conv2 = nn.Conv1d(32, 64, kernel_size=3)\n",
        "    self.bn2 = nn.BatchNorm1d(64)\n",
        "    self.conv3 = nn.Conv1d(64, 128, kernel_size=3)\n",
        "    self.bn3 = nn.BatchNorm1d(128)\n",
        "    self.pool = nn.MaxPool1d(2)\n",
        "    self.fc1 = nn.Linear(128, 64)\n",
        "    self.fc2 = nn.Linear(64, 8)\n",
        "  \n",
        "  def forward(self, x):\n",
        "    x = self.pool(F.relu(self.bn1(self.conv1(x))))\n",
        "    x = self.pool(F.relu(self.bn2(self.conv2(x))))\n",
        "    x = self.pool(F.relu(self.bn3(self.conv3(x))))\n",
        "    x = torch.flatten(x, 1) \n",
        "    x = F.relu(self.fc1(x))\n",
        "    x = self.fc2(x)\n",
        "    return x\n",
        "\n",
        "model3 = ConvNet().to(device)"
      ],
      "metadata": {
        "id": "YMNOqHGx6Phj"
      },
      "execution_count": null,
      "outputs": []
    },
    {
      "cell_type": "code",
      "source": [
        "train(model3, k_epochs = 50)"
      ],
      "metadata": {
        "colab": {
          "base_uri": "https://localhost:8080/",
          "height": 336
        },
        "id": "jPM9D2mv8hWI",
        "outputId": "b5b34ac6-8b76-4c26-dd2c-3e5332a3e698"
      },
      "execution_count": null,
      "outputs": [
        {
          "output_type": "error",
          "ename": "RuntimeError",
          "evalue": "ignored",
          "traceback": [
            "\u001b[0;31m---------------------------------------------------------------------------\u001b[0m",
            "\u001b[0;31mRuntimeError\u001b[0m                              Traceback (most recent call last)",
            "\u001b[0;32m<ipython-input-45-0629e4c24497>\u001b[0m in \u001b[0;36m<cell line: 1>\u001b[0;34m()\u001b[0m\n\u001b[0;32m----> 1\u001b[0;31m \u001b[0mtrain\u001b[0m\u001b[0;34m(\u001b[0m\u001b[0mmodel3\u001b[0m\u001b[0;34m,\u001b[0m \u001b[0mk_epochs\u001b[0m \u001b[0;34m=\u001b[0m \u001b[0;36m50\u001b[0m\u001b[0;34m)\u001b[0m\u001b[0;34m\u001b[0m\u001b[0;34m\u001b[0m\u001b[0m\n\u001b[0m",
            "\u001b[0;32m<ipython-input-22-beeebd83fed4>\u001b[0m in \u001b[0;36mtrain\u001b[0;34m(model, k_epochs, print_every)\u001b[0m\n\u001b[1;32m     23\u001b[0m \u001b[0;34m\u001b[0m\u001b[0m\n\u001b[1;32m     24\u001b[0m             \u001b[0;31m# compute the loss (forward pass)\u001b[0m\u001b[0;34m\u001b[0m\u001b[0;34m\u001b[0m\u001b[0m\n\u001b[0;32m---> 25\u001b[0;31m             \u001b[0my_hat\u001b[0m \u001b[0;34m=\u001b[0m \u001b[0mmodel\u001b[0m\u001b[0;34m(\u001b[0m\u001b[0mX\u001b[0m\u001b[0;34m)\u001b[0m\u001b[0;34m\u001b[0m\u001b[0;34m\u001b[0m\u001b[0m\n\u001b[0m\u001b[1;32m     26\u001b[0m             \u001b[0mloss\u001b[0m \u001b[0;34m=\u001b[0m \u001b[0mloss_fn\u001b[0m\u001b[0;34m(\u001b[0m\u001b[0my_hat\u001b[0m\u001b[0;34m,\u001b[0m \u001b[0my\u001b[0m\u001b[0;34m)\u001b[0m\u001b[0;34m\u001b[0m\u001b[0;34m\u001b[0m\u001b[0m\n\u001b[1;32m     27\u001b[0m \u001b[0;34m\u001b[0m\u001b[0m\n",
            "\u001b[0;32m/usr/local/lib/python3.10/dist-packages/torch/nn/modules/module.py\u001b[0m in \u001b[0;36m_call_impl\u001b[0;34m(self, *args, **kwargs)\u001b[0m\n\u001b[1;32m   1499\u001b[0m                 \u001b[0;32mor\u001b[0m \u001b[0m_global_backward_pre_hooks\u001b[0m \u001b[0;32mor\u001b[0m \u001b[0m_global_backward_hooks\u001b[0m\u001b[0;34m\u001b[0m\u001b[0;34m\u001b[0m\u001b[0m\n\u001b[1;32m   1500\u001b[0m                 or _global_forward_hooks or _global_forward_pre_hooks):\n\u001b[0;32m-> 1501\u001b[0;31m             \u001b[0;32mreturn\u001b[0m \u001b[0mforward_call\u001b[0m\u001b[0;34m(\u001b[0m\u001b[0;34m*\u001b[0m\u001b[0margs\u001b[0m\u001b[0;34m,\u001b[0m \u001b[0;34m**\u001b[0m\u001b[0mkwargs\u001b[0m\u001b[0;34m)\u001b[0m\u001b[0;34m\u001b[0m\u001b[0;34m\u001b[0m\u001b[0m\n\u001b[0m\u001b[1;32m   1502\u001b[0m         \u001b[0;31m# Do not call functions when jit is used\u001b[0m\u001b[0;34m\u001b[0m\u001b[0;34m\u001b[0m\u001b[0m\n\u001b[1;32m   1503\u001b[0m         \u001b[0mfull_backward_hooks\u001b[0m\u001b[0;34m,\u001b[0m \u001b[0mnon_full_backward_hooks\u001b[0m \u001b[0;34m=\u001b[0m \u001b[0;34m[\u001b[0m\u001b[0;34m]\u001b[0m\u001b[0;34m,\u001b[0m \u001b[0;34m[\u001b[0m\u001b[0;34m]\u001b[0m\u001b[0;34m\u001b[0m\u001b[0;34m\u001b[0m\u001b[0m\n",
            "\u001b[0;32m<ipython-input-44-81ee0dd30c6a>\u001b[0m in \u001b[0;36mforward\u001b[0;34m(self, x)\u001b[0m\n\u001b[1;32m     17\u001b[0m     \u001b[0mx\u001b[0m \u001b[0;34m=\u001b[0m \u001b[0mself\u001b[0m\u001b[0;34m.\u001b[0m\u001b[0mpool\u001b[0m\u001b[0;34m(\u001b[0m\u001b[0mF\u001b[0m\u001b[0;34m.\u001b[0m\u001b[0mrelu\u001b[0m\u001b[0;34m(\u001b[0m\u001b[0mself\u001b[0m\u001b[0;34m.\u001b[0m\u001b[0mbn1\u001b[0m\u001b[0;34m(\u001b[0m\u001b[0mself\u001b[0m\u001b[0;34m.\u001b[0m\u001b[0mconv1\u001b[0m\u001b[0;34m(\u001b[0m\u001b[0mx\u001b[0m\u001b[0;34m)\u001b[0m\u001b[0;34m)\u001b[0m\u001b[0;34m)\u001b[0m\u001b[0;34m)\u001b[0m\u001b[0;34m\u001b[0m\u001b[0;34m\u001b[0m\u001b[0m\n\u001b[1;32m     18\u001b[0m     \u001b[0mx\u001b[0m \u001b[0;34m=\u001b[0m \u001b[0mself\u001b[0m\u001b[0;34m.\u001b[0m\u001b[0mpool\u001b[0m\u001b[0;34m(\u001b[0m\u001b[0mF\u001b[0m\u001b[0;34m.\u001b[0m\u001b[0mrelu\u001b[0m\u001b[0;34m(\u001b[0m\u001b[0mself\u001b[0m\u001b[0;34m.\u001b[0m\u001b[0mbn2\u001b[0m\u001b[0;34m(\u001b[0m\u001b[0mself\u001b[0m\u001b[0;34m.\u001b[0m\u001b[0mconv2\u001b[0m\u001b[0;34m(\u001b[0m\u001b[0mx\u001b[0m\u001b[0;34m)\u001b[0m\u001b[0;34m)\u001b[0m\u001b[0;34m)\u001b[0m\u001b[0;34m)\u001b[0m\u001b[0;34m\u001b[0m\u001b[0;34m\u001b[0m\u001b[0m\n\u001b[0;32m---> 19\u001b[0;31m     \u001b[0mx\u001b[0m \u001b[0;34m=\u001b[0m \u001b[0mself\u001b[0m\u001b[0;34m.\u001b[0m\u001b[0mpool\u001b[0m\u001b[0;34m(\u001b[0m\u001b[0mF\u001b[0m\u001b[0;34m.\u001b[0m\u001b[0mrelu\u001b[0m\u001b[0;34m(\u001b[0m\u001b[0mself\u001b[0m\u001b[0;34m.\u001b[0m\u001b[0mbn3\u001b[0m\u001b[0;34m(\u001b[0m\u001b[0mself\u001b[0m\u001b[0;34m.\u001b[0m\u001b[0mconv3\u001b[0m\u001b[0;34m(\u001b[0m\u001b[0mx\u001b[0m\u001b[0;34m)\u001b[0m\u001b[0;34m)\u001b[0m\u001b[0;34m)\u001b[0m\u001b[0;34m)\u001b[0m\u001b[0;34m\u001b[0m\u001b[0;34m\u001b[0m\u001b[0m\n\u001b[0m\u001b[1;32m     20\u001b[0m     \u001b[0mx\u001b[0m \u001b[0;34m=\u001b[0m \u001b[0mtorch\u001b[0m\u001b[0;34m.\u001b[0m\u001b[0mflatten\u001b[0m\u001b[0;34m(\u001b[0m\u001b[0mx\u001b[0m\u001b[0;34m,\u001b[0m \u001b[0;36m1\u001b[0m\u001b[0;34m)\u001b[0m\u001b[0;34m\u001b[0m\u001b[0;34m\u001b[0m\u001b[0m\n\u001b[1;32m     21\u001b[0m     \u001b[0mx\u001b[0m \u001b[0;34m=\u001b[0m \u001b[0mF\u001b[0m\u001b[0;34m.\u001b[0m\u001b[0mrelu\u001b[0m\u001b[0;34m(\u001b[0m\u001b[0mself\u001b[0m\u001b[0;34m.\u001b[0m\u001b[0mfc1\u001b[0m\u001b[0;34m(\u001b[0m\u001b[0mx\u001b[0m\u001b[0;34m)\u001b[0m\u001b[0;34m)\u001b[0m\u001b[0;34m\u001b[0m\u001b[0;34m\u001b[0m\u001b[0m\n",
            "\u001b[0;32m/usr/local/lib/python3.10/dist-packages/torch/nn/modules/module.py\u001b[0m in \u001b[0;36m_call_impl\u001b[0;34m(self, *args, **kwargs)\u001b[0m\n\u001b[1;32m   1499\u001b[0m                 \u001b[0;32mor\u001b[0m \u001b[0m_global_backward_pre_hooks\u001b[0m \u001b[0;32mor\u001b[0m \u001b[0m_global_backward_hooks\u001b[0m\u001b[0;34m\u001b[0m\u001b[0;34m\u001b[0m\u001b[0m\n\u001b[1;32m   1500\u001b[0m                 or _global_forward_hooks or _global_forward_pre_hooks):\n\u001b[0;32m-> 1501\u001b[0;31m             \u001b[0;32mreturn\u001b[0m \u001b[0mforward_call\u001b[0m\u001b[0;34m(\u001b[0m\u001b[0;34m*\u001b[0m\u001b[0margs\u001b[0m\u001b[0;34m,\u001b[0m \u001b[0;34m**\u001b[0m\u001b[0mkwargs\u001b[0m\u001b[0;34m)\u001b[0m\u001b[0;34m\u001b[0m\u001b[0;34m\u001b[0m\u001b[0m\n\u001b[0m\u001b[1;32m   1502\u001b[0m         \u001b[0;31m# Do not call functions when jit is used\u001b[0m\u001b[0;34m\u001b[0m\u001b[0;34m\u001b[0m\u001b[0m\n\u001b[1;32m   1503\u001b[0m         \u001b[0mfull_backward_hooks\u001b[0m\u001b[0;34m,\u001b[0m \u001b[0mnon_full_backward_hooks\u001b[0m \u001b[0;34m=\u001b[0m \u001b[0;34m[\u001b[0m\u001b[0;34m]\u001b[0m\u001b[0;34m,\u001b[0m \u001b[0;34m[\u001b[0m\u001b[0;34m]\u001b[0m\u001b[0;34m\u001b[0m\u001b[0;34m\u001b[0m\u001b[0m\n",
            "\u001b[0;32m/usr/local/lib/python3.10/dist-packages/torch/nn/modules/conv.py\u001b[0m in \u001b[0;36mforward\u001b[0;34m(self, input)\u001b[0m\n\u001b[1;32m    311\u001b[0m \u001b[0;34m\u001b[0m\u001b[0m\n\u001b[1;32m    312\u001b[0m     \u001b[0;32mdef\u001b[0m \u001b[0mforward\u001b[0m\u001b[0;34m(\u001b[0m\u001b[0mself\u001b[0m\u001b[0;34m,\u001b[0m \u001b[0minput\u001b[0m\u001b[0;34m:\u001b[0m \u001b[0mTensor\u001b[0m\u001b[0;34m)\u001b[0m \u001b[0;34m->\u001b[0m \u001b[0mTensor\u001b[0m\u001b[0;34m:\u001b[0m\u001b[0;34m\u001b[0m\u001b[0;34m\u001b[0m\u001b[0m\n\u001b[0;32m--> 313\u001b[0;31m         \u001b[0;32mreturn\u001b[0m \u001b[0mself\u001b[0m\u001b[0;34m.\u001b[0m\u001b[0m_conv_forward\u001b[0m\u001b[0;34m(\u001b[0m\u001b[0minput\u001b[0m\u001b[0;34m,\u001b[0m \u001b[0mself\u001b[0m\u001b[0;34m.\u001b[0m\u001b[0mweight\u001b[0m\u001b[0;34m,\u001b[0m \u001b[0mself\u001b[0m\u001b[0;34m.\u001b[0m\u001b[0mbias\u001b[0m\u001b[0;34m)\u001b[0m\u001b[0;34m\u001b[0m\u001b[0;34m\u001b[0m\u001b[0m\n\u001b[0m\u001b[1;32m    314\u001b[0m \u001b[0;34m\u001b[0m\u001b[0m\n\u001b[1;32m    315\u001b[0m \u001b[0;34m\u001b[0m\u001b[0m\n",
            "\u001b[0;32m/usr/local/lib/python3.10/dist-packages/torch/nn/modules/conv.py\u001b[0m in \u001b[0;36m_conv_forward\u001b[0;34m(self, input, weight, bias)\u001b[0m\n\u001b[1;32m    307\u001b[0m                             \u001b[0mweight\u001b[0m\u001b[0;34m,\u001b[0m \u001b[0mbias\u001b[0m\u001b[0;34m,\u001b[0m \u001b[0mself\u001b[0m\u001b[0;34m.\u001b[0m\u001b[0mstride\u001b[0m\u001b[0;34m,\u001b[0m\u001b[0;34m\u001b[0m\u001b[0;34m\u001b[0m\u001b[0m\n\u001b[1;32m    308\u001b[0m                             _single(0), self.dilation, self.groups)\n\u001b[0;32m--> 309\u001b[0;31m         return F.conv1d(input, weight, bias, self.stride,\n\u001b[0m\u001b[1;32m    310\u001b[0m                         self.padding, self.dilation, self.groups)\n\u001b[1;32m    311\u001b[0m \u001b[0;34m\u001b[0m\u001b[0m\n",
            "\u001b[0;31mRuntimeError\u001b[0m: Calculated padded input size per channel: (1). Kernel size: (3). Kernel size can't be greater than actual input size"
          ]
        }
      ]
    }
  ],
  "metadata": {
    "colab": {
      "provenance": [],
      "include_colab_link": true
    },
    "kernelspec": {
      "display_name": "Python 3",
      "name": "python3"
    },
    "language_info": {
      "codemirror_mode": {
        "name": "ipython",
        "version": 3
      },
      "file_extension": ".py",
      "mimetype": "text/x-python",
      "name": "python",
      "nbconvert_exporter": "python",
      "pygments_lexer": "ipython3",
      "version": "3.9.16"
    },
    "accelerator": "GPU",
    "gpuClass": "standard"
  },
  "nbformat": 4,
  "nbformat_minor": 0
}