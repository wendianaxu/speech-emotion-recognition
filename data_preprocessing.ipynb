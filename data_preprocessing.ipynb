{
  "cells": [
    {
      "cell_type": "markdown",
      "metadata": {
        "id": "view-in-github",
        "colab_type": "text"
      },
      "source": [
        "<a href=\"https://colab.research.google.com/github/wendianaxu/speech-emotion-recognition/blob/main/data_preprocessing.ipynb\" target=\"_parent\"><img src=\"https://colab.research.google.com/assets/colab-badge.svg\" alt=\"Open In Colab\"/></a>"
      ]
    },
    {
      "cell_type": "code",
      "execution_count": 1,
      "metadata": {
        "id": "EwhgQXLPc-S1"
      },
      "outputs": [],
      "source": [
        "import librosa\n",
        "import os\n",
        "import numpy as np\n",
        "import matplotlib.pyplot as plt\n",
        "import seaborn as sns\n",
        "from sklearn.metrics import confusion_matrix"
      ]
    },
    {
      "cell_type": "code",
      "execution_count": 2,
      "metadata": {
        "id": "7gLHkEMSf-za",
        "colab": {
          "base_uri": "https://localhost:8080/"
        },
        "outputId": "bf9e1db5-db09-4235-fe4d-cbe42fa884f1"
      },
      "outputs": [
        {
          "output_type": "stream",
          "name": "stdout",
          "text": [
            "Mounted at /content/drive\n"
          ]
        }
      ],
      "source": [
        "from google.colab import drive\n",
        "drive.mount('/content/drive')"
      ]
    },
    {
      "cell_type": "code",
      "execution_count": 5,
      "metadata": {
        "colab": {
          "base_uri": "https://localhost:8080/"
        },
        "id": "zJ3NhGjceXB4",
        "outputId": "301ea69c-5935-4e44-b421-bcccf4e17947"
      },
      "outputs": [
        {
          "output_type": "stream",
          "name": "stdout",
          "text": [
            "fatal: destination path 'speech-emotion-recognition' already exists and is not an empty directory.\n"
          ]
        }
      ],
      "source": [
        "!git clone https://github.com/wendianaxu/speech-emotion-recognition.git"
      ]
    },
    {
      "cell_type": "code",
      "source": [
        "pwd"
      ],
      "metadata": {
        "colab": {
          "base_uri": "https://localhost:8080/",
          "height": 35
        },
        "id": "XWYcc00n2QMb",
        "outputId": "3c9ab85b-eb97-4bc7-a3e8-caf41a11131f"
      },
      "execution_count": 6,
      "outputs": [
        {
          "output_type": "execute_result",
          "data": {
            "text/plain": [
              "'/content'"
            ],
            "application/vnd.google.colaboratory.intrinsic+json": {
              "type": "string"
            }
          },
          "metadata": {},
          "execution_count": 6
        }
      ]
    },
    {
      "cell_type": "code",
      "execution_count": 7,
      "metadata": {
        "colab": {
          "base_uri": "https://localhost:8080/",
          "height": 465
        },
        "id": "GNAcBeb1eV-U",
        "outputId": "acf50ce4-f2cb-4f89-f8a7-586d2770b5a1"
      },
      "outputs": [
        {
          "output_type": "display_data",
          "data": {
            "text/plain": [
              "<Figure size 1000x500 with 2 Axes>"
            ],
            "image/png": "[encoded data removed]"
          },
          "metadata": {}
        }
      ],
      "source": [
        "# test: load an audio file, extract mfccs, and visualize\n",
        "\n",
        "test_file = \"/content/speech-emotion-recognition/RAVDESS_data/Actor_01/03-01-01-01-01-01-01.wav\"\n",
        "n_mfcc = 13 # common choice\n",
        "sr = 22050 # sampling rate\n",
        "\n",
        "# visualize mfccs\n",
        "audio, sampling_rate = librosa.load(test_file, sr=sr, duration=None)\n",
        "test_mfccs = librosa.feature.mfcc(y=audio, sr=sr, n_mfcc=n_mfcc)\n",
        "\n",
        "plt.figure(figsize=(10, 5))\n",
        "librosa.display.specshow(test_mfccs, \n",
        "                         x_axis=\"time\", \n",
        "                         sr=sr)\n",
        "plt.colorbar(format=\"%+2.f\")\n",
        "plt.show()\n"
      ]
    },
    {
      "cell_type": "code",
      "execution_count": 8,
      "metadata": {
        "id": "aRo0EShAwUTP",
        "colab": {
          "base_uri": "https://localhost:8080/"
        },
        "outputId": "670284fa-88df-47cb-c726-8b925c7231a4"
      },
      "outputs": [
        {
          "output_type": "execute_result",
          "data": {
            "text/plain": [
              "array([-6.9779260e+02,  5.4890041e+01,  6.6346717e-01,  1.2435785e+01,\n",
              "        7.7339525e+00,  5.3074998e-01, -3.2166307e+00, -3.1593947e+00,\n",
              "       -1.0977551e+01, -2.8487110e+00,  8.1529766e-01, -3.0370672e+00,\n",
              "        1.9554471e+00], dtype=float32)"
            ]
          },
          "metadata": {},
          "execution_count": 8
        }
      ],
      "source": [
        "# function for loading an audio file\n",
        "data_path = \"/content/speech-emotion-recognition/RAVDESS_data/\"\n",
        "def load_file(path):\n",
        "  '''\n",
        "  Load one audio file and return a 1D array containing its mfccs averaged across time\n",
        "  '''\n",
        "  audio, sampling_rate = librosa.load(path, sr=sr, duration=None)\n",
        "  mfccs = librosa.feature.mfcc(y=audio, sr=sr, n_mfcc=n_mfcc) # extract MFCC matrix (cols = coefficients, rows = time)\n",
        "  features = np.mean(mfccs.T, axis=0)  # condense MFCC matrix into 1D array, averaging each coefficient across time\n",
        "  return features\n",
        "\n",
        "load_file(test_file)\n"
      ]
    },
    {
      "cell_type": "code",
      "execution_count": 9,
      "metadata": {
        "id": "12Sp_TsXp52s"
      },
      "outputs": [],
      "source": [
        "# function for preprocessing data\n",
        "def preprocess_data(path):\n",
        "  '''\n",
        "  Preprocess data in all folders within the dataset. \n",
        "  '''\n",
        "  X = []\n",
        "  y = []\n",
        "  for folder in os.listdir(path): # each folder = one actor\n",
        "      for file in os.listdir(os.path.join(path, folder)):\n",
        "          if file.endswith('.wav'):\n",
        "              emotion = file.split('-')[2] # get emotion label\n",
        "              if int(emotion) == 1:\n",
        "                  label = 'Neutral'\n",
        "              elif int(emotion) == 2:\n",
        "                  label = 'Calm'\n",
        "              elif int(emotion) == 3:\n",
        "                  label = 'Happy'\n",
        "              elif int(emotion) == 4:\n",
        "                  label = 'Sad'\n",
        "              elif int(emotion) == 5:\n",
        "                  label = 'Angry'\n",
        "              elif int(emotion) == 6:\n",
        "                  label = 'Fearful'\n",
        "              elif int(emotion) == 7:\n",
        "                  label = 'Disgust'\n",
        "              elif int(emotion) == 8:\n",
        "                  label = 'Surprised'\n",
        "              else:\n",
        "                  label = 'UNK'\n",
        "                  \n",
        "              file_path = os.path.join(path, folder, file)\n",
        "              features = load_file(file_path)\n",
        "              X.append(features)\n",
        "              y.append(label)\n",
        "  return np.array(X), np.array(y)\n"
      ]
    },
    {
      "cell_type": "code",
      "execution_count": 10,
      "metadata": {
        "id": "FU1ANDxI0dvC",
        "colab": {
          "base_uri": "https://localhost:8080/"
        },
        "outputId": "6de1ff78-b4e7-46bf-d372-c798d82c29b0"
      },
      "outputs": [
        {
          "output_type": "stream",
          "name": "stdout",
          "text": [
            "Shape of X: (1440, 13)\n",
            "Shape of y: (1440,)\n"
          ]
        }
      ],
      "source": [
        "X, y = preprocess_data(data_path)\n",
        "print(\"Shape of X:\", X.shape)\n",
        "print(\"Shape of y:\", y.shape)"
      ]
    },
    {
      "cell_type": "code",
      "execution_count": 11,
      "metadata": {
        "id": "BVF4zKtRyG0U"
      },
      "outputs": [],
      "source": [
        "# train-test split\n",
        "from sklearn.model_selection import train_test_split\n",
        "X_train, X_test, y_train, y_test = train_test_split(\n",
        "    X, y, test_size=0.2, random_state=0)"
      ]
    },
    {
      "cell_type": "code",
      "execution_count": 12,
      "metadata": {
        "id": "_YqnYpyEzQqX"
      },
      "outputs": [],
      "source": [
        "# inspect training data\n",
        "import pandas as pd\n",
        "df = pd.DataFrame(X_train)\n",
        "df[\"label\"] = y_train"
      ]
    },
    {
      "cell_type": "code",
      "execution_count": 13,
      "metadata": {
        "colab": {
          "base_uri": "https://localhost:8080/",
          "height": 270
        },
        "id": "6wvvEuSTz8Ip",
        "outputId": "6304e7fc-f66d-434c-b173-b2d77de0b09b"
      },
      "outputs": [
        {
          "output_type": "execute_result",
          "data": {
            "text/plain": [
              "            0          1          2          3          4          5  \\\n",
              "0 -355.840851  27.353868 -35.878235  -6.460089 -15.599998 -14.640553   \n",
              "1 -496.972626  32.771957 -25.746128   2.842844  -8.916679  -9.610416   \n",
              "2 -472.230804  43.444611 -14.952088   2.036252  -3.567228  -6.554597   \n",
              "3 -652.709412  52.740593  17.851471  13.533674   9.304794   3.627707   \n",
              "4 -425.366364  28.141975 -18.408752   2.342423 -10.613114 -12.770652   \n",
              "\n",
              "           6          7          8          9         10        11        12  \\\n",
              "0  -8.840479 -16.646618  -2.903486  -0.854543  -6.354803  2.329089  0.468156   \n",
              "1  -9.263019 -22.260599 -13.259587  -3.681676 -13.249468 -6.624545 -6.387933   \n",
              "2 -14.047055 -12.088764  -9.804029 -12.164199  -0.721901 -6.485571 -8.327799   \n",
              "3   2.197796  -0.649115  -1.761551  -3.236958   3.258072 -0.363323 -1.849701   \n",
              "4  -4.541979 -13.798555 -12.134354   3.646712  -8.831520 -4.770383 -1.562329   \n",
              "\n",
              "       label  \n",
              "0    Fearful  \n",
              "1  Surprised  \n",
              "2    Fearful  \n",
              "3      Happy  \n",
              "4      Angry  "
            ],
            "text/html": [
              "\n",
              "  <div id=\"df-70e4ffa6-2941-415c-99b7-7f7d23a0a0ed\">\n",
              "    <div class=\"colab-df-container\">\n",
              "      <div>\n",
              "<style scoped>\n",
              "    .dataframe tbody tr th:only-of-type {\n",
              "        vertical-align: middle;\n",
              "    }\n",
              "\n",
              "    .dataframe tbody tr th {\n",
              "        vertical-align: top;\n",
              "    }\n",
              "\n",
              "    .dataframe thead th {\n",
              "        text-align: right;\n",
              "    }\n",
              "</style>\n",
              "<table border=\"1\" class=\"dataframe\">\n",
              "  <thead>\n",
              "    <tr style=\"text-align: right;\">\n",
              "      <th></th>\n",
              "      <th>0</th>\n",
              "      <th>1</th>\n",
              "      <th>2</th>\n",
              "      <th>3</th>\n",
              "      <th>4</th>\n",
              "      <th>5</th>\n",
              "      <th>6</th>\n",
              "      <th>7</th>\n",
              "      <th>8</th>\n",
              "      <th>9</th>\n",
              "      <th>10</th>\n",
              "      <th>11</th>\n",
              "      <th>12</th>\n",
              "      <th>label</th>\n",
              "    </tr>\n",
              "  </thead>\n",
              "  <tbody>\n",
              "    <tr>\n",
              "      <th>0</th>\n",
              "      <td>-355.840851</td>\n",
              "      <td>27.353868</td>\n",
              "      <td>-35.878235</td>\n",
              "      <td>-6.460089</td>\n",
              "      <td>-15.599998</td>\n",
              "      <td>-14.640553</td>\n",
              "      <td>-8.840479</td>\n",
              "      <td>-16.646618</td>\n",
              "      <td>-2.903486</td>\n",
              "      <td>-0.854543</td>\n",
              "      <td>-6.354803</td>\n",
              "      <td>2.329089</td>\n",
              "      <td>0.468156</td>\n",
              "      <td>Fearful</td>\n",
              "    </tr>\n",
              "    <tr>\n",
              "      <th>1</th>\n",
              "      <td>-496.972626</td>\n",
              "      <td>32.771957</td>\n",
              "      <td>-25.746128</td>\n",
              "      <td>2.842844</td>\n",
              "      <td>-8.916679</td>\n",
              "      <td>-9.610416</td>\n",
              "      <td>-9.263019</td>\n",
              "      <td>-22.260599</td>\n",
              "      <td>-13.259587</td>\n",
              "      <td>-3.681676</td>\n",
              "      <td>-13.249468</td>\n",
              "      <td>-6.624545</td>\n",
              "      <td>-6.387933</td>\n",
              "      <td>Surprised</td>\n",
              "    </tr>\n",
              "    <tr>\n",
              "      <th>2</th>\n",
              "      <td>-472.230804</td>\n",
              "      <td>43.444611</td>\n",
              "      <td>-14.952088</td>\n",
              "      <td>2.036252</td>\n",
              "      <td>-3.567228</td>\n",
              "      <td>-6.554597</td>\n",
              "      <td>-14.047055</td>\n",
              "      <td>-12.088764</td>\n",
              "      <td>-9.804029</td>\n",
              "      <td>-12.164199</td>\n",
              "      <td>-0.721901</td>\n",
              "      <td>-6.485571</td>\n",
              "      <td>-8.327799</td>\n",
              "      <td>Fearful</td>\n",
              "    </tr>\n",
              "    <tr>\n",
              "      <th>3</th>\n",
              "      <td>-652.709412</td>\n",
              "      <td>52.740593</td>\n",
              "      <td>17.851471</td>\n",
              "      <td>13.533674</td>\n",
              "      <td>9.304794</td>\n",
              "      <td>3.627707</td>\n",
              "      <td>2.197796</td>\n",
              "      <td>-0.649115</td>\n",
              "      <td>-1.761551</td>\n",
              "      <td>-3.236958</td>\n",
              "      <td>3.258072</td>\n",
              "      <td>-0.363323</td>\n",
              "      <td>-1.849701</td>\n",
              "      <td>Happy</td>\n",
              "    </tr>\n",
              "    <tr>\n",
              "      <th>4</th>\n",
              "      <td>-425.366364</td>\n",
              "      <td>28.141975</td>\n",
              "      <td>-18.408752</td>\n",
              "      <td>2.342423</td>\n",
              "      <td>-10.613114</td>\n",
              "      <td>-12.770652</td>\n",
              "      <td>-4.541979</td>\n",
              "      <td>-13.798555</td>\n",
              "      <td>-12.134354</td>\n",
              "      <td>3.646712</td>\n",
              "      <td>-8.831520</td>\n",
              "      <td>-4.770383</td>\n",
              "      <td>-1.562329</td>\n",
              "      <td>Angry</td>\n",
              "    </tr>\n",
              "  </tbody>\n",
              "</table>\n",
              "</div>\n",
              "      <button class=\"colab-df-convert\" onclick=\"convertToInteractive('df-70e4ffa6-2941-415c-99b7-7f7d23a0a0ed')\"\n",
              "              title=\"Convert this dataframe to an interactive table.\"\n",
              "              style=\"display:none;\">\n",
              "        \n",
              "  <svg xmlns=\"http://www.w3.org/2000/svg\" height=\"24px\"viewBox=\"0 0 24 24\"\n",
              "       width=\"24px\">\n",
              "    <path d=\"M0 0h24v24H0V0z\" fill=\"none\"/>\n",
              "    <path d=\"M18.56 5.44l.94 2.06.94-2.06 2.06-.94-2.06-.94-.94-2.06-.94 2.06-2.06.94zm-11 1L8.5 8.5l.94-2.06 2.06-.94-2.06-.94L8.5 2.5l-.94 2.06-2.06.94zm10 10l.94 2.06.94-2.06 2.06-.94-2.06-.94-.94-2.06-.94 2.06-2.06.94z\"/><path d=\"M17.41 7.96l-1.37-1.37c-.4-.4-.92-.59-1.43-.59-.52 0-1.04.2-1.43.59L10.3 9.45l-7.72 7.72c-.78.78-.78 2.05 0 2.83L4 21.41c.39.39.9.59 1.41.59.51 0 1.02-.2 1.41-.59l7.78-7.78 2.81-2.81c.8-.78.8-2.07 0-2.86zM5.41 20L4 18.59l7.72-7.72 1.47 1.35L5.41 20z\"/>\n",
              "  </svg>\n",
              "      </button>\n",
              "      \n",
              "  <style>\n",
              "    .colab-df-container {\n",
              "      display:flex;\n",
              "      flex-wrap:wrap;\n",
              "      gap: 12px;\n",
              "    }\n",
              "\n",
              "    .colab-df-convert {\n",
              "      background-color: #E8F0FE;\n",
              "      border: none;\n",
              "      border-radius: 50%;\n",
              "      cursor: pointer;\n",
              "      display: none;\n",
              "      fill: #1967D2;\n",
              "      height: 32px;\n",
              "      padding: 0 0 0 0;\n",
              "      width: 32px;\n",
              "    }\n",
              "\n",
              "    .colab-df-convert:hover {\n",
              "      background-color: #E2EBFA;\n",
              "      box-shadow: 0px 1px 2px rgba(60, 64, 67, 0.3), 0px 1px 3px 1px rgba(60, 64, 67, 0.15);\n",
              "      fill: #174EA6;\n",
              "    }\n",
              "\n",
              "    [theme=dark] .colab-df-convert {\n",
              "      background-color: #3B4455;\n",
              "      fill: #D2E3FC;\n",
              "    }\n",
              "\n",
              "    [theme=dark] .colab-df-convert:hover {\n",
              "      background-color: #434B5C;\n",
              "      box-shadow: 0px 1px 3px 1px rgba(0, 0, 0, 0.15);\n",
              "      filter: drop-shadow(0px 1px 2px rgba(0, 0, 0, 0.3));\n",
              "      fill: #FFFFFF;\n",
              "    }\n",
              "  </style>\n",
              "\n",
              "      <script>\n",
              "        const buttonEl =\n",
              "          document.querySelector('#df-70e4ffa6-2941-415c-99b7-7f7d23a0a0ed button.colab-df-convert');\n",
              "        buttonEl.style.display =\n",
              "          google.colab.kernel.accessAllowed ? 'block' : 'none';\n",
              "\n",
              "        async function convertToInteractive(key) {\n",
              "          const element = document.querySelector('#df-70e4ffa6-2941-415c-99b7-7f7d23a0a0ed');\n",
              "          const dataTable =\n",
              "            await google.colab.kernel.invokeFunction('convertToInteractive',\n",
              "                                                     [key], {});\n",
              "          if (!dataTable) return;\n",
              "\n",
              "          const docLinkHtml = 'Like what you see? Visit the ' +\n",
              "            '<a target=\"_blank\" href=https://colab.research.google.com/notebooks/data_table.ipynb>data table notebook</a>'\n",
              "            + ' to learn more about interactive tables.';\n",
              "          element.innerHTML = '';\n",
              "          dataTable['output_type'] = 'display_data';\n",
              "          await google.colab.output.renderOutput(dataTable, element);\n",
              "          const docLink = document.createElement('div');\n",
              "          docLink.innerHTML = docLinkHtml;\n",
              "          element.appendChild(docLink);\n",
              "        }\n",
              "      </script>\n",
              "    </div>\n",
              "  </div>\n",
              "  "
            ]
          },
          "metadata": {},
          "execution_count": 13
        }
      ],
      "source": [
        "df.head()"
      ]
    },
    {
      "cell_type": "code",
      "execution_count": 42,
      "metadata": {
        "id": "upAE4CSR-OSh"
      },
      "outputs": [],
      "source": [
        "def visualize_by_statement(path, intensity='01', repetition='01', actor='01'):\n",
        "    X = []\n",
        "    y = []\n",
        "    emo = ['Neutral', 'Calm', 'Happy', 'Sad', 'Angry', 'Fearful', 'Disgust', 'Surprised', 'UNK']\n",
        "    color_arr = ['red', 'blue', 'green', 'yellow', 'purple', 'orange', 'cyan', 'magenta']\n",
        "    x_values = range(13)\n",
        "    for file in os.listdir(os.path.join(path, 'Actor_'+ actor)):\n",
        "        if file.split('-')[3] == intensity and file.split('-')[5] == repetition:\n",
        "            emotion = file.split('-')[2] # get emotion label\n",
        "            if int(emotion) == 1:\n",
        "                mfcc = load_file(os.path.join(path, 'Actor_'+ actor, file))\n",
        "                plt.scatter(x_values, mfcc, color = color_arr[0], label = emo[0])\n",
        "            elif int(emotion) == 2:\n",
        "                mfcc = load_file(os.path.join(path, 'Actor_'+ actor, file))\n",
        "                plt.scatter(x_values, mfcc, color = color_arr[1], label = emo[1])\n",
        "            elif int(emotion) == 3:\n",
        "                mfcc = load_file(os.path.join(path, 'Actor_'+ actor, file))\n",
        "                plt.scatter(x_values, mfcc, color = color_arr[2], label = emo[2])\n",
        "            elif int(emotion) == 4:\n",
        "                mfcc = load_file(os.path.join(path, 'Actor_'+ actor, file))\n",
        "                plt.scatter(x_values, mfcc, color = color_arr[3], label = emo[3])\n",
        "            elif int(emotion) == 5:\n",
        "                mfcc = load_file(os.path.join(path, 'Actor_'+ actor, file))\n",
        "                plt.scatter(x_values, mfcc, color = color_arr[4], label = emo[4])\n",
        "            elif int(emotion) == 6:\n",
        "                mfcc = load_file(os.path.join(path, 'Actor_'+ actor, file))\n",
        "                plt.scatter(x_values, mfcc, color = color_arr[5], label = emo[5])\n",
        "            elif int(emotion) == 7:\n",
        "                mfcc = load_file(os.path.join(path, 'Actor_'+ actor, file))\n",
        "                plt.scatter(x_values, mfcc, color = color_arr[6], label = emo[6])\n",
        "            elif int(emotion) == 8:\n",
        "                mfcc = load_file(os.path.join(path, 'Actor_'+ actor, file))\n",
        "                plt.scatter(x_values, mfcc, color = color_arr[7], label = emo[7])\n",
        "    \n",
        "    plt.xlabel('Features')\n",
        "    plt.ylabel('MFCC Values')\n",
        "\n",
        "    # Remove duplicate labels from the legend\n",
        "    handles, labels = plt.gca().get_legend_handles_labels()\n",
        "    by_label = dict(zip(labels, handles))\n",
        "    plt.legend(by_label.values(), by_label.keys())\n",
        "\n",
        "    plt.show()"
      ]
    },
    {
      "cell_type": "code",
      "execution_count": 43,
      "metadata": {
        "id": "aeNOlE-z-OSi",
        "outputId": "bcf859e4-95a1-43e4-aadd-a8a668677fe6",
        "colab": {
          "base_uri": "https://localhost:8080/",
          "height": 450
        }
      },
      "outputs": [
        {
          "output_type": "display_data",
          "data": {
            "text/plain": [
              "<Figure size 640x480 with 1 Axes>"
            ],
            "image/png": "[encoded data removed]"
          },
          "metadata": {}
        }
      ],
      "source": [
        "visualize_by_statement(data_path)"
      ]
    },
    {
      "cell_type": "code",
      "execution_count": 17,
      "metadata": {
        "id": "jM7eu7pu-OSi"
      },
      "outputs": [],
      "source": [
        "# sort emotions into bins\n",
        "Neutral = []\n",
        "Calm = []\n",
        "Happy = []\n",
        "Sad = []\n",
        "Angry = []\n",
        "Fearful = []\n",
        "Disgust = []\n",
        "Surprised = []\n",
        "UNK = []\n",
        "\n",
        "def emo_classification(X, y):\n",
        "  for i in range(X.shape[0]):\n",
        "    if y[i] == 'Neutral':\n",
        "      Neutral.append(X[i])\n",
        "    elif y[i] == 'Calm':\n",
        "      Calm.append(X[i])\n",
        "    elif y[i] == 'Happy':\n",
        "      Happy.append(X[i])\n",
        "    elif y[i] == 'Sad':\n",
        "      Sad.append(X[i])\n",
        "    elif y[i] == 'Angry':\n",
        "      Angry.append(X[i])\n",
        "    elif y[i] == 'Fearful':\n",
        "      Fearful.append(X[i])\n",
        "    elif y[i] == 'Disgust':\n",
        "      Disgust.append(X[i])\n",
        "    elif y[i] == 'Surprised':\n",
        "      Surprised.append(X[i])\n",
        "    elif y[i] == 'UNK':\n",
        "      UNK.append(X[i])\n",
        "\n",
        "emo_classification(X, y)"
      ]
    }
  ],
  "metadata": {
    "colab": {
      "provenance": [],
      "include_colab_link": true
    },
    "kernelspec": {
      "display_name": "Python 3",
      "name": "python3"
    },
    "language_info": {
      "codemirror_mode": {
        "name": "ipython",
        "version": 3
      },
      "file_extension": ".py",
      "mimetype": "text/x-python",
      "name": "python",
      "nbconvert_exporter": "python",
      "pygments_lexer": "ipython3",
      "version": "3.9.16"
    }
  },
  "nbformat": 4,
  "nbformat_minor": 0
}