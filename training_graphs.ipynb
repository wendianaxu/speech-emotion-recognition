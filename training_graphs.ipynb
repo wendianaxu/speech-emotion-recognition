{
  "cells": [
    {
      "cell_type": "markdown",
      "metadata": {
        "id": "view-in-github",
        "colab_type": "text"
      },
      "source": [
        "<a href=\"https://colab.research.google.com/github/wendianaxu/speech-emotion-recognition/blob/main/training_graphs.ipynb\" target=\"_parent\"><img src=\"https://colab.research.google.com/assets/colab-badge.svg\" alt=\"Open In Colab\"/></a>"
      ]
    },
    {
      "cell_type": "code",
      "execution_count": null,
      "metadata": {
        "id": "EwhgQXLPc-S1"
      },
      "outputs": [],
      "source": [
        "import librosa\n",
        "import os\n",
        "import numpy as np\n",
        "import matplotlib.pyplot as plt"
      ]
    },
    {
      "cell_type": "code",
      "execution_count": null,
      "metadata": {
        "id": "7gLHkEMSf-za",
        "colab": {
          "base_uri": "https://localhost:8080/"
        },
        "outputId": "cf1dfa2f-57c1-4121-afca-00152fd83612"
      },
      "outputs": [
        {
          "output_type": "stream",
          "name": "stdout",
          "text": [
            "Mounted at /content/drive\n"
          ]
        }
      ],
      "source": [
        "from google.colab import drive\n",
        "drive.mount('/content/drive')"
      ]
    },
    {
      "cell_type": "code",
      "execution_count": null,
      "metadata": {
        "colab": {
          "base_uri": "https://localhost:8080/"
        },
        "id": "zJ3NhGjceXB4",
        "outputId": "cdda8c12-844f-4930-d202-d2d39c34c636"
      },
      "outputs": [
        {
          "output_type": "stream",
          "name": "stdout",
          "text": [
            "Cloning into 'speech-emotion-recognition'...\n",
            "remote: Enumerating objects: 1525, done.\u001b[K\n",
            "remote: Counting objects: 100% (56/56), done.\u001b[K\n",
            "remote: Compressing objects: 100% (41/41), done.\u001b[K\n",
            "remote: Total 1525 (delta 22), reused 31 (delta 9), pack-reused 1469\u001b[K\n",
            "Receiving objects: 100% (1525/1525), 213.92 MiB | 16.28 MiB/s, done.\n",
            "Resolving deltas: 100% (261/261), done.\n",
            "Updating files: 100% (1445/1445), done.\n"
          ]
        }
      ],
      "source": [
        "!git clone https://github.com/wendianaxu/speech-emotion-recognition.git"
      ]
    },
    {
      "cell_type": "code",
      "source": [
        "# copy directory to drive\n",
        "!cp -r \"/content/speech-emotion-recognition\" \"/content/drive/MyDrive\""
      ],
      "metadata": {
        "id": "XWYcc00n2QMb"
      },
      "execution_count": null,
      "outputs": []
    },
    {
      "cell_type": "code",
      "execution_count": null,
      "metadata": {
        "id": "GNAcBeb1eV-U"
      },
      "outputs": [],
      "source": [
        "# test: load an audio file, extract mfccs, and visualize\n",
        "\n",
        "test_file = \"/content/drive/MyDrive/speech-emotion-recognition/RAVDESS_data/Actor_01/03-01-01-01-01-02-01.wav\"\n",
        "n_mfcc = 30\n",
        "sr = 22050 # sampling rate\n"
      ]
    },
    {
      "cell_type": "code",
      "source": [
        "# visualize mfccs\n",
        "audio, sampling_rate = librosa.load(test_file, sr=sr, duration=None)\n",
        "test_mfccs = librosa.feature.mfcc(y=audio, sr=sr, n_mfcc=n_mfcc)\n",
        "\n",
        "plt.figure(figsize=(10, 5))\n",
        "librosa.display.specshow(test_mfccs, \n",
        "                         x_axis=\"time\", \n",
        "                         sr=sr)\n",
        "plt.colorbar(format=\"%+2.f\")\n",
        "plt.show()"
      ],
      "metadata": {
        "id": "swMzgoDxqFIk",
        "colab": {
          "base_uri": "https://localhost:8080/",
          "height": 465
        },
        "outputId": "9938cc80-5262-4771-82a2-714088b73fa2"
      },
      "execution_count": null,
      "outputs": [
        {
          "output_type": "display_data",
          "data": {
            "text/plain": [
              "<Figure size 1000x500 with 2 Axes>"
            ],
            "image/png": "[encoded data removed]"
          },
          "metadata": {}
        }
      ]
    },
    {
      "cell_type": "code",
      "execution_count": null,
      "metadata": {
        "id": "aRo0EShAwUTP",
        "colab": {
          "base_uri": "https://localhost:8080/"
        },
        "outputId": "91e64af4-77f4-48f2-871e-22af7b145c8a"
      },
      "outputs": [
        {
          "output_type": "execute_result",
          "data": {
            "text/plain": [
              "(30, 53)"
            ]
          },
          "metadata": {},
          "execution_count": 7
        }
      ],
      "source": [
        "# function for loading an audio file\n",
        "data_path = \"/content/drive/MyDrive/speech-emotion-recognition/RAVDESS_data/\"\n",
        "def load_file(path):\n",
        "  '''\n",
        "  Load one audio file and return a 1D array containing its mfccs averaged across time\n",
        "  '''\n",
        "  audio, sampling_rate = librosa.load(path, sr=sr, duration=None)\n",
        "  # trim out silent moments from the audio\n",
        "  audio, index = librosa.effects.trim(audio, top_db=20, frame_length=512, hop_length=512)\n",
        "  mfccs = librosa.feature.mfcc(y=audio, sr=sr, n_mfcc=n_mfcc) # extract MFCC matrix (cols = coefficients, rows = time)\n",
        "\n",
        "  # unify sizes\n",
        "\n",
        "  return mfccs\n",
        "\n",
        "load_file(test_file).shape"
      ]
    },
    {
      "cell_type": "code",
      "execution_count": null,
      "metadata": {
        "id": "12Sp_TsXp52s"
      },
      "outputs": [],
      "source": [
        "# find out the max time length of trimmed audio files\n",
        "def find_max_len(path):\n",
        "  max_len = 0 # max duration of trimmed data\n",
        "  for folder in os.listdir(path): # each folder = one actor\n",
        "      for file in os.listdir(os.path.join(path, folder)):\n",
        "          if file.endswith('.wav'):\n",
        "              file_path = os.path.join(path, folder, file)\n",
        "              features = load_file(file_path)\n",
        "              features_len = features.shape[1]\n",
        "              if max_len < features_len:\n",
        "                max_len = features_len\n",
        "  return max_len"
      ]
    },
    {
      "cell_type": "code",
      "source": [
        "max_len = 0\n",
        "max_len = find_max_len(data_path)\n",
        "max_len"
      ],
      "metadata": {
        "id": "aEwQeZc5Pynq",
        "colab": {
          "base_uri": "https://localhost:8080/"
        },
        "outputId": "eb164fff-294b-4304-f789-bdec43c9bbe1"
      },
      "execution_count": null,
      "outputs": [
        {
          "output_type": "execute_result",
          "data": {
            "text/plain": [
              "144"
            ]
          },
          "metadata": {},
          "execution_count": 14
        }
      ]
    },
    {
      "cell_type": "code",
      "source": [
        "# redefine load_file() so that all feature matrices have the size (n_mfccs, max_len)\n",
        "def load_file(path):\n",
        "  '''\n",
        "  Load one audio file and return a 1D array containing its mfccs averaged across time\n",
        "  '''\n",
        "  audio, sampling_rate = librosa.load(path, sr=sr, duration=None)\n",
        "  # trim out silent moments from the audio\n",
        "  audio, index = librosa.effects.trim(audio, top_db=20, frame_length=512, hop_length=512)\n",
        "  mfccs = librosa.feature.mfcc(y=audio, sr=sr, n_mfcc=n_mfcc) # extract MFCC matrix (cols = coefficients, rows = time)\n",
        "\n",
        "  # unify sizes\n",
        "  if max_len > mfccs.shape[1]: # pad matrices that are shorter than max_len\n",
        "    pad_width = max_len - mfccs.shape[1]\n",
        "    mfccs = np.pad(mfccs, pad_width=((0, 0), (0, pad_width)), mode='constant')\n",
        "\n",
        "  return mfccs"
      ],
      "metadata": {
        "id": "AClYuCbWSh7a"
      },
      "execution_count": null,
      "outputs": []
    },
    {
      "cell_type": "code",
      "source": [
        "def preprocess_data(path):\n",
        "  '''\n",
        "  Preprocess data in all folders within the dataset. \n",
        "  '''\n",
        "  X = []\n",
        "  y = []\n",
        "  for folder in os.listdir(path): # each folder = one actor\n",
        "      for file in os.listdir(os.path.join(path, folder)):\n",
        "          if file.endswith('.wav'):\n",
        "              emotion = file.split('-')[2] # get emotion labels\n",
        "                  \n",
        "              file_path = os.path.join(path, folder, file)\n",
        "              features = load_file(file_path)\n",
        "              X.append(features)\n",
        "              y.append(int(emotion))\n",
        "  return np.array(X), np.array(y)"
      ],
      "metadata": {
        "id": "iWSrVZ_cRiju"
      },
      "execution_count": null,
      "outputs": []
    },
    {
      "cell_type": "code",
      "execution_count": null,
      "metadata": {
        "id": "FU1ANDxI0dvC",
        "colab": {
          "base_uri": "https://localhost:8080/"
        },
        "outputId": "7f3b2505-9b0f-43ff-f0ad-c4df1fbeba24"
      },
      "outputs": [
        {
          "output_type": "stream",
          "name": "stdout",
          "text": [
            "Shape of X: (1440, 30, 144)\n",
            "Shape of y: (1440,)\n"
          ]
        }
      ],
      "source": [
        "X, y = preprocess_data(data_path)\n",
        "print(\"Shape of X:\", X.shape)\n",
        "print(\"Shape of y:\", y.shape)"
      ]
    },
    {
      "cell_type": "code",
      "source": [
        "# one-hot encode labels\n",
        "from sklearn.preprocessing import OneHotEncoder\n",
        "OHE = OneHotEncoder()\n",
        "\n",
        "y = np.array(y).reshape(-1,1)\n",
        "y = OHE.fit_transform(y).toarray()"
      ],
      "metadata": {
        "id": "IV2uPPlZ8GCK"
      },
      "execution_count": null,
      "outputs": []
    },
    {
      "cell_type": "code",
      "source": [
        "# alternatively: just use integer labels instead of one-hot encoding\n",
        "emotions = {\n",
        "    \"Neutral\": 1, \n",
        "    \"Calm\": 2, \n",
        "    \"Happy\": 3,\n",
        "    \"Sad\": 4,\n",
        "    \"Angry\": 5, \n",
        "    \"Fearful\": 6, \n",
        "    \"Disgust\": 7, \n",
        "    \"Surprised\": 8\n",
        "}"
      ],
      "metadata": {
        "id": "RjiLKA07BBIZ"
      },
      "execution_count": null,
      "outputs": []
    },
    {
      "cell_type": "code",
      "source": [
        "# save X, y\n",
        "np.save('/content/drive/MyDrive/speech-emotion-recognition/X_2d.npy', X)\n",
        "np.save('/content/drive/MyDrive/speech-emotion-recognition/y.npy', y)"
      ],
      "metadata": {
        "id": "yOt4ie_7u1ZZ"
      },
      "execution_count": null,
      "outputs": []
    },
    {
      "cell_type": "code",
      "source": [
        "# save y (integer labels)\n",
        "np.save('/content/drive/MyDrive/speech-emotion-recognition/y_integer.npy', y)"
      ],
      "metadata": {
        "id": "AQ7e7tOnD3Rh"
      },
      "execution_count": null,
      "outputs": []
    },
    {
      "cell_type": "code",
      "source": [
        "# load X, y\n",
        "X = np.load('/content/drive/MyDrive/speech-emotion-recognition/X.npy')\n",
        "y = np.load('/content/drive/MyDrive/speech-emotion-recognition/y.npy')\n",
        "print(X.shape, y.shape)"
      ],
      "metadata": {
        "id": "bTFdRKqmvRBk",
        "colab": {
          "base_uri": "https://localhost:8080/"
        },
        "outputId": "94410719-46ab-41c4-b202-b636084ca9b1"
      },
      "execution_count": null,
      "outputs": [
        {
          "output_type": "stream",
          "name": "stdout",
          "text": [
            "(1440, 13) (1440, 8)\n"
          ]
        }
      ]
    },
    {
      "cell_type": "code",
      "source": [
        "# train-test split\n",
        "from sklearn.model_selection import train_test_split\n",
        "X_train, X_test, y_train, y_test = train_test_split(\n",
        "    X, y, test_size=0.2, random_state=0)"
      ],
      "metadata": {
        "id": "qoEI7uQMZu-6"
      },
      "execution_count": null,
      "outputs": []
    },
    {
      "cell_type": "code",
      "source": [
        "# CNN with torch\n",
        "import torch.nn as nn\n",
        "import torch.nn.functional as F\n",
        "import torchaudio\n",
        "from torchsummary import summary\n",
        "import torch\n",
        "\n",
        "device = torch.device('cuda:0' if torch.cuda.is_available() else 'cpu')"
      ],
      "metadata": {
        "id": "AqbfO9HWA0Z7"
      },
      "execution_count": null,
      "outputs": []
    },
    {
      "cell_type": "code",
      "source": [
        "# transform preprocessed data to Dataset class\n",
        "from torch.utils.data import TensorDataset, DataLoader\n",
        "from torch import Tensor\n",
        "\n",
        "# transform arrays to torch tensors\n",
        "X_train = Tensor(X_train).unsqueeze(1) # add channel = 1\n",
        "y_train = Tensor(y_train)\n",
        "X_test = Tensor(X_test).unsqueeze(1) # add channel = 1\n",
        "y_test = Tensor(y_test)\n",
        "\n",
        "train_set = TensorDataset(X_train, y_train) \n",
        "test_set = TensorDataset(X_test, y_test) \n"
      ],
      "metadata": {
        "id": "-hBDtuYDz0Ta"
      },
      "execution_count": null,
      "outputs": []
    },
    {
      "cell_type": "code",
      "source": [
        "X_train.shape"
      ],
      "metadata": {
        "colab": {
          "base_uri": "https://localhost:8080/"
        },
        "id": "GonHPEnPfedB",
        "outputId": "68d3a311-9ffc-4d60-aa42-bd63a59f6e82"
      },
      "execution_count": null,
      "outputs": [
        {
          "output_type": "execute_result",
          "data": {
            "text/plain": [
              "torch.Size([1152, 1, 13])"
            ]
          },
          "metadata": {},
          "execution_count": 113
        }
      ]
    },
    {
      "cell_type": "code",
      "source": [
        "# create DataLoaders\n",
        "batch_size = 16\n",
        "\n",
        "train_loader = DataLoader(train_set, batch_size = batch_size, \n",
        "                          shuffle = True, num_workers = 2)\n",
        "test_loader = DataLoader(test_set, batch_size = batch_size, \n",
        "                          shuffle = True, num_workers = 2)"
      ],
      "metadata": {
        "id": "6YK4WevZAy08"
      },
      "execution_count": null,
      "outputs": []
    },
    {
      "cell_type": "code",
      "source": [
        "X, y = next(iter(train_loader))\n",
        "print(X.shape, y.shape) "
      ],
      "metadata": {
        "colab": {
          "base_uri": "https://localhost:8080/"
        },
        "id": "PaoodRZGUEUg",
        "outputId": "3cb09cdc-9cae-47e7-9ca6-062d683b309c"
      },
      "execution_count": null,
      "outputs": [
        {
          "output_type": "stream",
          "name": "stdout",
          "text": [
            "torch.Size([16, 1, 30, 144]) torch.Size([16, 8])\n"
          ]
        }
      ]
    },
    {
      "cell_type": "code",
      "source": [
        "# training loop\n",
        "import torch.optim as optim\n",
        "train_history = []\n",
        "test_history = []\n",
        "\n",
        "def train(model, k_epochs = 1, print_every = 40):\n",
        "\n",
        "    loss_fn = nn.CrossEntropyLoss() \n",
        "    optimizer = optim.Adam(model.parameters(), lr=0.001)\n",
        "\n",
        "    correct, total, accuracy = 0, 0, 0\n",
        "\n",
        "    for epoch in range(k_epochs): \n",
        "\n",
        "        running_loss = 0.0\n",
        "        for i, data in enumerate(train_loader, 0):\n",
        "\n",
        "            # extract a batch of training data from the data loader\n",
        "            X, y = data\n",
        "            X = X.to(device)\n",
        "            y = y.to(device)\n",
        "\n",
        "            # zero out gradients: we're going to recompute them in a moment\n",
        "            optimizer.zero_grad()\n",
        "\n",
        "            # compute the loss (forward pass)\n",
        "            y_hat = model(X)\n",
        "            loss = loss_fn(y_hat, y)\n",
        "\n",
        "            # compute the gradient (backward pass)\n",
        "            loss.backward()\n",
        "\n",
        "            # Adam uses the gradient to update the parameters\n",
        "            optimizer.step()\n",
        "\n",
        "            # print statistics\n",
        "            running_loss += loss.item()\n",
        "\n",
        "            # for printing accuracy\n",
        "            total += y.size(0)\n",
        "            correct += (torch.argmax(y_hat, dim=1) == torch.argmax(y, dim=1)).sum().item() # for one-hot labels\n",
        "            #correct += (y_hat.argmax(1) == y).sum().item() # for integer labels\n",
        "            accuracy = correct/total\n",
        "\n",
        "\n",
        "            # print the epoch, number of batches processed, and running loss \n",
        "            # in regular intervals\n",
        "            if i % print_every == print_every - 1:    \n",
        "              print(f'[epoch: {epoch + 1}, batches: {i + 1:5d}], loss: {running_loss / print_every:.3f}, accuracy:{accuracy:.3f}')\n",
        "              running_loss = 0.0\n",
        "          \n",
        "        # append accuracy for each epoch\n",
        "        train_history.append(accuracy)\n",
        "\n",
        "        with torch.no_grad():\n",
        "          for i, data in enumerate(test_loader, 0):\n",
        "            correct, total, accuracy = 0, 0, 0\n",
        "            X, y = data\n",
        "            X = X.to(device)\n",
        "            y = y.to(device)\n",
        "            \n",
        "            y_hat = model(X)\n",
        "\n",
        "            # the class with the largest model output is the prediction\n",
        "            predicted = torch.argmax(y_hat, dim=1)\n",
        "\n",
        "            # compute the accuracy\n",
        "            total += y.size(0)\n",
        "            correct += (torch.argmax(y_hat, dim=1) == torch.argmax(y, dim=1)).sum().item() # for one-hot labels\n",
        "            #correct += (y_hat.argmax(1) == y).sum().item() # for integer labels\n",
        "            accuracy = correct/total\n",
        "            \n",
        "        test_history.append(accuracy)\n",
        "\n",
        "\n",
        "    print('Finished Training')\n",
        "\n"
      ],
      "metadata": {
        "id": "9fiaCcRzom_K"
      },
      "execution_count": null,
      "outputs": []
    },
    {
      "cell_type": "code",
      "source": [
        "# testing loop\n",
        "def test(model, data_loader):\n",
        "    correct, total = 0, 0\n",
        "    \n",
        "    # torch.no_grad creates an environment in which we do NOT store the \n",
        "    # computational graph. We don't need to do this because we don't care about \n",
        "    # gradients unless we're training\n",
        "    with torch.no_grad():\n",
        "        for data in data_loader:\n",
        "            X, y = data\n",
        "            X = X.to(device)\n",
        "            y = y.to(device)\n",
        "            \n",
        "            y_hat = model(X)\n",
        "\n",
        "            # the class with the largest model output is the prediction\n",
        "            predicted = torch.argmax(y_hat, dim=1)\n",
        "\n",
        "            # compute the accuracy\n",
        "            total += y.size(0)\n",
        "            correct += (torch.argmax(y_hat, dim=1) == torch.argmax(y, dim=1)).sum().item() # for one-hot labels\n",
        "            #correct += (y_hat.argmax(1) == y).sum().item() # for integer labels\n",
        "\n",
        "    print(f'Test accuracy: {100 * correct // total} %')\n"
      ],
      "metadata": {
        "id": "dk-tVRp4kpYj"
      },
      "execution_count": null,
      "outputs": []
    },
    {
      "cell_type": "code",
      "source": [
        "# model1\n",
        "class ConvNet(nn.Module):\n",
        "  def __init__(self):\n",
        "    super().__init__()\n",
        "\n",
        "    self.conv1 = nn.Conv2d(1, 128, kernel_size=3)\n",
        "    self.bn1 = nn.BatchNorm2d(128)\n",
        "    self.conv2 = nn.Conv2d(128, 64, kernel_size=3)\n",
        "    self.bn2 = nn.BatchNorm2d(64)\n",
        "    self.pool = nn.MaxPool2d(2, 2)\n",
        "    self.fc1 = nn.Linear(64 * 204, 32)\n",
        "    self.fc2 = nn.Linear(32, 8)\n",
        "  \n",
        "  def forward(self, x):\n",
        "    x = self.pool(F.relu(self.bn1(self.conv1(x))))\n",
        "    x = self.pool(F.relu(self.bn2(self.conv2(x))))\n",
        "    x = x.view(x.size(0), -1)\n",
        "    x = F.relu(self.fc1(x))\n",
        "    x = self.fc2(x)\n",
        "    return x\n",
        "\n",
        "model1 = ConvNet().to(device)"
      ],
      "metadata": {
        "id": "8IJkyGBWPpFP"
      },
      "execution_count": null,
      "outputs": []
    },
    {
      "cell_type": "code",
      "source": [
        "# train model1\n",
        "train_history, test_history = [], []\n",
        "train(model1, k_epochs = 30)"
      ],
      "metadata": {
        "colab": {
          "base_uri": "https://localhost:8080/"
        },
        "id": "YqDUrRPKvPvl",
        "outputId": "c3cd60d2-ee27-4015-e3e5-3bd688160c63"
      },
      "execution_count": null,
      "outputs": [
        {
          "output_type": "stream",
          "name": "stdout",
          "text": [
            "[epoch: 1, batches:    40], loss: 2.043, accuracy:0.191\n",
            "[epoch: 2, batches:    40], loss: 1.809, accuracy:0.290\n",
            "[epoch: 3, batches:    40], loss: 1.537, accuracy:0.370\n",
            "[epoch: 4, batches:    40], loss: 1.434, accuracy:0.425\n",
            "[epoch: 5, batches:    40], loss: 1.215, accuracy:0.514\n",
            "[epoch: 6, batches:    40], loss: 1.127, accuracy:0.537\n",
            "[epoch: 7, batches:    40], loss: 1.006, accuracy:0.604\n",
            "[epoch: 8, batches:    40], loss: 0.844, accuracy:0.669\n",
            "[epoch: 9, batches:    40], loss: 0.793, accuracy:0.674\n",
            "[epoch: 10, batches:    40], loss: 0.674, accuracy:0.727\n",
            "[epoch: 11, batches:    40], loss: 0.574, accuracy:0.782\n",
            "[epoch: 12, batches:    40], loss: 0.489, accuracy:0.823\n",
            "[epoch: 13, batches:    40], loss: 0.503, accuracy:0.819\n",
            "[epoch: 14, batches:    40], loss: 0.349, accuracy:0.880\n",
            "[epoch: 15, batches:    40], loss: 0.377, accuracy:0.861\n",
            "[epoch: 16, batches:    40], loss: 0.224, accuracy:0.934\n",
            "[epoch: 17, batches:    40], loss: 0.162, accuracy:0.968\n",
            "[epoch: 18, batches:    40], loss: 0.197, accuracy:0.934\n",
            "[epoch: 19, batches:    40], loss: 0.155, accuracy:0.959\n",
            "[epoch: 20, batches:    40], loss: 0.105, accuracy:0.970\n",
            "[epoch: 21, batches:    40], loss: 0.062, accuracy:0.980\n",
            "[epoch: 22, batches:    40], loss: 0.051, accuracy:0.991\n",
            "[epoch: 23, batches:    40], loss: 0.036, accuracy:0.985\n",
            "[epoch: 24, batches:    40], loss: 0.025, accuracy:0.991\n",
            "[epoch: 25, batches:    40], loss: 0.021, accuracy:0.991\n",
            "[epoch: 26, batches:    40], loss: 0.023, accuracy:0.985\n",
            "[epoch: 27, batches:    40], loss: 0.015, accuracy:0.986\n",
            "[epoch: 28, batches:    40], loss: 0.018, accuracy:0.986\n",
            "[epoch: 29, batches:    40], loss: 0.011, accuracy:0.994\n",
            "[epoch: 30, batches:    40], loss: 0.016, accuracy:0.994\n",
            "Finished Training\n"
          ]
        }
      ]
    },
    {
      "cell_type": "code",
      "source": [
        "# test model1\n",
        "test(model1, test_loader)"
      ],
      "metadata": {
        "colab": {
          "base_uri": "https://localhost:8080/"
        },
        "id": "DRsArYBMvjMJ",
        "outputId": "927b85ad-76fe-4978-a583-b881944c8c72"
      },
      "execution_count": null,
      "outputs": [
        {
          "output_type": "stream",
          "name": "stdout",
          "text": [
            "Test accuracy: 53 %\n"
          ]
        }
      ]
    },
    {
      "cell_type": "code",
      "source": [
        "# visualize testing vs. training accuracy\n",
        "import matplotlib.pyplot as plt\n",
        "\n",
        "def plot_accuracy(train_history, test_history, k_epochs):\n",
        "    # Create figure and axis objects\n",
        "    fig, ax = plt.subplots()\n",
        "\n",
        "    # Plot the training and validation accuracy curves\n",
        "    ax.plot(np.arange(k_epochs)+1, train_history, label='Training Accuracy')\n",
        "    ax.plot(np.arange(k_epochs)+1, test_history, label='Validation Accuracy')\n",
        "\n",
        "    # Set axis labels and title\n",
        "    ax.set_xlabel('Epoch')\n",
        "    ax.set_ylabel('Accuracy')\n",
        "    ax.set_title('Training and Validation Accuracy')\n",
        "\n",
        "    # Set axis limits and ticks\n",
        "    ax.set_ylim([0, 1])\n",
        "    ax.set_xticks(np.arange(1, k_epochs+1, 3))\n",
        "\n",
        "    # Add legend\n",
        "    ax.legend()\n",
        "\n",
        "    # Show plot\n",
        "    plt.show()"
      ],
      "metadata": {
        "id": "CPYaB_kSS3v-"
      },
      "execution_count": null,
      "outputs": []
    },
    {
      "cell_type": "code",
      "source": [
        "plot_accuracy(train_history, test_history, 30)"
      ],
      "metadata": {
        "colab": {
          "base_uri": "https://localhost:8080/",
          "height": 472
        },
        "id": "VMQr6v2FWcSy",
        "outputId": "d1dfcb26-6a47-4f4c-8cff-10b7fe0895ea"
      },
      "execution_count": null,
      "outputs": [
        {
          "output_type": "display_data",
          "data": {
            "text/plain": [
              "<Figure size 640x480 with 1 Axes>"
            ],
            "image/png": "[encoded data removed]"
          },
          "metadata": {}
        }
      ]
    },
    {
      "cell_type": "code",
      "source": [
        "# model2: with dropout\n",
        "class ConvNet(nn.Module):\n",
        "  def __init__(self, dropout_prob = 0.5):\n",
        "    super().__init__()\n",
        "\n",
        "    self.conv1 = nn.Conv2d(1, 128, kernel_size=3)\n",
        "    self.bn1 = nn.BatchNorm2d(128)\n",
        "    self.conv2 = nn.Conv2d(128, 64, kernel_size=3)\n",
        "    self.bn2 = nn.BatchNorm2d(64)\n",
        "    self.dropout = nn.Dropout(dropout_prob)\n",
        "    self.pool = nn.MaxPool2d(2, 2)\n",
        "    self.fc1 = nn.Linear(64 * 204, 32)\n",
        "    self.fc2 = nn.Linear(32, 8)\n",
        "  \n",
        "  def forward(self, x):\n",
        "    x = self.pool(F.relu(self.bn1(self.conv1(x))))\n",
        "    x = self.dropout(x)\n",
        "    x = self.pool(F.relu(self.bn2(self.conv2(x))))\n",
        "    x = self.dropout(x)\n",
        "    x = x.view(x.size(0), -1)\n",
        "    x = F.relu(self.fc1(x))\n",
        "    x = self.fc2(x)\n",
        "    return x\n",
        "\n",
        "model2 = ConvNet().to(device)"
      ],
      "metadata": {
        "id": "m_VVL_dRtvWI"
      },
      "execution_count": null,
      "outputs": []
    },
    {
      "cell_type": "code",
      "source": [
        "train(model2, k_epochs = 50)"
      ],
      "metadata": {
        "colab": {
          "base_uri": "https://localhost:8080/"
        },
        "id": "lJIG2Yzrv6oO",
        "outputId": "4ded97fb-a5bb-4aab-efde-85f69f870240"
      },
      "execution_count": null,
      "outputs": [
        {
          "output_type": "stream",
          "name": "stdout",
          "text": [
            "[epoch: 1, batches:    20], loss: 2.223, accuracy:0.163\n",
            "[epoch: 1, batches:    40], loss: 1.957, accuracy:0.181\n",
            "[epoch: 1, batches:    60], loss: 1.930, accuracy:0.197\n",
            "[epoch: 2, batches:    20], loss: 1.794, accuracy:0.224\n",
            "[epoch: 2, batches:    40], loss: 1.762, accuracy:0.234\n",
            "[epoch: 2, batches:    60], loss: 1.732, accuracy:0.237\n",
            "[epoch: 3, batches:    20], loss: 1.801, accuracy:0.246\n",
            "[epoch: 3, batches:    40], loss: 1.732, accuracy:0.245\n",
            "[epoch: 3, batches:    60], loss: 1.768, accuracy:0.250\n",
            "[epoch: 4, batches:    20], loss: 1.666, accuracy:0.258\n",
            "[epoch: 4, batches:    40], loss: 1.698, accuracy:0.263\n",
            "[epoch: 4, batches:    60], loss: 1.645, accuracy:0.268\n",
            "[epoch: 5, batches:    20], loss: 1.605, accuracy:0.277\n",
            "[epoch: 5, batches:    40], loss: 1.589, accuracy:0.281\n",
            "[epoch: 5, batches:    60], loss: 1.514, accuracy:0.286\n",
            "[epoch: 6, batches:    20], loss: 1.601, accuracy:0.292\n",
            "[epoch: 6, batches:    40], loss: 1.536, accuracy:0.295\n",
            "[epoch: 6, batches:    60], loss: 1.559, accuracy:0.299\n",
            "[epoch: 7, batches:    20], loss: 1.530, accuracy:0.305\n",
            "[epoch: 7, batches:    40], loss: 1.522, accuracy:0.309\n",
            "[epoch: 7, batches:    60], loss: 1.466, accuracy:0.314\n",
            "[epoch: 8, batches:    20], loss: 1.529, accuracy:0.320\n",
            "[epoch: 8, batches:    40], loss: 1.617, accuracy:0.321\n",
            "[epoch: 8, batches:    60], loss: 1.500, accuracy:0.323\n",
            "[epoch: 9, batches:    20], loss: 1.429, accuracy:0.330\n",
            "[epoch: 9, batches:    40], loss: 1.429, accuracy:0.334\n",
            "[epoch: 9, batches:    60], loss: 1.508, accuracy:0.336\n",
            "[epoch: 10, batches:    20], loss: 1.371, accuracy:0.342\n",
            "[epoch: 10, batches:    40], loss: 1.367, accuracy:0.345\n",
            "[epoch: 10, batches:    60], loss: 1.383, accuracy:0.347\n",
            "[epoch: 11, batches:    20], loss: 1.329, accuracy:0.353\n",
            "[epoch: 11, batches:    40], loss: 1.363, accuracy:0.355\n",
            "[epoch: 11, batches:    60], loss: 1.384, accuracy:0.358\n",
            "[epoch: 12, batches:    20], loss: 1.420, accuracy:0.362\n",
            "[epoch: 12, batches:    40], loss: 1.347, accuracy:0.365\n",
            "[epoch: 12, batches:    60], loss: 1.312, accuracy:0.367\n",
            "[epoch: 13, batches:    20], loss: 1.263, accuracy:0.372\n",
            "[epoch: 13, batches:    40], loss: 1.293, accuracy:0.374\n",
            "[epoch: 13, batches:    60], loss: 1.230, accuracy:0.378\n",
            "[epoch: 14, batches:    20], loss: 1.192, accuracy:0.383\n",
            "[epoch: 14, batches:    40], loss: 1.209, accuracy:0.385\n",
            "[epoch: 14, batches:    60], loss: 1.237, accuracy:0.387\n",
            "[epoch: 15, batches:    20], loss: 1.259, accuracy:0.391\n",
            "[epoch: 15, batches:    40], loss: 1.180, accuracy:0.394\n",
            "[epoch: 15, batches:    60], loss: 1.269, accuracy:0.395\n",
            "[epoch: 16, batches:    20], loss: 1.144, accuracy:0.399\n",
            "[epoch: 16, batches:    40], loss: 1.205, accuracy:0.401\n",
            "[epoch: 16, batches:    60], loss: 1.219, accuracy:0.403\n",
            "[epoch: 17, batches:    20], loss: 1.164, accuracy:0.406\n",
            "[epoch: 17, batches:    40], loss: 1.120, accuracy:0.409\n",
            "[epoch: 17, batches:    60], loss: 1.210, accuracy:0.410\n",
            "[epoch: 18, batches:    20], loss: 1.165, accuracy:0.413\n",
            "[epoch: 18, batches:    40], loss: 1.074, accuracy:0.415\n",
            "[epoch: 18, batches:    60], loss: 1.254, accuracy:0.416\n",
            "[epoch: 19, batches:    20], loss: 1.100, accuracy:0.420\n",
            "[epoch: 19, batches:    40], loss: 1.187, accuracy:0.422\n",
            "[epoch: 19, batches:    60], loss: 1.053, accuracy:0.424\n",
            "[epoch: 20, batches:    20], loss: 1.139, accuracy:0.427\n",
            "[epoch: 20, batches:    40], loss: 1.052, accuracy:0.429\n",
            "[epoch: 20, batches:    60], loss: 1.099, accuracy:0.431\n",
            "[epoch: 21, batches:    20], loss: 1.167, accuracy:0.433\n",
            "[epoch: 21, batches:    40], loss: 1.052, accuracy:0.435\n",
            "[epoch: 21, batches:    60], loss: 0.969, accuracy:0.438\n",
            "[epoch: 22, batches:    20], loss: 0.966, accuracy:0.441\n",
            "[epoch: 22, batches:    40], loss: 1.062, accuracy:0.443\n",
            "[epoch: 22, batches:    60], loss: 1.072, accuracy:0.444\n",
            "[epoch: 23, batches:    20], loss: 1.023, accuracy:0.447\n",
            "[epoch: 23, batches:    40], loss: 1.070, accuracy:0.449\n",
            "[epoch: 23, batches:    60], loss: 0.999, accuracy:0.451\n",
            "[epoch: 24, batches:    20], loss: 0.940, accuracy:0.454\n",
            "[epoch: 24, batches:    40], loss: 1.051, accuracy:0.455\n",
            "[epoch: 24, batches:    60], loss: 0.995, accuracy:0.457\n",
            "[epoch: 25, batches:    20], loss: 0.929, accuracy:0.460\n",
            "[epoch: 25, batches:    40], loss: 1.053, accuracy:0.461\n",
            "[epoch: 25, batches:    60], loss: 0.976, accuracy:0.462\n",
            "[epoch: 26, batches:    20], loss: 1.000, accuracy:0.465\n",
            "[epoch: 26, batches:    40], loss: 0.884, accuracy:0.467\n",
            "[epoch: 26, batches:    60], loss: 0.986, accuracy:0.468\n",
            "[epoch: 27, batches:    20], loss: 0.989, accuracy:0.470\n",
            "[epoch: 27, batches:    40], loss: 0.987, accuracy:0.471\n",
            "[epoch: 27, batches:    60], loss: 0.943, accuracy:0.473\n",
            "[epoch: 28, batches:    20], loss: 0.958, accuracy:0.475\n",
            "[epoch: 28, batches:    40], loss: 1.070, accuracy:0.476\n",
            "[epoch: 28, batches:    60], loss: 0.954, accuracy:0.477\n",
            "[epoch: 29, batches:    20], loss: 0.954, accuracy:0.479\n",
            "[epoch: 29, batches:    40], loss: 0.915, accuracy:0.481\n",
            "[epoch: 29, batches:    60], loss: 0.923, accuracy:0.482\n",
            "[epoch: 30, batches:    20], loss: 0.892, accuracy:0.484\n",
            "[epoch: 30, batches:    40], loss: 0.904, accuracy:0.486\n",
            "[epoch: 30, batches:    60], loss: 0.939, accuracy:0.487\n",
            "[epoch: 31, batches:    20], loss: 0.852, accuracy:0.490\n",
            "[epoch: 31, batches:    40], loss: 0.925, accuracy:0.491\n",
            "[epoch: 31, batches:    60], loss: 0.952, accuracy:0.492\n",
            "[epoch: 32, batches:    20], loss: 0.886, accuracy:0.494\n",
            "[epoch: 32, batches:    40], loss: 0.971, accuracy:0.495\n",
            "[epoch: 32, batches:    60], loss: 0.947, accuracy:0.496\n",
            "[epoch: 33, batches:    20], loss: 0.979, accuracy:0.498\n",
            "[epoch: 33, batches:    40], loss: 0.804, accuracy:0.500\n",
            "[epoch: 33, batches:    60], loss: 1.004, accuracy:0.501\n",
            "[epoch: 34, batches:    20], loss: 0.914, accuracy:0.502\n",
            "[epoch: 34, batches:    40], loss: 0.926, accuracy:0.504\n",
            "[epoch: 34, batches:    60], loss: 0.920, accuracy:0.505\n",
            "[epoch: 35, batches:    20], loss: 0.944, accuracy:0.506\n",
            "[epoch: 35, batches:    40], loss: 0.880, accuracy:0.507\n",
            "[epoch: 35, batches:    60], loss: 0.898, accuracy:0.508\n",
            "[epoch: 36, batches:    20], loss: 0.791, accuracy:0.510\n",
            "[epoch: 36, batches:    40], loss: 0.849, accuracy:0.511\n",
            "[epoch: 36, batches:    60], loss: 0.908, accuracy:0.512\n",
            "[epoch: 37, batches:    20], loss: 0.917, accuracy:0.513\n",
            "[epoch: 37, batches:    40], loss: 0.793, accuracy:0.515\n",
            "[epoch: 37, batches:    60], loss: 0.812, accuracy:0.516\n",
            "[epoch: 38, batches:    20], loss: 0.820, accuracy:0.518\n",
            "[epoch: 38, batches:    40], loss: 0.873, accuracy:0.519\n",
            "[epoch: 38, batches:    60], loss: 0.831, accuracy:0.520\n",
            "[epoch: 39, batches:    20], loss: 0.796, accuracy:0.521\n",
            "[epoch: 39, batches:    40], loss: 0.824, accuracy:0.522\n",
            "[epoch: 39, batches:    60], loss: 0.869, accuracy:0.523\n",
            "[epoch: 40, batches:    20], loss: 0.822, accuracy:0.525\n",
            "[epoch: 40, batches:    40], loss: 0.841, accuracy:0.526\n",
            "[epoch: 40, batches:    60], loss: 0.836, accuracy:0.527\n",
            "[epoch: 41, batches:    20], loss: 0.752, accuracy:0.529\n",
            "[epoch: 41, batches:    40], loss: 0.815, accuracy:0.530\n",
            "[epoch: 41, batches:    60], loss: 0.880, accuracy:0.531\n",
            "[epoch: 42, batches:    20], loss: 0.754, accuracy:0.533\n",
            "[epoch: 42, batches:    40], loss: 0.761, accuracy:0.534\n",
            "[epoch: 42, batches:    60], loss: 0.784, accuracy:0.535\n",
            "[epoch: 43, batches:    20], loss: 0.780, accuracy:0.537\n",
            "[epoch: 43, batches:    40], loss: 0.792, accuracy:0.537\n",
            "[epoch: 43, batches:    60], loss: 0.814, accuracy:0.539\n",
            "[epoch: 44, batches:    20], loss: 0.852, accuracy:0.539\n",
            "[epoch: 44, batches:    40], loss: 0.720, accuracy:0.541\n",
            "[epoch: 44, batches:    60], loss: 0.804, accuracy:0.542\n",
            "[epoch: 45, batches:    20], loss: 0.788, accuracy:0.543\n",
            "[epoch: 45, batches:    40], loss: 0.833, accuracy:0.544\n",
            "[epoch: 45, batches:    60], loss: 0.821, accuracy:0.544\n",
            "[epoch: 46, batches:    20], loss: 0.754, accuracy:0.546\n",
            "[epoch: 46, batches:    40], loss: 0.682, accuracy:0.547\n",
            "[epoch: 46, batches:    60], loss: 0.796, accuracy:0.548\n",
            "[epoch: 47, batches:    20], loss: 0.744, accuracy:0.549\n",
            "[epoch: 47, batches:    40], loss: 0.827, accuracy:0.550\n",
            "[epoch: 47, batches:    60], loss: 0.812, accuracy:0.551\n",
            "[epoch: 48, batches:    20], loss: 0.793, accuracy:0.553\n",
            "[epoch: 48, batches:    40], loss: 0.723, accuracy:0.554\n",
            "[epoch: 48, batches:    60], loss: 0.745, accuracy:0.554\n",
            "[epoch: 49, batches:    20], loss: 0.725, accuracy:0.555\n",
            "[epoch: 49, batches:    40], loss: 0.746, accuracy:0.556\n",
            "[epoch: 49, batches:    60], loss: 0.750, accuracy:0.557\n",
            "[epoch: 50, batches:    20], loss: 0.689, accuracy:0.559\n",
            "[epoch: 50, batches:    40], loss: 0.774, accuracy:0.560\n",
            "[epoch: 50, batches:    60], loss: 0.791, accuracy:0.560\n",
            "Finished Training\n"
          ]
        }
      ]
    },
    {
      "cell_type": "code",
      "source": [
        "test(model2, test_loader)"
      ],
      "metadata": {
        "colab": {
          "base_uri": "https://localhost:8080/"
        },
        "id": "OCwKhDMxwIHr",
        "outputId": "2936721e-1bd3-4a60-b2e6-a693b536a6bb"
      },
      "execution_count": null,
      "outputs": [
        {
          "output_type": "stream",
          "name": "stdout",
          "text": [
            "Test accuracy: 44 %\n"
          ]
        }
      ]
    },
    {
      "cell_type": "code",
      "source": [
        "# model3: with dropout, different linear layers\n",
        "class ConvNet(nn.Module):\n",
        "  def __init__(self, dropout_prob = 0.5):\n",
        "    super().__init__()\n",
        "\n",
        "    self.conv1 = nn.Conv2d(1, 64, kernel_size=3)\n",
        "    self.bn1 = nn.BatchNorm2d(64)\n",
        "    self.conv2 = nn.Conv2d(64, 32, kernel_size=3)\n",
        "    self.bn2 = nn.BatchNorm2d(32)\n",
        "    self.dropout = nn.Dropout(dropout_prob)\n",
        "    self.pool = nn.MaxPool2d(2, 2)\n",
        "    self.fc1 = nn.Linear(64 * 102, 128)\n",
        "    self.fc2 = nn.Linear(128, 8)\n",
        "  \n",
        "  def forward(self, x):\n",
        "    x = self.pool(F.relu(self.bn1(self.conv1(x))))\n",
        "    x = self.dropout(x)\n",
        "    x = self.pool(F.relu(self.bn2(self.conv2(x))))\n",
        "    x = self.dropout(x)\n",
        "    x = x.view(x.size(0), -1)\n",
        "    x = F.relu(self.fc1(x))\n",
        "\n",
        "    x = self.fc2(x)\n",
        "    return x\n",
        "\n",
        "model3 = ConvNet().to(device)"
      ],
      "metadata": {
        "id": "XwquVMu_cmwE"
      },
      "execution_count": null,
      "outputs": []
    },
    {
      "cell_type": "code",
      "source": [
        "train_history, test_history = [], []\n",
        "train(model3, k_epochs = 30)"
      ],
      "metadata": {
        "colab": {
          "base_uri": "https://localhost:8080/"
        },
        "id": "pBE3q-63dDPM",
        "outputId": "2f532fb7-0447-4481-bd74-d15bb9d570fb"
      },
      "execution_count": null,
      "outputs": [
        {
          "output_type": "stream",
          "name": "stdout",
          "text": [
            "[epoch: 1, batches:    40], loss: 2.042, accuracy:0.231\n",
            "[epoch: 2, batches:    40], loss: 1.725, accuracy:0.328\n",
            "[epoch: 3, batches:    40], loss: 1.480, accuracy:0.442\n",
            "[epoch: 4, batches:    40], loss: 1.353, accuracy:0.479\n",
            "[epoch: 5, batches:    40], loss: 1.287, accuracy:0.498\n",
            "[epoch: 6, batches:    40], loss: 1.214, accuracy:0.553\n",
            "[epoch: 7, batches:    40], loss: 1.111, accuracy:0.585\n",
            "[epoch: 8, batches:    40], loss: 1.004, accuracy:0.636\n",
            "[epoch: 9, batches:    40], loss: 0.924, accuracy:0.633\n",
            "[epoch: 10, batches:    40], loss: 0.868, accuracy:0.654\n",
            "[epoch: 11, batches:    40], loss: 0.784, accuracy:0.709\n",
            "[epoch: 12, batches:    40], loss: 0.735, accuracy:0.720\n",
            "[epoch: 13, batches:    40], loss: 0.695, accuracy:0.730\n",
            "[epoch: 14, batches:    40], loss: 0.640, accuracy:0.747\n",
            "[epoch: 15, batches:    40], loss: 0.602, accuracy:0.770\n",
            "[epoch: 16, batches:    40], loss: 0.610, accuracy:0.764\n",
            "[epoch: 17, batches:    40], loss: 0.604, accuracy:0.793\n",
            "[epoch: 18, batches:    40], loss: 0.416, accuracy:0.867\n",
            "[epoch: 19, batches:    40], loss: 0.434, accuracy:0.849\n",
            "[epoch: 20, batches:    40], loss: 0.404, accuracy:0.852\n",
            "[epoch: 21, batches:    40], loss: 0.391, accuracy:0.858\n",
            "[epoch: 22, batches:    40], loss: 0.336, accuracy:0.873\n",
            "[epoch: 23, batches:    40], loss: 0.383, accuracy:0.858\n",
            "[epoch: 24, batches:    40], loss: 0.292, accuracy:0.886\n",
            "[epoch: 25, batches:    40], loss: 0.341, accuracy:0.884\n",
            "[epoch: 26, batches:    40], loss: 0.295, accuracy:0.889\n",
            "[epoch: 27, batches:    40], loss: 0.275, accuracy:0.899\n",
            "[epoch: 28, batches:    40], loss: 0.312, accuracy:0.892\n",
            "[epoch: 29, batches:    40], loss: 0.243, accuracy:0.913\n",
            "[epoch: 30, batches:    40], loss: 0.232, accuracy:0.915\n",
            "Finished Training\n"
          ]
        }
      ]
    },
    {
      "cell_type": "code",
      "source": [
        "test(model3, test_loader)"
      ],
      "metadata": {
        "colab": {
          "base_uri": "https://localhost:8080/"
        },
        "id": "g3TNZ4jzdGbX",
        "outputId": "4fca2d06-341b-4e0e-fcdf-49bd0ef74fd3"
      },
      "execution_count": null,
      "outputs": [
        {
          "output_type": "stream",
          "name": "stdout",
          "text": [
            "Test accuracy: 57 %\n"
          ]
        }
      ]
    },
    {
      "cell_type": "code",
      "source": [
        "plot_accuracy(train_history, test_history, 30)"
      ],
      "metadata": {
        "id": "3Yv4pZHsedv4",
        "outputId": "ba2440e1-67db-4f38-d9da-af8e7ba39e56",
        "colab": {
          "base_uri": "https://localhost:8080/",
          "height": 472
        }
      },
      "execution_count": null,
      "outputs": [
        {
          "output_type": "display_data",
          "data": {
            "text/plain": [
              "<Figure size 640x480 with 1 Axes>"
            ],
            "image/png": "[encoded data removed]"
          },
          "metadata": {}
        }
      ]
    },
    {
      "cell_type": "code",
      "source": [
        "# model4\n",
        "class ConvNet(nn.Module):\n",
        "    def __init__(self, input_len):\n",
        "        super().__init__()\n",
        "\n",
        "        self.conv1 = nn.Conv1d(1, 32, kernel_size=3)\n",
        "        self.bn1 = nn.BatchNorm1d(32)\n",
        "        self.conv2 = nn.Conv1d(32, 64, kernel_size=3)\n",
        "        self.bn2 = nn.BatchNorm1d(64)\n",
        "        self.pool = nn.MaxPool1d(2)\n",
        "        self.fc1 = nn.Linear(64 * (((input_len - 2) // 2 - 2) // 2), 128)\n",
        "        self.fc2 = nn.Linear(128, 8)\n",
        "\n",
        "    def forward(self, x):\n",
        "        x = self.pool(F.relu(self.bn1(self.conv1(x))))\n",
        "        x = self.pool(F.relu(self.bn2(self.conv2(x))))\n",
        "        x = torch.flatten(x, 1)\n",
        "        x = F.relu(self.fc1(x))\n",
        "        x = self.fc2(x)\n",
        "        return x\n",
        "\n",
        "input_len = 30  # input_len is the n_mfcc\n",
        "model4 = ConvNet(input_len).to(device)"
      ],
      "metadata": {
        "id": "7t2N08IJiPDO"
      },
      "execution_count": null,
      "outputs": []
    },
    {
      "cell_type": "code",
      "source": [
        "train_history, test_history = [], []\n",
        "train(model4, k_epochs = 30)"
      ],
      "metadata": {
        "id": "y8vz4S3oiR0t",
        "outputId": "f3cfeecb-f52d-44a8-a790-7c66557f359c",
        "colab": {
          "base_uri": "https://localhost:8080/"
        }
      },
      "execution_count": null,
      "outputs": [
        {
          "output_type": "stream",
          "name": "stdout",
          "text": [
            "[epoch: 1, batches:    40], loss: 2.007, accuracy:0.178\n",
            "[epoch: 2, batches:    40], loss: 1.783, accuracy:0.299\n",
            "[epoch: 3, batches:    40], loss: 1.599, accuracy:0.415\n",
            "[epoch: 4, batches:    40], loss: 1.517, accuracy:0.448\n",
            "[epoch: 5, batches:    40], loss: 1.455, accuracy:0.463\n",
            "[epoch: 6, batches:    40], loss: 1.348, accuracy:0.512\n",
            "[epoch: 7, batches:    40], loss: 1.281, accuracy:0.538\n",
            "[epoch: 8, batches:    40], loss: 1.185, accuracy:0.587\n",
            "[epoch: 9, batches:    40], loss: 1.148, accuracy:0.566\n",
            "[epoch: 10, batches:    40], loss: 1.070, accuracy:0.602\n",
            "[epoch: 11, batches:    40], loss: 1.026, accuracy:0.628\n",
            "[epoch: 12, batches:    40], loss: 0.870, accuracy:0.678\n",
            "[epoch: 13, batches:    40], loss: 0.885, accuracy:0.680\n",
            "[epoch: 14, batches:    40], loss: 0.775, accuracy:0.710\n",
            "[epoch: 15, batches:    40], loss: 0.789, accuracy:0.720\n",
            "[epoch: 16, batches:    40], loss: 0.738, accuracy:0.738\n",
            "[epoch: 17, batches:    40], loss: 0.677, accuracy:0.767\n",
            "[epoch: 18, batches:    40], loss: 0.643, accuracy:0.777\n",
            "[epoch: 19, batches:    40], loss: 0.593, accuracy:0.799\n",
            "[epoch: 20, batches:    40], loss: 0.602, accuracy:0.791\n",
            "[epoch: 21, batches:    40], loss: 0.578, accuracy:0.799\n",
            "[epoch: 22, batches:    40], loss: 0.498, accuracy:0.823\n",
            "[epoch: 23, batches:    40], loss: 0.480, accuracy:0.849\n",
            "[epoch: 24, batches:    40], loss: 0.415, accuracy:0.880\n",
            "[epoch: 25, batches:    40], loss: 0.364, accuracy:0.892\n",
            "[epoch: 26, batches:    40], loss: 0.408, accuracy:0.854\n",
            "[epoch: 27, batches:    40], loss: 0.350, accuracy:0.886\n",
            "[epoch: 28, batches:    40], loss: 0.311, accuracy:0.905\n",
            "[epoch: 29, batches:    40], loss: 0.307, accuracy:0.912\n",
            "[epoch: 30, batches:    40], loss: 0.278, accuracy:0.912\n",
            "Finished Training\n"
          ]
        }
      ]
    },
    {
      "cell_type": "code",
      "source": [
        "plot_accuracy(train_history, test_history, 30)"
      ],
      "metadata": {
        "id": "f3bVaDadosCA",
        "outputId": "24778942-9a32-4431-8c40-e9252f5acb84",
        "colab": {
          "base_uri": "https://localhost:8080/",
          "height": 472
        }
      },
      "execution_count": null,
      "outputs": [
        {
          "output_type": "display_data",
          "data": {
            "text/plain": [
              "<Figure size 640x480 with 1 Axes>"
            ],
            "image/png": "[encoded data removed]"
          },
          "metadata": {}
        }
      ]
    },
    {
      "cell_type": "code",
      "source": [
        "# 1d model 1\n",
        "\n",
        "class ConvNet(nn.Module):\n",
        "  def __init__(self):\n",
        "    super().__init__()\n",
        "\n",
        "    self.conv1 = nn.Conv1d(1, 32, kernel_size=3)\n",
        "    self.bn1 = nn.BatchNorm1d(32)\n",
        "    self.conv2 = nn.Conv1d(32, 64, kernel_size=3)\n",
        "    self.bn2 = nn.BatchNorm1d(64)\n",
        "    self.pool = nn.MaxPool1d(2)\n",
        "    self.fc1 = nn.Linear(64, 32)\n",
        "    self.fc2 = nn.Linear(32, 16)\n",
        "    self.fc3 = nn.Linear(16, 8)\n",
        "  \n",
        "  def forward(self, x):\n",
        "    x = self.pool(F.relu(self.bn1(self.conv1(x))))\n",
        "    x = self.pool(F.relu(self.bn2(self.conv2(x))))\n",
        "    x = torch.flatten(x, 1) \n",
        "    x = F.relu(self.fc1(x))\n",
        "    x = F.relu(self.fc2(x))\n",
        "    x = self.fc3(x)\n",
        "    return x\n",
        "\n",
        "model5 = ConvNet().to(device)"
      ],
      "metadata": {
        "id": "LhQB3pbaprwY"
      },
      "execution_count": null,
      "outputs": []
    },
    {
      "cell_type": "code",
      "source": [
        "train_history, test_history = [], []\n",
        "train(model5, k_epochs = 30)"
      ],
      "metadata": {
        "id": "nSf_jOwFpvpw",
        "outputId": "d03815db-48eb-4741-979c-8b67e03014a1",
        "colab": {
          "base_uri": "https://localhost:8080/"
        }
      },
      "execution_count": null,
      "outputs": [
        {
          "output_type": "stream",
          "name": "stdout",
          "text": [
            "[epoch: 1, batches:    40], loss: 2.009, accuracy:0.194\n",
            "[epoch: 2, batches:    40], loss: 2.011, accuracy:0.189\n",
            "[epoch: 3, batches:    40], loss: 2.023, accuracy:0.165\n",
            "[epoch: 4, batches:    40], loss: 2.016, accuracy:0.174\n",
            "[epoch: 5, batches:    40], loss: 1.997, accuracy:0.192\n",
            "[epoch: 6, batches:    40], loss: 1.986, accuracy:0.215\n",
            "[epoch: 7, batches:    40], loss: 1.995, accuracy:0.192\n",
            "[epoch: 8, batches:    40], loss: 1.989, accuracy:0.192\n",
            "[epoch: 9, batches:    40], loss: 1.990, accuracy:0.192\n",
            "[epoch: 10, batches:    40], loss: 1.987, accuracy:0.210\n",
            "[epoch: 11, batches:    40], loss: 2.010, accuracy:0.192\n",
            "[epoch: 12, batches:    40], loss: 1.971, accuracy:0.206\n",
            "[epoch: 13, batches:    40], loss: 1.975, accuracy:0.207\n",
            "[epoch: 14, batches:    40], loss: 1.982, accuracy:0.226\n",
            "[epoch: 15, batches:    40], loss: 1.973, accuracy:0.212\n",
            "[epoch: 16, batches:    40], loss: 1.959, accuracy:0.226\n",
            "[epoch: 17, batches:    40], loss: 1.962, accuracy:0.198\n",
            "[epoch: 18, batches:    40], loss: 1.982, accuracy:0.192\n",
            "[epoch: 19, batches:    40], loss: 1.962, accuracy:0.194\n",
            "[epoch: 20, batches:    40], loss: 1.974, accuracy:0.226\n",
            "[epoch: 21, batches:    40], loss: 1.959, accuracy:0.209\n",
            "[epoch: 22, batches:    40], loss: 1.944, accuracy:0.232\n",
            "[epoch: 23, batches:    40], loss: 1.946, accuracy:0.236\n",
            "[epoch: 24, batches:    40], loss: 1.933, accuracy:0.248\n",
            "[epoch: 25, batches:    40], loss: 1.938, accuracy:0.242\n",
            "[epoch: 26, batches:    40], loss: 1.922, accuracy:0.221\n",
            "[epoch: 27, batches:    40], loss: 1.926, accuracy:0.241\n",
            "[epoch: 28, batches:    40], loss: 1.929, accuracy:0.221\n",
            "[epoch: 29, batches:    40], loss: 1.921, accuracy:0.248\n",
            "[epoch: 30, batches:    40], loss: 1.932, accuracy:0.229\n",
            "Finished Training\n"
          ]
        }
      ]
    },
    {
      "cell_type": "code",
      "source": [
        "plot_accuracy(train_history, test_history, 30)"
      ],
      "metadata": {
        "id": "kjQZ2fxjp24G",
        "outputId": "0584b36d-6e93-49db-e12c-e0b0c217f3fd",
        "colab": {
          "base_uri": "https://localhost:8080/",
          "height": 472
        }
      },
      "execution_count": null,
      "outputs": [
        {
          "output_type": "display_data",
          "data": {
            "text/plain": [
              "<Figure size 640x480 with 1 Axes>"
            ],
            "image/png": "[encoded data removed]"
          },
          "metadata": {}
        }
      ]
    }
  ],
  "metadata": {
    "colab": {
      "provenance": [],
      "gpuType": "T4",
      "include_colab_link": true
    },
    "kernelspec": {
      "display_name": "Python 3",
      "name": "python3"
    },
    "language_info": {
      "codemirror_mode": {
        "name": "ipython",
        "version": 3
      },
      "file_extension": ".py",
      "mimetype": "text/x-python",
      "name": "python",
      "nbconvert_exporter": "python",
      "pygments_lexer": "ipython3",
      "version": "3.9.16"
    },
    "accelerator": "GPU",
    "gpuClass": "standard"
  },
  "nbformat": 4,
  "nbformat_minor": 0
}